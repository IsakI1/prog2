{
  "cells": [
    {
      "cell_type": "code",
      "execution_count": 1,
      "metadata": {
        "tags": [],
        "id": "ro6BXWJE-Ncq",
        "outputId": "ffd33f25-ac89-42ac-e78d-5a8da876030c",
        "colab": {
          "base_uri": "https://localhost:8080/"
        }
      },
      "outputs": [
        {
          "output_type": "stream",
          "name": "stderr",
          "text": [
            "<ipython-input-1-5ba4b85d2fd1>:8: DeprecationWarning: `set_matplotlib_formats` is deprecated since IPython 7.23, directly use `matplotlib_inline.backend_inline.set_matplotlib_formats()`\n",
            "  set_matplotlib_formats('svg') # Output as svg. Else you can try png\n"
          ]
        }
      ],
      "source": [
        "import numpy as np\n",
        "import pandas as pd\n",
        "import sklearn.linear_model as skl_lm\n",
        "import matplotlib.pyplot as plt\n",
        "\n",
        "# To get nicer plots\n",
        "from IPython.display import set_matplotlib_formats\n",
        "set_matplotlib_formats('svg') # Output as svg. Else you can try png\n",
        "from IPython.core.pylabtools import figsize\n",
        "figsize(10, 6) # Width and hight\n",
        "np.set_printoptions(precision=3);"
      ]
    },
    {
      "cell_type": "markdown",
      "metadata": {
        "tags": [],
        "id": "rkzgOy_N-Ncq"
      },
      "source": [
        "# 2.1 Problem 1.1 using matrix multiplications\n",
        "Implement the linear regression problems from Exercises 1.1(a), (b), (c), (d) and (e) in Python using matrix multiplications.\n",
        "A matrix\n",
        "$$\n",
        "\\textbf{X} =  \\begin{bmatrix}\n",
        "    1 & 2 \\\\\n",
        "    1 & 3 \\\\\n",
        "\\end{bmatrix}\n",
        "$$\n",
        "can be constructed with numpy as `X=np.array([[1, 2], [1, 3]])` (Make sure that `numpy` has been imported. Here it is imported as `np`). The commands for matrix multiplication and transpose in `numpy` are `@` or `np.matmul` and `.T` or `np.transpose()` respectively. A system of linear equations $\\textbf{A}x=\\textbf{b}$ can be solved using `np.linalg.solve(A,b)`.  A $k \\times k$ unit matrix can be constructed with `np.eye(k)`.\n"
      ]
    },
    {
      "cell_type": "markdown",
      "metadata": {
        "tags": [],
        "id": "G4KPUi6M-Ncr"
      },
      "source": [
        "## (a) <a id='2.1-a'></a>\n",
        "Assume that you record a scalar input $x$ and a scalar output $y$. First, you record $x_1 = 2, y_1 = -1$, and thereafter $x_2 = 3, y_2 = 1$. Assume a linear regression model $y = \\theta_0 + \\theta_1 x + \\epsilon$ and learn the parameters with maximum likelihood $\\widehat{\\boldsymbol{\\theta}}$ with the assumption $\\epsilon \\sim \\mathcal{N}(0,\\sigma_\\epsilon^2)$. Use the model to predict the output for the test input $x_\\star = 4$, and plot the data and the model."
      ]
    },
    {
      "cell_type": "code",
      "execution_count": 2,
      "metadata": {
        "tags": [],
        "id": "Qtaap5WK-Ncr",
        "outputId": "4263f6b8-061f-4964-9c29-8fe791372897",
        "colab": {
          "base_uri": "https://localhost:8080/"
        }
      },
      "outputs": [
        {
          "output_type": "stream",
          "name": "stdout",
          "text": [
            "[-5.  2.]\n"
          ]
        }
      ],
      "source": [
        "X = np.array([[1, 2], [1, 3]])\n",
        "y = np.array([-1, 1])\n",
        "theta = np.linalg.solve(X.T @ X, X.T @ y)\n",
        "print(theta)"
      ]
    },
    {
      "cell_type": "markdown",
      "metadata": {
        "tags": [],
        "id": "-Wqwyeaq-Ncr"
      },
      "source": [
        "## (b) <a id='2.1-b'></a>\n",
        "\n",
        "Now, assume you have made a third observation $y_3 = 2$ for $x_3 = 4$ (is that what you predicted in [(a)](#2.1-a)?). Update the parameters $\\widehat{\\boldsymbol{\\theta}}$ to all 3 data samples, add the new model to the plot (together with the new data point) and find the prediction for $x_\\star = 5$."
      ]
    },
    {
      "cell_type": "code",
      "execution_count": 3,
      "metadata": {
        "tags": [],
        "id": "Kdcd64fV-Ncs",
        "outputId": "d98262be-849f-42c9-d007-24fc0951191c",
        "colab": {
          "base_uri": "https://localhost:8080/"
        }
      },
      "outputs": [
        {
          "output_type": "stream",
          "name": "stdout",
          "text": [
            "[-3.833  1.5  ]\n"
          ]
        }
      ],
      "source": [
        "X = np.array([[1, 2], [1, 3],[1,4]])\n",
        "y = np.array([-1, 1, 2])\n",
        "theta = np.linalg.solve(X.T @ X, X.T @ y)\n",
        "print(theta)"
      ]
    },
    {
      "cell_type": "markdown",
      "metadata": {
        "tags": [],
        "id": "SGRlS1cj-Ncs"
      },
      "source": [
        "## (c) <a id='2.1-c'></a>\n",
        "Repeat [(b)](#2.1-b), but this time using a model without intercept term, i.e., $y = \\theta_1x + \\epsilon$."
      ]
    },
    {
      "cell_type": "code",
      "execution_count": 5,
      "metadata": {
        "tags": [],
        "id": "QwAaNKfV-Ncs",
        "outputId": "7d3fcd0b-a512-49f3-d597-2ee8ce4c8b27",
        "colab": {
          "base_uri": "https://localhost:8080/"
        }
      },
      "outputs": [
        {
          "output_type": "stream",
          "name": "stdout",
          "text": [
            "[0.31]\n"
          ]
        }
      ],
      "source": [
        "X = np.array([[2],[3],[4]])\n",
        "y = np.array([-1, 1, 2])\n",
        "theta = np.linalg.solve(X.T @ X, X.T @ y)\n",
        "print(theta)"
      ]
    },
    {
      "cell_type": "markdown",
      "metadata": {
        "tags": [],
        "id": "H6X3trcE-Ncs"
      },
      "source": [
        "## (d) <a id='2.1-d'></a>\n",
        "Repeat [(b)](#2.1-b), but this time using Ridge Regression with $\\gamma=1$ instead."
      ]
    },
    {
      "cell_type": "code",
      "execution_count": 8,
      "metadata": {
        "tags": [],
        "id": "WdOHedUW-Ncs",
        "outputId": "aa92e90b-aab8-40e8-f16d-0fc27a814f47",
        "colab": {
          "base_uri": "https://localhost:8080/"
        }
      },
      "outputs": [
        {
          "output_type": "stream",
          "name": "stdout",
          "text": [
            "[-0.538  0.462]\n"
          ]
        }
      ],
      "source": [
        "X = np.array([[1, 2], [1, 3],[1,4]])\n",
        "y = np.array([-1, 1, 2])\n",
        "theta = np.linalg.solve(X.T @ X + 1*np.eye(2), X.T @ y)\n",
        "print(theta)"
      ]
    },
    {
      "cell_type": "markdown",
      "metadata": {
        "tags": [],
        "id": "RF45olF7-Ncs"
      },
      "source": [
        "## (e) <a id='(e)'></a>\n",
        "You realize that there are actually _two_ output variables in the problem you are studying. In total, you have made the following observations:\n",
        "\n",
        "| sample | input $x$ | first output $y_1$ | second output $y_2$ |\n",
        "|:------:|:---------:|:------------------:|:-------------------:|\n",
        "| (1)    | 2         | -1                 | 0                   |\n",
        "| (2)    | 3         | 1                  | 2                   |\n",
        "| (3)    | 4         | 2                  | -1                  |\n",
        "\n",
        "You want to model this as a linear regression with multidimensional outputs (without regularization), i.e.,\n",
        "$$\\begin{align}\n",
        "    y_1 &= \\theta_{01}+\\theta_{11}x + \\epsilon_1\\\\\n",
        "    y_2 &= \\theta_{02}+\\theta_{12}x + \\epsilon_2\n",
        "\\end{align}$$\n",
        "By introducing, for the general case of $p$ inputs and $q$ outputs, the matrices\n",
        "$$\\begin{align}\n",
        "    \\underbrace{\\begin{bmatrix}\n",
        "        y_{11} & \\cdots & y_{1q} \\\\\n",
        "        y_{21} & \\cdots & y_{2q} \\\\\n",
        "        \\vdots & & \\vdots \\\\\n",
        "        y_{n1} & \\cdots & y_{nq}\n",
        "    \\end{bmatrix}}_{\\boldsymbol{\\mathrm{Y}}}\n",
        "    &=\n",
        "    \\underbrace{\\begin{bmatrix}\n",
        "        1 & x_{11} & x_{12} & \\cdots & x_{1p} \\\\\n",
        "        1 & x_{21} & x_{22} & \\cdots & x_{2p} \\\\\n",
        "        \\vdots     & \\vdots & \\vdots & \\vdots \\\\\n",
        "        1 & x_{n1} & x_{n2} & \\cdots & x_{np} \\\\\n",
        "    \\end{bmatrix}}_{\\boldsymbol{\\mathrm{X}}}\n",
        "    \\underbrace{\\begin{bmatrix}\n",
        "        \\theta_{01} & \\theta_{02} & \\cdots & \\theta_{0q} \\\\\n",
        "        \\theta_{11} & \\theta_{12} & \\cdots & \\theta_{1q} \\\\\n",
        "        \\theta_{21} & \\theta_{22} & \\cdots & \\theta_{2q} \\\\\n",
        "        \\vdots      & \\vdots      &        & \\vdots      \\\\\n",
        "        \\theta_{p1} & \\theta_{p2} & \\cdots & \\theta_{pq}\n",
        "    \\end{bmatrix}}_{\\boldsymbol{\\mathrm{\\Theta}}} + \\boldsymbol{\\epsilon}\n",
        "\\end{align}$$\n",
        "\n",
        "try to make an educated guess how the normal equations can be generalized to the multidemsional output case. (A more thorough derivation is found in problem 1.5). Use your findings to compute the least square solution $\\widehat{\\boldsymbol{\\mathrm{\\Theta}}}$ to the problem now including both the first output $y_1$ and the second output $y_2$."
      ]
    },
    {
      "cell_type": "code",
      "execution_count": 11,
      "metadata": {
        "tags": [],
        "id": "p4AnRUoG-Nct",
        "outputId": "9cf15837-c124-4eae-dd31-96d5f1a7a769",
        "colab": {
          "base_uri": "https://localhost:8080/"
        }
      },
      "outputs": [
        {
          "output_type": "stream",
          "name": "stdout",
          "text": [
            "[-3.833  1.5  ]\n",
            "[ 1.833 -0.5  ]\n"
          ]
        }
      ],
      "source": [
        "X1 = np.array([[1, 2], [1, 3],[1, 4]])\n",
        "y1 = np.array([-1, 1, 2])\n",
        "y2 = np.array([0, 2, -1])\n",
        "theta1 = np.linalg.solve(X1.T @ X1, X1.T @ y1)\n",
        "theta2 = np.linalg.solve(X1.T @ X1, X1.T @ y2)\n",
        "print(theta1)\n",
        "print(theta2)"
      ]
    },
    {
      "cell_type": "markdown",
      "metadata": {
        "tags": [],
        "id": "R6zAMIQN-Nct"
      },
      "source": [
        "# 2.2 Problem 1.1 using the linear_model.LinearRegression() command\n",
        "Implement the linear regression problem from Exercises 1.1(b) and (c) using the command `LinearRegression()` from `sklearn.linear_model`."
      ]
    },
    {
      "cell_type": "markdown",
      "metadata": {
        "tags": [],
        "id": "iH_O9hsc-Nct"
      },
      "source": [
        "## (b)\n",
        "[See above.](#2.1-b)"
      ]
    },
    {
      "cell_type": "code",
      "execution_count": 18,
      "metadata": {
        "tags": [],
        "id": "T181klWj-Nct",
        "outputId": "c9dd002c-a6d7-409a-c58c-289ae7a81f67",
        "colab": {
          "base_uri": "https://localhost:8080/"
        }
      },
      "outputs": [
        {
          "output_type": "stream",
          "name": "stdout",
          "text": [
            "-3.8333333333333317 [0.  1.5]\n"
          ]
        }
      ],
      "source": [
        "import sklearn.linear_model as linear_model\n",
        "X = np.array([[1, 2], [1, 3],[1, 4]])\n",
        "y1 = np.array([-1, 1, 2])\n",
        "\n",
        "lr = linear_model.LinearRegression()\n",
        "lr.fit(X=np.column_stack([X]),y=y1)\n",
        "print(lr.intercept_, lr.coef_)"
      ]
    },
    {
      "cell_type": "markdown",
      "metadata": {
        "tags": [],
        "id": "w8jhEVEV-Nct"
      },
      "source": [
        "## (c)\n",
        "[See above.](#2.1-c)"
      ]
    },
    {
      "cell_type": "code",
      "execution_count": 17,
      "metadata": {
        "tags": [],
        "id": "3Kbr2jA1-Nct",
        "outputId": "7e940ec2-11fb-44aa-9b55-34f3d373c6d2",
        "colab": {
          "base_uri": "https://localhost:8080/"
        }
      },
      "outputs": [
        {
          "output_type": "stream",
          "name": "stdout",
          "text": [
            "-3.8333333333333326 [1.5]\n"
          ]
        }
      ],
      "source": [
        "X = np.array([[2], [ 3],[4]])\n",
        "lr.fit(X=np.column_stack([X]),y=y1)\n",
        "print(lr.intercept_, lr.coef_)"
      ]
    },
    {
      "cell_type": "markdown",
      "metadata": {
        "tags": [],
        "id": "k73gi1FY-Nct"
      },
      "source": [
        "# 2.3 The Auto data set"
      ]
    },
    {
      "cell_type": "markdown",
      "metadata": {
        "tags": [],
        "id": "1wVUwz1X-Nct"
      },
      "source": [
        "## (a)\n",
        "Load the dataset `'data/auto.csv'`. Familiarize yourself with the dataset using `auto.info()`. The dataset:  \n",
        "\n",
        "**Description**:  Gas mileage, horsepower, and other information for 392 vehicles.  \n",
        "**Format**: A data frame with 392 observations on the following 9 variables.  \n",
        "\n",
        "- `mpg`: miles per gallon  \n",
        "- `cylinders`: Number of cylinders between 4 and 8\n",
        "- `displacement`: Engine displacement (cu. inches)\n",
        "- `horsepower`: Engine horsepower\n",
        "- `weight`: Vehicle weight (lbs.)\n",
        "- `acceleration`: Time to accelerate from 0 to 60 mph (sec.)\n",
        "- `year`: Model year (modulo 100)\n",
        "- `origin`: Origin of car (1. American, 2. European, 3. Japanese)\n",
        "- `name`: Vehicle name  \n",
        "*The orginal data contained 408 observations but 16 observations with missing values were removed.*\n"
      ]
    },
    {
      "cell_type": "code",
      "execution_count": 21,
      "metadata": {
        "tags": [],
        "id": "I62Ga9Hs-Nct"
      },
      "outputs": [],
      "source": [
        "# Load library\n",
        "# The null values are '?' in the dataset. `na_values=\"?\"` recognize the null values.\n",
        "# There are null values that will mess up the computation. Easier to drop them by `dropna()`.\n",
        "\n",
        "# url = 'data/auto.csv'\n",
        "url = 'https://uu-sml.github.io/course-sml-public/data/auto.csv'\n",
        "\n",
        "auto = pd.read_csv(url, na_values='?').dropna()"
      ]
    },
    {
      "cell_type": "code",
      "execution_count": 24,
      "metadata": {
        "tags": [],
        "id": "81j2kL3t-Ncu",
        "outputId": "4e843371-44dc-4db9-b4b8-7c5005dcaf88",
        "colab": {
          "base_uri": "https://localhost:8080/",
          "height": 578
        }
      },
      "outputs": [
        {
          "output_type": "stream",
          "name": "stdout",
          "text": [
            "<class 'pandas.core.frame.DataFrame'>\n",
            "Index: 392 entries, 0 to 396\n",
            "Data columns (total 9 columns):\n",
            " #   Column        Non-Null Count  Dtype  \n",
            "---  ------        --------------  -----  \n",
            " 0   mpg           392 non-null    float64\n",
            " 1   cylinders     392 non-null    int64  \n",
            " 2   displacement  392 non-null    float64\n",
            " 3   horsepower    392 non-null    float64\n",
            " 4   weight        392 non-null    int64  \n",
            " 5   acceleration  392 non-null    float64\n",
            " 6   year          392 non-null    int64  \n",
            " 7   origin        392 non-null    int64  \n",
            " 8   name          392 non-null    object \n",
            "dtypes: float64(4), int64(4), object(1)\n",
            "memory usage: 38.7+ KB\n"
          ]
        },
        {
          "output_type": "execute_result",
          "data": {
            "text/plain": [
              "              mpg   cylinders  displacement  horsepower       weight  \\\n",
              "count  392.000000  392.000000    392.000000  392.000000   392.000000   \n",
              "mean    23.445918    5.471939    194.411990  104.469388  2977.584184   \n",
              "std      7.805007    1.705783    104.644004   38.491160   849.402560   \n",
              "min      9.000000    3.000000     68.000000   46.000000  1613.000000   \n",
              "25%     17.000000    4.000000    105.000000   75.000000  2225.250000   \n",
              "50%     22.750000    4.000000    151.000000   93.500000  2803.500000   \n",
              "75%     29.000000    8.000000    275.750000  126.000000  3614.750000   \n",
              "max     46.600000    8.000000    455.000000  230.000000  5140.000000   \n",
              "\n",
              "       acceleration        year      origin  \n",
              "count    392.000000  392.000000  392.000000  \n",
              "mean      15.541327   75.979592    1.576531  \n",
              "std        2.758864    3.683737    0.805518  \n",
              "min        8.000000   70.000000    1.000000  \n",
              "25%       13.775000   73.000000    1.000000  \n",
              "50%       15.500000   76.000000    1.000000  \n",
              "75%       17.025000   79.000000    2.000000  \n",
              "max       24.800000   82.000000    3.000000  "
            ],
            "text/html": [
              "\n",
              "  <div id=\"df-e6b3cb81-0d54-49cb-b613-b9e8321a9729\" class=\"colab-df-container\">\n",
              "    <div>\n",
              "<style scoped>\n",
              "    .dataframe tbody tr th:only-of-type {\n",
              "        vertical-align: middle;\n",
              "    }\n",
              "\n",
              "    .dataframe tbody tr th {\n",
              "        vertical-align: top;\n",
              "    }\n",
              "\n",
              "    .dataframe thead th {\n",
              "        text-align: right;\n",
              "    }\n",
              "</style>\n",
              "<table border=\"1\" class=\"dataframe\">\n",
              "  <thead>\n",
              "    <tr style=\"text-align: right;\">\n",
              "      <th></th>\n",
              "      <th>mpg</th>\n",
              "      <th>cylinders</th>\n",
              "      <th>displacement</th>\n",
              "      <th>horsepower</th>\n",
              "      <th>weight</th>\n",
              "      <th>acceleration</th>\n",
              "      <th>year</th>\n",
              "      <th>origin</th>\n",
              "    </tr>\n",
              "  </thead>\n",
              "  <tbody>\n",
              "    <tr>\n",
              "      <th>count</th>\n",
              "      <td>392.000000</td>\n",
              "      <td>392.000000</td>\n",
              "      <td>392.000000</td>\n",
              "      <td>392.000000</td>\n",
              "      <td>392.000000</td>\n",
              "      <td>392.000000</td>\n",
              "      <td>392.000000</td>\n",
              "      <td>392.000000</td>\n",
              "    </tr>\n",
              "    <tr>\n",
              "      <th>mean</th>\n",
              "      <td>23.445918</td>\n",
              "      <td>5.471939</td>\n",
              "      <td>194.411990</td>\n",
              "      <td>104.469388</td>\n",
              "      <td>2977.584184</td>\n",
              "      <td>15.541327</td>\n",
              "      <td>75.979592</td>\n",
              "      <td>1.576531</td>\n",
              "    </tr>\n",
              "    <tr>\n",
              "      <th>std</th>\n",
              "      <td>7.805007</td>\n",
              "      <td>1.705783</td>\n",
              "      <td>104.644004</td>\n",
              "      <td>38.491160</td>\n",
              "      <td>849.402560</td>\n",
              "      <td>2.758864</td>\n",
              "      <td>3.683737</td>\n",
              "      <td>0.805518</td>\n",
              "    </tr>\n",
              "    <tr>\n",
              "      <th>min</th>\n",
              "      <td>9.000000</td>\n",
              "      <td>3.000000</td>\n",
              "      <td>68.000000</td>\n",
              "      <td>46.000000</td>\n",
              "      <td>1613.000000</td>\n",
              "      <td>8.000000</td>\n",
              "      <td>70.000000</td>\n",
              "      <td>1.000000</td>\n",
              "    </tr>\n",
              "    <tr>\n",
              "      <th>25%</th>\n",
              "      <td>17.000000</td>\n",
              "      <td>4.000000</td>\n",
              "      <td>105.000000</td>\n",
              "      <td>75.000000</td>\n",
              "      <td>2225.250000</td>\n",
              "      <td>13.775000</td>\n",
              "      <td>73.000000</td>\n",
              "      <td>1.000000</td>\n",
              "    </tr>\n",
              "    <tr>\n",
              "      <th>50%</th>\n",
              "      <td>22.750000</td>\n",
              "      <td>4.000000</td>\n",
              "      <td>151.000000</td>\n",
              "      <td>93.500000</td>\n",
              "      <td>2803.500000</td>\n",
              "      <td>15.500000</td>\n",
              "      <td>76.000000</td>\n",
              "      <td>1.000000</td>\n",
              "    </tr>\n",
              "    <tr>\n",
              "      <th>75%</th>\n",
              "      <td>29.000000</td>\n",
              "      <td>8.000000</td>\n",
              "      <td>275.750000</td>\n",
              "      <td>126.000000</td>\n",
              "      <td>3614.750000</td>\n",
              "      <td>17.025000</td>\n",
              "      <td>79.000000</td>\n",
              "      <td>2.000000</td>\n",
              "    </tr>\n",
              "    <tr>\n",
              "      <th>max</th>\n",
              "      <td>46.600000</td>\n",
              "      <td>8.000000</td>\n",
              "      <td>455.000000</td>\n",
              "      <td>230.000000</td>\n",
              "      <td>5140.000000</td>\n",
              "      <td>24.800000</td>\n",
              "      <td>82.000000</td>\n",
              "      <td>3.000000</td>\n",
              "    </tr>\n",
              "  </tbody>\n",
              "</table>\n",
              "</div>\n",
              "    <div class=\"colab-df-buttons\">\n",
              "\n",
              "  <div class=\"colab-df-container\">\n",
              "    <button class=\"colab-df-convert\" onclick=\"convertToInteractive('df-e6b3cb81-0d54-49cb-b613-b9e8321a9729')\"\n",
              "            title=\"Convert this dataframe to an interactive table.\"\n",
              "            style=\"display:none;\">\n",
              "\n",
              "  <svg xmlns=\"http://www.w3.org/2000/svg\" height=\"24px\" viewBox=\"0 -960 960 960\">\n",
              "    <path d=\"M120-120v-720h720v720H120Zm60-500h600v-160H180v160Zm220 220h160v-160H400v160Zm0 220h160v-160H400v160ZM180-400h160v-160H180v160Zm440 0h160v-160H620v160ZM180-180h160v-160H180v160Zm440 0h160v-160H620v160Z\"/>\n",
              "  </svg>\n",
              "    </button>\n",
              "\n",
              "  <style>\n",
              "    .colab-df-container {\n",
              "      display:flex;\n",
              "      gap: 12px;\n",
              "    }\n",
              "\n",
              "    .colab-df-convert {\n",
              "      background-color: #E8F0FE;\n",
              "      border: none;\n",
              "      border-radius: 50%;\n",
              "      cursor: pointer;\n",
              "      display: none;\n",
              "      fill: #1967D2;\n",
              "      height: 32px;\n",
              "      padding: 0 0 0 0;\n",
              "      width: 32px;\n",
              "    }\n",
              "\n",
              "    .colab-df-convert:hover {\n",
              "      background-color: #E2EBFA;\n",
              "      box-shadow: 0px 1px 2px rgba(60, 64, 67, 0.3), 0px 1px 3px 1px rgba(60, 64, 67, 0.15);\n",
              "      fill: #174EA6;\n",
              "    }\n",
              "\n",
              "    .colab-df-buttons div {\n",
              "      margin-bottom: 4px;\n",
              "    }\n",
              "\n",
              "    [theme=dark] .colab-df-convert {\n",
              "      background-color: #3B4455;\n",
              "      fill: #D2E3FC;\n",
              "    }\n",
              "\n",
              "    [theme=dark] .colab-df-convert:hover {\n",
              "      background-color: #434B5C;\n",
              "      box-shadow: 0px 1px 3px 1px rgba(0, 0, 0, 0.15);\n",
              "      filter: drop-shadow(0px 1px 2px rgba(0, 0, 0, 0.3));\n",
              "      fill: #FFFFFF;\n",
              "    }\n",
              "  </style>\n",
              "\n",
              "    <script>\n",
              "      const buttonEl =\n",
              "        document.querySelector('#df-e6b3cb81-0d54-49cb-b613-b9e8321a9729 button.colab-df-convert');\n",
              "      buttonEl.style.display =\n",
              "        google.colab.kernel.accessAllowed ? 'block' : 'none';\n",
              "\n",
              "      async function convertToInteractive(key) {\n",
              "        const element = document.querySelector('#df-e6b3cb81-0d54-49cb-b613-b9e8321a9729');\n",
              "        const dataTable =\n",
              "          await google.colab.kernel.invokeFunction('convertToInteractive',\n",
              "                                                    [key], {});\n",
              "        if (!dataTable) return;\n",
              "\n",
              "        const docLinkHtml = 'Like what you see? Visit the ' +\n",
              "          '<a target=\"_blank\" href=https://colab.research.google.com/notebooks/data_table.ipynb>data table notebook</a>'\n",
              "          + ' to learn more about interactive tables.';\n",
              "        element.innerHTML = '';\n",
              "        dataTable['output_type'] = 'display_data';\n",
              "        await google.colab.output.renderOutput(dataTable, element);\n",
              "        const docLink = document.createElement('div');\n",
              "        docLink.innerHTML = docLinkHtml;\n",
              "        element.appendChild(docLink);\n",
              "      }\n",
              "    </script>\n",
              "  </div>\n",
              "\n",
              "\n",
              "<div id=\"df-385a1457-fcd2-48d4-a62b-bce0e7474a6e\">\n",
              "  <button class=\"colab-df-quickchart\" onclick=\"quickchart('df-385a1457-fcd2-48d4-a62b-bce0e7474a6e')\"\n",
              "            title=\"Suggest charts\"\n",
              "            style=\"display:none;\">\n",
              "\n",
              "<svg xmlns=\"http://www.w3.org/2000/svg\" height=\"24px\"viewBox=\"0 0 24 24\"\n",
              "     width=\"24px\">\n",
              "    <g>\n",
              "        <path d=\"M19 3H5c-1.1 0-2 .9-2 2v14c0 1.1.9 2 2 2h14c1.1 0 2-.9 2-2V5c0-1.1-.9-2-2-2zM9 17H7v-7h2v7zm4 0h-2V7h2v10zm4 0h-2v-4h2v4z\"/>\n",
              "    </g>\n",
              "</svg>\n",
              "  </button>\n",
              "\n",
              "<style>\n",
              "  .colab-df-quickchart {\n",
              "      --bg-color: #E8F0FE;\n",
              "      --fill-color: #1967D2;\n",
              "      --hover-bg-color: #E2EBFA;\n",
              "      --hover-fill-color: #174EA6;\n",
              "      --disabled-fill-color: #AAA;\n",
              "      --disabled-bg-color: #DDD;\n",
              "  }\n",
              "\n",
              "  [theme=dark] .colab-df-quickchart {\n",
              "      --bg-color: #3B4455;\n",
              "      --fill-color: #D2E3FC;\n",
              "      --hover-bg-color: #434B5C;\n",
              "      --hover-fill-color: #FFFFFF;\n",
              "      --disabled-bg-color: #3B4455;\n",
              "      --disabled-fill-color: #666;\n",
              "  }\n",
              "\n",
              "  .colab-df-quickchart {\n",
              "    background-color: var(--bg-color);\n",
              "    border: none;\n",
              "    border-radius: 50%;\n",
              "    cursor: pointer;\n",
              "    display: none;\n",
              "    fill: var(--fill-color);\n",
              "    height: 32px;\n",
              "    padding: 0;\n",
              "    width: 32px;\n",
              "  }\n",
              "\n",
              "  .colab-df-quickchart:hover {\n",
              "    background-color: var(--hover-bg-color);\n",
              "    box-shadow: 0 1px 2px rgba(60, 64, 67, 0.3), 0 1px 3px 1px rgba(60, 64, 67, 0.15);\n",
              "    fill: var(--button-hover-fill-color);\n",
              "  }\n",
              "\n",
              "  .colab-df-quickchart-complete:disabled,\n",
              "  .colab-df-quickchart-complete:disabled:hover {\n",
              "    background-color: var(--disabled-bg-color);\n",
              "    fill: var(--disabled-fill-color);\n",
              "    box-shadow: none;\n",
              "  }\n",
              "\n",
              "  .colab-df-spinner {\n",
              "    border: 2px solid var(--fill-color);\n",
              "    border-color: transparent;\n",
              "    border-bottom-color: var(--fill-color);\n",
              "    animation:\n",
              "      spin 1s steps(1) infinite;\n",
              "  }\n",
              "\n",
              "  @keyframes spin {\n",
              "    0% {\n",
              "      border-color: transparent;\n",
              "      border-bottom-color: var(--fill-color);\n",
              "      border-left-color: var(--fill-color);\n",
              "    }\n",
              "    20% {\n",
              "      border-color: transparent;\n",
              "      border-left-color: var(--fill-color);\n",
              "      border-top-color: var(--fill-color);\n",
              "    }\n",
              "    30% {\n",
              "      border-color: transparent;\n",
              "      border-left-color: var(--fill-color);\n",
              "      border-top-color: var(--fill-color);\n",
              "      border-right-color: var(--fill-color);\n",
              "    }\n",
              "    40% {\n",
              "      border-color: transparent;\n",
              "      border-right-color: var(--fill-color);\n",
              "      border-top-color: var(--fill-color);\n",
              "    }\n",
              "    60% {\n",
              "      border-color: transparent;\n",
              "      border-right-color: var(--fill-color);\n",
              "    }\n",
              "    80% {\n",
              "      border-color: transparent;\n",
              "      border-right-color: var(--fill-color);\n",
              "      border-bottom-color: var(--fill-color);\n",
              "    }\n",
              "    90% {\n",
              "      border-color: transparent;\n",
              "      border-bottom-color: var(--fill-color);\n",
              "    }\n",
              "  }\n",
              "</style>\n",
              "\n",
              "  <script>\n",
              "    async function quickchart(key) {\n",
              "      const quickchartButtonEl =\n",
              "        document.querySelector('#' + key + ' button');\n",
              "      quickchartButtonEl.disabled = true;  // To prevent multiple clicks.\n",
              "      quickchartButtonEl.classList.add('colab-df-spinner');\n",
              "      try {\n",
              "        const charts = await google.colab.kernel.invokeFunction(\n",
              "            'suggestCharts', [key], {});\n",
              "      } catch (error) {\n",
              "        console.error('Error during call to suggestCharts:', error);\n",
              "      }\n",
              "      quickchartButtonEl.classList.remove('colab-df-spinner');\n",
              "      quickchartButtonEl.classList.add('colab-df-quickchart-complete');\n",
              "    }\n",
              "    (() => {\n",
              "      let quickchartButtonEl =\n",
              "        document.querySelector('#df-385a1457-fcd2-48d4-a62b-bce0e7474a6e button');\n",
              "      quickchartButtonEl.style.display =\n",
              "        google.colab.kernel.accessAllowed ? 'block' : 'none';\n",
              "    })();\n",
              "  </script>\n",
              "</div>\n",
              "\n",
              "    </div>\n",
              "  </div>\n"
            ],
            "application/vnd.google.colaboratory.intrinsic+json": {
              "type": "dataframe",
              "summary": "{\n  \"name\": \"auto\",\n  \"rows\": 8,\n  \"fields\": [\n    {\n      \"column\": \"mpg\",\n      \"properties\": {\n        \"dtype\": \"number\",\n        \"std\": 131.3073847234828,\n        \"min\": 7.805007486571799,\n        \"max\": 392.0,\n        \"num_unique_values\": 8,\n        \"samples\": [\n          23.445918367346938,\n          22.75,\n          392.0\n        ],\n        \"semantic_type\": \"\",\n        \"description\": \"\"\n      }\n    },\n    {\n      \"column\": \"cylinders\",\n      \"properties\": {\n        \"dtype\": \"number\",\n        \"std\": 136.88494671848898,\n        \"min\": 1.7057832474527843,\n        \"max\": 392.0,\n        \"num_unique_values\": 6,\n        \"samples\": [\n          392.0,\n          5.471938775510204,\n          8.0\n        ],\n        \"semantic_type\": \"\",\n        \"description\": \"\"\n      }\n    },\n    {\n      \"column\": \"displacement\",\n      \"properties\": {\n        \"dtype\": \"number\",\n        \"std\": 142.90038032216435,\n        \"min\": 68.0,\n        \"max\": 455.0,\n        \"num_unique_values\": 8,\n        \"samples\": [\n          194.41198979591837,\n          151.0,\n          392.0\n        ],\n        \"semantic_type\": \"\",\n        \"description\": \"\"\n      }\n    },\n    {\n      \"column\": \"horsepower\",\n      \"properties\": {\n        \"dtype\": \"number\",\n        \"std\": 118.66115898346133,\n        \"min\": 38.49115993282855,\n        \"max\": 392.0,\n        \"num_unique_values\": 8,\n        \"samples\": [\n          104.46938775510205,\n          93.5,\n          392.0\n        ],\n        \"semantic_type\": \"\",\n        \"description\": \"\"\n      }\n    },\n    {\n      \"column\": \"weight\",\n      \"properties\": {\n        \"dtype\": \"number\",\n        \"std\": 1537.3621950208644,\n        \"min\": 392.0,\n        \"max\": 5140.0,\n        \"num_unique_values\": 8,\n        \"samples\": [\n          2977.5841836734694,\n          2803.5,\n          392.0\n        ],\n        \"semantic_type\": \"\",\n        \"description\": \"\"\n      }\n    },\n    {\n      \"column\": \"acceleration\",\n      \"properties\": {\n        \"dtype\": \"number\",\n        \"std\": 133.82983176169847,\n        \"min\": 2.7588641191880816,\n        \"max\": 392.0,\n        \"num_unique_values\": 8,\n        \"samples\": [\n          15.541326530612244,\n          15.5,\n          392.0\n        ],\n        \"semantic_type\": \"\",\n        \"description\": \"\"\n      }\n    },\n    {\n      \"column\": \"year\",\n      \"properties\": {\n        \"dtype\": \"number\",\n        \"std\": 118.17309651349842,\n        \"min\": 3.6837365435778318,\n        \"max\": 392.0,\n        \"num_unique_values\": 8,\n        \"samples\": [\n          75.9795918367347,\n          76.0,\n          392.0\n        ],\n        \"semantic_type\": \"\",\n        \"description\": \"\"\n      }\n    },\n    {\n      \"column\": \"origin\",\n      \"properties\": {\n        \"dtype\": \"number\",\n        \"std\": 138.07048932607407,\n        \"min\": 0.805518183418305,\n        \"max\": 392.0,\n        \"num_unique_values\": 6,\n        \"samples\": [\n          392.0,\n          1.5765306122448979,\n          3.0\n        ],\n        \"semantic_type\": \"\",\n        \"description\": \"\"\n      }\n    }\n  ]\n}"
            }
          },
          "metadata": {},
          "execution_count": 24
        }
      ],
      "source": [
        "auto.info()\n",
        "auto.describe()"
      ]
    },
    {
      "cell_type": "markdown",
      "metadata": {
        "tags": [],
        "id": "_ZHV8zXI-Ncu"
      },
      "source": [
        "## (b)\n",
        "Divide the data set randomly into two approximately equally sized subsets, `train` and `test` by generating the random indices using `np.random.choice()`.\n"
      ]
    },
    {
      "cell_type": "code",
      "execution_count": 26,
      "metadata": {
        "tags": [],
        "id": "QuwaQW0R-Ncu"
      },
      "outputs": [],
      "source": [
        "# prompt: Divide the data set randomly into two approximately equally sized subsets, train and test by generating the random indices using np.random.choice().\n",
        "\n",
        "n = len(auto)\n",
        "train_idx = np.random.choice(n, size=int(n/2), replace=False)\n",
        "test_idx = np.array([i for i in range(n) if i not in train_idx])\n",
        "\n",
        "train = auto.iloc[train_idx]\n",
        "test = auto.iloc[test_idx]"
      ]
    },
    {
      "cell_type": "markdown",
      "metadata": {
        "tags": [],
        "id": "LI1j1bkO-Ncu"
      },
      "source": [
        "## (c)\n",
        "Perform linear regression with `mpg` as the output and all other variables except name as input. How well (in terms of root-mean-square-error) does the model perform on test data and training data, respectively?\n"
      ]
    },
    {
      "cell_type": "code",
      "execution_count": 32,
      "metadata": {
        "tags": [],
        "id": "2nIuWpVL-Ncu",
        "outputId": "41db85c3-2de9-4e27-abb3-05399470367e",
        "colab": {
          "base_uri": "https://localhost:8080/",
          "height": 558
        }
      },
      "outputs": [
        {
          "output_type": "stream",
          "name": "stdout",
          "text": [
            "RMSE on training data: 3.29\n",
            "RMSE on test data: 3.38\n"
          ]
        },
        {
          "output_type": "execute_result",
          "data": {
            "text/plain": [
              "[<matplotlib.lines.Line2D at 0x7b5f046038b0>]"
            ]
          },
          "metadata": {},
          "execution_count": 32
        },
        {
          "output_type": "display_data",
          "data": {
            "text/plain": [
              "<Figure size 1000x600 with 1 Axes>"
            ],
            "image/svg+xml": "<?xml version=\"1.0\" encoding=\"utf-8\" standalone=\"no\"?>\n<!DOCTYPE svg PUBLIC \"-//W3C//DTD SVG 1.1//EN\"\n  \"http://www.w3.org/Graphics/SVG/1.1/DTD/svg11.dtd\">\n<svg xmlns:xlink=\"http://www.w3.org/1999/xlink\" width=\"592.125pt\" height=\"363.718125pt\" viewBox=\"0 0 592.125 363.718125\" xmlns=\"http://www.w3.org/2000/svg\" version=\"1.1\">\n <metadata>\n  <rdf:RDF xmlns:dc=\"http://purl.org/dc/elements/1.1/\" xmlns:cc=\"http://creativecommons.org/ns#\" xmlns:rdf=\"http://www.w3.org/1999/02/22-rdf-syntax-ns#\">\n   <cc:Work>\n    <dc:type rdf:resource=\"http://purl.org/dc/dcmitype/StillImage\"/>\n    <dc:date>2024-11-11T12:06:29.589331</dc:date>\n    <dc:format>image/svg+xml</dc:format>\n    <dc:creator>\n     <cc:Agent>\n      <dc:title>Matplotlib v3.8.0, https://matplotlib.org/</dc:title>\n     </cc:Agent>\n    </dc:creator>\n   </cc:Work>\n  </rdf:RDF>\n </metadata>\n <defs>\n  <style type=\"text/css\">*{stroke-linejoin: round; stroke-linecap: butt}</style>\n </defs>\n <g id=\"figure_1\">\n  <g id=\"patch_1\">\n   <path d=\"M 0 363.718125 \nL 592.125 363.718125 \nL 592.125 0 \nL 0 0 \nz\n\" style=\"fill: #ffffff\"/>\n  </g>\n  <g id=\"axes_1\">\n   <g id=\"patch_2\">\n    <path d=\"M 26.925 339.84 \nL 584.925 339.84 \nL 584.925 7.2 \nL 26.925 7.2 \nz\n\" style=\"fill: #ffffff\"/>\n   </g>\n   <g id=\"matplotlib.axis_1\">\n    <g id=\"xtick_1\">\n     <g id=\"line2d_1\">\n      <defs>\n       <path id=\"me9ba34f350\" d=\"M 0 0 \nL 0 3.5 \n\" style=\"stroke: #000000; stroke-width: 0.8\"/>\n      </defs>\n      <g>\n       <use xlink:href=\"#me9ba34f350\" x=\"65.779932\" y=\"339.84\" style=\"stroke: #000000; stroke-width: 0.8\"/>\n      </g>\n     </g>\n     <g id=\"text_1\">\n      <!-- 10 -->\n      <g transform=\"translate(59.417432 354.438437) scale(0.1 -0.1)\">\n       <defs>\n        <path id=\"DejaVuSans-31\" d=\"M 794 531 \nL 1825 531 \nL 1825 4091 \nL 703 3866 \nL 703 4441 \nL 1819 4666 \nL 2450 4666 \nL 2450 531 \nL 3481 531 \nL 3481 0 \nL 794 0 \nL 794 531 \nz\n\" transform=\"scale(0.015625)\"/>\n        <path id=\"DejaVuSans-30\" d=\"M 2034 4250 \nQ 1547 4250 1301 3770 \nQ 1056 3291 1056 2328 \nQ 1056 1369 1301 889 \nQ 1547 409 2034 409 \nQ 2525 409 2770 889 \nQ 3016 1369 3016 2328 \nQ 3016 3291 2770 3770 \nQ 2525 4250 2034 4250 \nz\nM 2034 4750 \nQ 2819 4750 3233 4129 \nQ 3647 3509 3647 2328 \nQ 3647 1150 3233 529 \nQ 2819 -91 2034 -91 \nQ 1250 -91 836 529 \nQ 422 1150 422 2328 \nQ 422 3509 836 4129 \nQ 1250 4750 2034 4750 \nz\n\" transform=\"scale(0.015625)\"/>\n       </defs>\n       <use xlink:href=\"#DejaVuSans-31\"/>\n       <use xlink:href=\"#DejaVuSans-30\" x=\"63.623047\"/>\n      </g>\n     </g>\n    </g>\n    <g id=\"xtick_2\">\n     <g id=\"line2d_2\">\n      <g>\n       <use xlink:href=\"#me9ba34f350\" x=\"133.236412\" y=\"339.84\" style=\"stroke: #000000; stroke-width: 0.8\"/>\n      </g>\n     </g>\n     <g id=\"text_2\">\n      <!-- 15 -->\n      <g transform=\"translate(126.873912 354.438437) scale(0.1 -0.1)\">\n       <defs>\n        <path id=\"DejaVuSans-35\" d=\"M 691 4666 \nL 3169 4666 \nL 3169 4134 \nL 1269 4134 \nL 1269 2991 \nQ 1406 3038 1543 3061 \nQ 1681 3084 1819 3084 \nQ 2600 3084 3056 2656 \nQ 3513 2228 3513 1497 \nQ 3513 744 3044 326 \nQ 2575 -91 1722 -91 \nQ 1428 -91 1123 -41 \nQ 819 9 494 109 \nL 494 744 \nQ 775 591 1075 516 \nQ 1375 441 1709 441 \nQ 2250 441 2565 725 \nQ 2881 1009 2881 1497 \nQ 2881 1984 2565 2268 \nQ 2250 2553 1709 2553 \nQ 1456 2553 1204 2497 \nQ 953 2441 691 2322 \nL 691 4666 \nz\n\" transform=\"scale(0.015625)\"/>\n       </defs>\n       <use xlink:href=\"#DejaVuSans-31\"/>\n       <use xlink:href=\"#DejaVuSans-35\" x=\"63.623047\"/>\n      </g>\n     </g>\n    </g>\n    <g id=\"xtick_3\">\n     <g id=\"line2d_3\">\n      <g>\n       <use xlink:href=\"#me9ba34f350\" x=\"200.692892\" y=\"339.84\" style=\"stroke: #000000; stroke-width: 0.8\"/>\n      </g>\n     </g>\n     <g id=\"text_3\">\n      <!-- 20 -->\n      <g transform=\"translate(194.330392 354.438437) scale(0.1 -0.1)\">\n       <defs>\n        <path id=\"DejaVuSans-32\" d=\"M 1228 531 \nL 3431 531 \nL 3431 0 \nL 469 0 \nL 469 531 \nQ 828 903 1448 1529 \nQ 2069 2156 2228 2338 \nQ 2531 2678 2651 2914 \nQ 2772 3150 2772 3378 \nQ 2772 3750 2511 3984 \nQ 2250 4219 1831 4219 \nQ 1534 4219 1204 4116 \nQ 875 4013 500 3803 \nL 500 4441 \nQ 881 4594 1212 4672 \nQ 1544 4750 1819 4750 \nQ 2544 4750 2975 4387 \nQ 3406 4025 3406 3419 \nQ 3406 3131 3298 2873 \nQ 3191 2616 2906 2266 \nQ 2828 2175 2409 1742 \nQ 1991 1309 1228 531 \nz\n\" transform=\"scale(0.015625)\"/>\n       </defs>\n       <use xlink:href=\"#DejaVuSans-32\"/>\n       <use xlink:href=\"#DejaVuSans-30\" x=\"63.623047\"/>\n      </g>\n     </g>\n    </g>\n    <g id=\"xtick_4\">\n     <g id=\"line2d_4\">\n      <g>\n       <use xlink:href=\"#me9ba34f350\" x=\"268.149371\" y=\"339.84\" style=\"stroke: #000000; stroke-width: 0.8\"/>\n      </g>\n     </g>\n     <g id=\"text_4\">\n      <!-- 25 -->\n      <g transform=\"translate(261.786871 354.438437) scale(0.1 -0.1)\">\n       <use xlink:href=\"#DejaVuSans-32\"/>\n       <use xlink:href=\"#DejaVuSans-35\" x=\"63.623047\"/>\n      </g>\n     </g>\n    </g>\n    <g id=\"xtick_5\">\n     <g id=\"line2d_5\">\n      <g>\n       <use xlink:href=\"#me9ba34f350\" x=\"335.605851\" y=\"339.84\" style=\"stroke: #000000; stroke-width: 0.8\"/>\n      </g>\n     </g>\n     <g id=\"text_5\">\n      <!-- 30 -->\n      <g transform=\"translate(329.243351 354.438437) scale(0.1 -0.1)\">\n       <defs>\n        <path id=\"DejaVuSans-33\" d=\"M 2597 2516 \nQ 3050 2419 3304 2112 \nQ 3559 1806 3559 1356 \nQ 3559 666 3084 287 \nQ 2609 -91 1734 -91 \nQ 1441 -91 1130 -33 \nQ 819 25 488 141 \nL 488 750 \nQ 750 597 1062 519 \nQ 1375 441 1716 441 \nQ 2309 441 2620 675 \nQ 2931 909 2931 1356 \nQ 2931 1769 2642 2001 \nQ 2353 2234 1838 2234 \nL 1294 2234 \nL 1294 2753 \nL 1863 2753 \nQ 2328 2753 2575 2939 \nQ 2822 3125 2822 3475 \nQ 2822 3834 2567 4026 \nQ 2313 4219 1838 4219 \nQ 1578 4219 1281 4162 \nQ 984 4106 628 3988 \nL 628 4550 \nQ 988 4650 1302 4700 \nQ 1616 4750 1894 4750 \nQ 2613 4750 3031 4423 \nQ 3450 4097 3450 3541 \nQ 3450 3153 3228 2886 \nQ 3006 2619 2597 2516 \nz\n\" transform=\"scale(0.015625)\"/>\n       </defs>\n       <use xlink:href=\"#DejaVuSans-33\"/>\n       <use xlink:href=\"#DejaVuSans-30\" x=\"63.623047\"/>\n      </g>\n     </g>\n    </g>\n    <g id=\"xtick_6\">\n     <g id=\"line2d_6\">\n      <g>\n       <use xlink:href=\"#me9ba34f350\" x=\"403.062331\" y=\"339.84\" style=\"stroke: #000000; stroke-width: 0.8\"/>\n      </g>\n     </g>\n     <g id=\"text_6\">\n      <!-- 35 -->\n      <g transform=\"translate(396.699831 354.438437) scale(0.1 -0.1)\">\n       <use xlink:href=\"#DejaVuSans-33\"/>\n       <use xlink:href=\"#DejaVuSans-35\" x=\"63.623047\"/>\n      </g>\n     </g>\n    </g>\n    <g id=\"xtick_7\">\n     <g id=\"line2d_7\">\n      <g>\n       <use xlink:href=\"#me9ba34f350\" x=\"470.51881\" y=\"339.84\" style=\"stroke: #000000; stroke-width: 0.8\"/>\n      </g>\n     </g>\n     <g id=\"text_7\">\n      <!-- 40 -->\n      <g transform=\"translate(464.15631 354.438437) scale(0.1 -0.1)\">\n       <defs>\n        <path id=\"DejaVuSans-34\" d=\"M 2419 4116 \nL 825 1625 \nL 2419 1625 \nL 2419 4116 \nz\nM 2253 4666 \nL 3047 4666 \nL 3047 1625 \nL 3713 1625 \nL 3713 1100 \nL 3047 1100 \nL 3047 0 \nL 2419 0 \nL 2419 1100 \nL 313 1100 \nL 313 1709 \nL 2253 4666 \nz\n\" transform=\"scale(0.015625)\"/>\n       </defs>\n       <use xlink:href=\"#DejaVuSans-34\"/>\n       <use xlink:href=\"#DejaVuSans-30\" x=\"63.623047\"/>\n      </g>\n     </g>\n    </g>\n    <g id=\"xtick_8\">\n     <g id=\"line2d_8\">\n      <g>\n       <use xlink:href=\"#me9ba34f350\" x=\"537.97529\" y=\"339.84\" style=\"stroke: #000000; stroke-width: 0.8\"/>\n      </g>\n     </g>\n     <g id=\"text_8\">\n      <!-- 45 -->\n      <g transform=\"translate(531.61279 354.438437) scale(0.1 -0.1)\">\n       <use xlink:href=\"#DejaVuSans-34\"/>\n       <use xlink:href=\"#DejaVuSans-35\" x=\"63.623047\"/>\n      </g>\n     </g>\n    </g>\n   </g>\n   <g id=\"matplotlib.axis_2\">\n    <g id=\"ytick_1\">\n     <g id=\"line2d_9\">\n      <defs>\n       <path id=\"m663ae9cc93\" d=\"M 0 0 \nL -3.5 0 \n\" style=\"stroke: #000000; stroke-width: 0.8\"/>\n      </defs>\n      <g>\n       <use xlink:href=\"#m663ae9cc93\" x=\"26.925\" y=\"335.766523\" style=\"stroke: #000000; stroke-width: 0.8\"/>\n      </g>\n     </g>\n     <g id=\"text_9\">\n      <!-- 5 -->\n      <g transform=\"translate(13.5625 339.565742) scale(0.1 -0.1)\">\n       <use xlink:href=\"#DejaVuSans-35\"/>\n      </g>\n     </g>\n    </g>\n    <g id=\"ytick_2\">\n     <g id=\"line2d_10\">\n      <g>\n       <use xlink:href=\"#m663ae9cc93\" x=\"26.925\" y=\"286.2788\" style=\"stroke: #000000; stroke-width: 0.8\"/>\n      </g>\n     </g>\n     <g id=\"text_10\">\n      <!-- 10 -->\n      <g transform=\"translate(7.2 290.078019) scale(0.1 -0.1)\">\n       <use xlink:href=\"#DejaVuSans-31\"/>\n       <use xlink:href=\"#DejaVuSans-30\" x=\"63.623047\"/>\n      </g>\n     </g>\n    </g>\n    <g id=\"ytick_3\">\n     <g id=\"line2d_11\">\n      <g>\n       <use xlink:href=\"#m663ae9cc93\" x=\"26.925\" y=\"236.791077\" style=\"stroke: #000000; stroke-width: 0.8\"/>\n      </g>\n     </g>\n     <g id=\"text_11\">\n      <!-- 15 -->\n      <g transform=\"translate(7.2 240.590296) scale(0.1 -0.1)\">\n       <use xlink:href=\"#DejaVuSans-31\"/>\n       <use xlink:href=\"#DejaVuSans-35\" x=\"63.623047\"/>\n      </g>\n     </g>\n    </g>\n    <g id=\"ytick_4\">\n     <g id=\"line2d_12\">\n      <g>\n       <use xlink:href=\"#m663ae9cc93\" x=\"26.925\" y=\"187.303354\" style=\"stroke: #000000; stroke-width: 0.8\"/>\n      </g>\n     </g>\n     <g id=\"text_12\">\n      <!-- 20 -->\n      <g transform=\"translate(7.2 191.102573) scale(0.1 -0.1)\">\n       <use xlink:href=\"#DejaVuSans-32\"/>\n       <use xlink:href=\"#DejaVuSans-30\" x=\"63.623047\"/>\n      </g>\n     </g>\n    </g>\n    <g id=\"ytick_5\">\n     <g id=\"line2d_13\">\n      <g>\n       <use xlink:href=\"#m663ae9cc93\" x=\"26.925\" y=\"137.815631\" style=\"stroke: #000000; stroke-width: 0.8\"/>\n      </g>\n     </g>\n     <g id=\"text_13\">\n      <!-- 25 -->\n      <g transform=\"translate(7.2 141.61485) scale(0.1 -0.1)\">\n       <use xlink:href=\"#DejaVuSans-32\"/>\n       <use xlink:href=\"#DejaVuSans-35\" x=\"63.623047\"/>\n      </g>\n     </g>\n    </g>\n    <g id=\"ytick_6\">\n     <g id=\"line2d_14\">\n      <g>\n       <use xlink:href=\"#m663ae9cc93\" x=\"26.925\" y=\"88.327908\" style=\"stroke: #000000; stroke-width: 0.8\"/>\n      </g>\n     </g>\n     <g id=\"text_14\">\n      <!-- 30 -->\n      <g transform=\"translate(7.2 92.127127) scale(0.1 -0.1)\">\n       <use xlink:href=\"#DejaVuSans-33\"/>\n       <use xlink:href=\"#DejaVuSans-30\" x=\"63.623047\"/>\n      </g>\n     </g>\n    </g>\n    <g id=\"ytick_7\">\n     <g id=\"line2d_15\">\n      <g>\n       <use xlink:href=\"#m663ae9cc93\" x=\"26.925\" y=\"38.840185\" style=\"stroke: #000000; stroke-width: 0.8\"/>\n      </g>\n     </g>\n     <g id=\"text_15\">\n      <!-- 35 -->\n      <g transform=\"translate(7.2 42.639404) scale(0.1 -0.1)\">\n       <use xlink:href=\"#DejaVuSans-33\"/>\n       <use xlink:href=\"#DejaVuSans-35\" x=\"63.623047\"/>\n      </g>\n     </g>\n    </g>\n   </g>\n   <g id=\"line2d_16\">\n    <defs>\n     <path id=\"m19bf790be9\" d=\"M 0 3 \nC 0.795609 3 1.55874 2.683901 2.12132 2.12132 \nC 2.683901 1.55874 3 0.795609 3 0 \nC 3 -0.795609 2.683901 -1.55874 2.12132 -2.12132 \nC 1.55874 -2.683901 0.795609 -3 0 -3 \nC -0.795609 -3 -1.55874 -2.683901 -2.12132 -2.12132 \nC -2.683901 -1.55874 -3 -0.795609 -3 0 \nC -3 0.795609 -2.683901 1.55874 -2.12132 2.12132 \nC -1.55874 2.683901 -0.795609 3 0 3 \nz\n\" style=\"stroke: #0000ff\"/>\n    </defs>\n    <g clip-path=\"url(#pb710107d29)\">\n     <use xlink:href=\"#m19bf790be9\" x=\"106.25382\" y=\"273.676708\" style=\"fill: #0000ff; stroke: #0000ff\"/>\n     <use xlink:href=\"#m19bf790be9\" x=\"295.131963\" y=\"132.653514\" style=\"fill: #0000ff; stroke: #0000ff\"/>\n     <use xlink:href=\"#m19bf790be9\" x=\"314.019778\" y=\"118.558103\" style=\"fill: #0000ff; stroke: #0000ff\"/>\n     <use xlink:href=\"#m19bf790be9\" x=\"421.950145\" y=\"108.691195\" style=\"fill: #0000ff; stroke: #0000ff\"/>\n     <use xlink:href=\"#m19bf790be9\" x=\"119.745116\" y=\"264.823647\" style=\"fill: #0000ff; stroke: #0000ff\"/>\n     <use xlink:href=\"#m19bf790be9\" x=\"187.201596\" y=\"137.410679\" style=\"fill: #0000ff; stroke: #0000ff\"/>\n     <use xlink:href=\"#m19bf790be9\" x=\"169.662911\" y=\"182.078787\" style=\"fill: #0000ff; stroke: #0000ff\"/>\n     <use xlink:href=\"#m19bf790be9\" x=\"187.201596\" y=\"172.348498\" style=\"fill: #0000ff; stroke: #0000ff\"/>\n     <use xlink:href=\"#m19bf790be9\" x=\"203.391151\" y=\"122.60928\" style=\"fill: #0000ff; stroke: #0000ff\"/>\n     <use xlink:href=\"#m19bf790be9\" x=\"199.343762\" y=\"169.743556\" style=\"fill: #0000ff; stroke: #0000ff\"/>\n     <use xlink:href=\"#m19bf790be9\" x=\"173.7103\" y=\"173.157114\" style=\"fill: #0000ff; stroke: #0000ff\"/>\n     <use xlink:href=\"#m19bf790be9\" x=\"133.236412\" y=\"189.883268\" style=\"fill: #0000ff; stroke: #0000ff\"/>\n     <use xlink:href=\"#m19bf790be9\" x=\"79.271228\" y=\"302.132728\" style=\"fill: #0000ff; stroke: #0000ff\"/>\n     <use xlink:href=\"#m19bf790be9\" x=\"281.640667\" y=\"91.625759\" style=\"fill: #0000ff; stroke: #0000ff\"/>\n     <use xlink:href=\"#m19bf790be9\" x=\"106.25382\" y=\"266.104886\" style=\"fill: #0000ff; stroke: #0000ff\"/>\n     <use xlink:href=\"#m19bf790be9\" x=\"187.201596\" y=\"214.563163\" style=\"fill: #0000ff; stroke: #0000ff\"/>\n     <use xlink:href=\"#m19bf790be9\" x=\"355.842795\" y=\"81.144576\" style=\"fill: #0000ff; stroke: #0000ff\"/>\n     <use xlink:href=\"#m19bf790be9\" x=\"175.059429\" y=\"166.309405\" style=\"fill: #0000ff; stroke: #0000ff\"/>\n     <use xlink:href=\"#m19bf790be9\" x=\"349.097147\" y=\"93.556167\" style=\"fill: #0000ff; stroke: #0000ff\"/>\n     <use xlink:href=\"#m19bf790be9\" x=\"166.964652\" y=\"238.205607\" style=\"fill: #0000ff; stroke: #0000ff\"/>\n     <use xlink:href=\"#m19bf790be9\" x=\"308.623259\" y=\"87.249128\" style=\"fill: #0000ff; stroke: #0000ff\"/>\n     <use xlink:href=\"#m19bf790be9\" x=\"254.658075\" y=\"158.967864\" style=\"fill: #0000ff; stroke: #0000ff\"/>\n     <use xlink:href=\"#m19bf790be9\" x=\"295.131963\" y=\"140.878863\" style=\"fill: #0000ff; stroke: #0000ff\"/>\n     <use xlink:href=\"#m19bf790be9\" x=\"268.149371\" y=\"114.778576\" style=\"fill: #0000ff; stroke: #0000ff\"/>\n     <use xlink:href=\"#m19bf790be9\" x=\"133.236412\" y=\"246.18927\" style=\"fill: #0000ff; stroke: #0000ff\"/>\n     <use xlink:href=\"#m19bf790be9\" x=\"227.675484\" y=\"161.834614\" style=\"fill: #0000ff; stroke: #0000ff\"/>\n     <use xlink:href=\"#m19bf790be9\" x=\"180.455948\" y=\"194.693231\" style=\"fill: #0000ff; stroke: #0000ff\"/>\n     <use xlink:href=\"#m19bf790be9\" x=\"367.984961\" y=\"59.007599\" style=\"fill: #0000ff; stroke: #0000ff\"/>\n     <use xlink:href=\"#m19bf790be9\" x=\"119.745116\" y=\"291.655109\" style=\"fill: #0000ff; stroke: #0000ff\"/>\n     <use xlink:href=\"#m19bf790be9\" x=\"268.149371\" y=\"149.067221\" style=\"fill: #0000ff; stroke: #0000ff\"/>\n     <use xlink:href=\"#m19bf790be9\" x=\"251.959816\" y=\"133.577366\" style=\"fill: #0000ff; stroke: #0000ff\"/>\n     <use xlink:href=\"#m19bf790be9\" x=\"187.201596\" y=\"139.933664\" style=\"fill: #0000ff; stroke: #0000ff\"/>\n     <use xlink:href=\"#m19bf790be9\" x=\"173.7103\" y=\"191.773386\" style=\"fill: #0000ff; stroke: #0000ff\"/>\n     <use xlink:href=\"#m19bf790be9\" x=\"227.675484\" y=\"180.645145\" style=\"fill: #0000ff; stroke: #0000ff\"/>\n     <use xlink:href=\"#m19bf790be9\" x=\"133.236412\" y=\"254.38317\" style=\"fill: #0000ff; stroke: #0000ff\"/>\n     <use xlink:href=\"#m19bf790be9\" x=\"166.964652\" y=\"210.025404\" style=\"fill: #0000ff; stroke: #0000ff\"/>\n     <use xlink:href=\"#m19bf790be9\" x=\"516.389217\" y=\"62.531613\" style=\"fill: #0000ff; stroke: #0000ff\"/>\n     <use xlink:href=\"#m19bf790be9\" x=\"389.571035\" y=\"79.279669\" style=\"fill: #0000ff; stroke: #0000ff\"/>\n     <use xlink:href=\"#m19bf790be9\" x=\"335.605851\" y=\"112.648266\" style=\"fill: #0000ff; stroke: #0000ff\"/>\n     <use xlink:href=\"#m19bf790be9\" x=\"394.967553\" y=\"70.511605\" style=\"fill: #0000ff; stroke: #0000ff\"/>\n     <use xlink:href=\"#m19bf790be9\" x=\"382.825387\" y=\"107.911761\" style=\"fill: #0000ff; stroke: #0000ff\"/>\n     <use xlink:href=\"#m19bf790be9\" x=\"261.403723\" y=\"138.932253\" style=\"fill: #0000ff; stroke: #0000ff\"/>\n     <use xlink:href=\"#m19bf790be9\" x=\"390.920164\" y=\"37.140512\" style=\"fill: #0000ff; stroke: #0000ff\"/>\n     <use xlink:href=\"#m19bf790be9\" x=\"254.658075\" y=\"119.978678\" style=\"fill: #0000ff; stroke: #0000ff\"/>\n     <use xlink:href=\"#m19bf790be9\" x=\"281.640667\" y=\"81.48741\" style=\"fill: #0000ff; stroke: #0000ff\"/>\n     <use xlink:href=\"#m19bf790be9\" x=\"207.43854\" y=\"174.414767\" style=\"fill: #0000ff; stroke: #0000ff\"/>\n     <use xlink:href=\"#m19bf790be9\" x=\"220.929836\" y=\"151.808791\" style=\"fill: #0000ff; stroke: #0000ff\"/>\n     <use xlink:href=\"#m19bf790be9\" x=\"166.964652\" y=\"211.812136\" style=\"fill: #0000ff; stroke: #0000ff\"/>\n     <use xlink:href=\"#m19bf790be9\" x=\"363.937573\" y=\"85.329923\" style=\"fill: #0000ff; stroke: #0000ff\"/>\n     <use xlink:href=\"#m19bf790be9\" x=\"335.605851\" y=\"94.159501\" style=\"fill: #0000ff; stroke: #0000ff\"/>\n     <use xlink:href=\"#m19bf790be9\" x=\"92.762524\" y=\"277.958903\" style=\"fill: #0000ff; stroke: #0000ff\"/>\n     <use xlink:href=\"#m19bf790be9\" x=\"133.236412\" y=\"217.996807\" style=\"fill: #0000ff; stroke: #0000ff\"/>\n     <use xlink:href=\"#m19bf790be9\" x=\"393.618424\" y=\"73.878316\" style=\"fill: #0000ff; stroke: #0000ff\"/>\n     <use xlink:href=\"#m19bf790be9\" x=\"490.755754\" y=\"73.357497\" style=\"fill: #0000ff; stroke: #0000ff\"/>\n     <use xlink:href=\"#m19bf790be9\" x=\"173.7103\" y=\"200.924856\" style=\"fill: #0000ff; stroke: #0000ff\"/>\n     <use xlink:href=\"#m19bf790be9\" x=\"281.640667\" y=\"139.456693\" style=\"fill: #0000ff; stroke: #0000ff\"/>\n     <use xlink:href=\"#m19bf790be9\" x=\"227.675484\" y=\"125.023816\" style=\"fill: #0000ff; stroke: #0000ff\"/>\n     <use xlink:href=\"#m19bf790be9\" x=\"241.166779\" y=\"166.523053\" style=\"fill: #0000ff; stroke: #0000ff\"/>\n     <use xlink:href=\"#m19bf790be9\" x=\"106.25382\" y=\"324.72\" style=\"fill: #0000ff; stroke: #0000ff\"/>\n     <use xlink:href=\"#m19bf790be9\" x=\"119.745116\" y=\"271.728426\" style=\"fill: #0000ff; stroke: #0000ff\"/>\n     <use xlink:href=\"#m19bf790be9\" x=\"92.762524\" y=\"318.252926\" style=\"fill: #0000ff; stroke: #0000ff\"/>\n     <use xlink:href=\"#m19bf790be9\" x=\"146.727708\" y=\"264.392041\" style=\"fill: #0000ff; stroke: #0000ff\"/>\n     <use xlink:href=\"#m19bf790be9\" x=\"254.658075\" y=\"129.101489\" style=\"fill: #0000ff; stroke: #0000ff\"/>\n     <use xlink:href=\"#m19bf790be9\" x=\"308.623259\" y=\"88.123557\" style=\"fill: #0000ff; stroke: #0000ff\"/>\n     <use xlink:href=\"#m19bf790be9\" x=\"322.114555\" y=\"95.752436\" style=\"fill: #0000ff; stroke: #0000ff\"/>\n     <use xlink:href=\"#m19bf790be9\" x=\"146.727708\" y=\"258.817407\" style=\"fill: #0000ff; stroke: #0000ff\"/>\n     <use xlink:href=\"#m19bf790be9\" x=\"357.191925\" y=\"66.387585\" style=\"fill: #0000ff; stroke: #0000ff\"/>\n     <use xlink:href=\"#m19bf790be9\" x=\"404.41146\" y=\"24.3171\" style=\"fill: #0000ff; stroke: #0000ff\"/>\n     <use xlink:href=\"#m19bf790be9\" x=\"349.097147\" y=\"103.021428\" style=\"fill: #0000ff; stroke: #0000ff\"/>\n     <use xlink:href=\"#m19bf790be9\" x=\"353.144536\" y=\"71.016036\" style=\"fill: #0000ff; stroke: #0000ff\"/>\n     <use xlink:href=\"#m19bf790be9\" x=\"227.675484\" y=\"175.061116\" style=\"fill: #0000ff; stroke: #0000ff\"/>\n     <use xlink:href=\"#m19bf790be9\" x=\"254.658075\" y=\"173.123054\" style=\"fill: #0000ff; stroke: #0000ff\"/>\n     <use xlink:href=\"#m19bf790be9\" x=\"345.049758\" y=\"114.740599\" style=\"fill: #0000ff; stroke: #0000ff\"/>\n     <use xlink:href=\"#m19bf790be9\" x=\"160.219004\" y=\"210.767757\" style=\"fill: #0000ff; stroke: #0000ff\"/>\n     <use xlink:href=\"#m19bf790be9\" x=\"396.316683\" y=\"95.531067\" style=\"fill: #0000ff; stroke: #0000ff\"/>\n     <use xlink:href=\"#m19bf790be9\" x=\"443.536219\" y=\"69.028941\" style=\"fill: #0000ff; stroke: #0000ff\"/>\n     <use xlink:href=\"#m19bf790be9\" x=\"220.929836\" y=\"129.417414\" style=\"fill: #0000ff; stroke: #0000ff\"/>\n     <use xlink:href=\"#m19bf790be9\" x=\"119.745116\" y=\"289.297558\" style=\"fill: #0000ff; stroke: #0000ff\"/>\n     <use xlink:href=\"#m19bf790be9\" x=\"168.313781\" y=\"143.281668\" style=\"fill: #0000ff; stroke: #0000ff\"/>\n     <use xlink:href=\"#m19bf790be9\" x=\"153.473356\" y=\"189.83969\" style=\"fill: #0000ff; stroke: #0000ff\"/>\n     <use xlink:href=\"#m19bf790be9\" x=\"192.598114\" y=\"150.896917\" style=\"fill: #0000ff; stroke: #0000ff\"/>\n     <use xlink:href=\"#m19bf790be9\" x=\"173.7103\" y=\"176.02754\" style=\"fill: #0000ff; stroke: #0000ff\"/>\n     <use xlink:href=\"#m19bf790be9\" x=\"335.605851\" y=\"101.37404\" style=\"fill: #0000ff; stroke: #0000ff\"/>\n     <use xlink:href=\"#m19bf790be9\" x=\"200.692892\" y=\"161.863264\" style=\"fill: #0000ff; stroke: #0000ff\"/>\n     <use xlink:href=\"#m19bf790be9\" x=\"173.7103\" y=\"246.189604\" style=\"fill: #0000ff; stroke: #0000ff\"/>\n     <use xlink:href=\"#m19bf790be9\" x=\"187.201596\" y=\"145.148695\" style=\"fill: #0000ff; stroke: #0000ff\"/>\n     <use xlink:href=\"#m19bf790be9\" x=\"390.920164\" y=\"55.28713\" style=\"fill: #0000ff; stroke: #0000ff\"/>\n     <use xlink:href=\"#m19bf790be9\" x=\"443.536219\" y=\"29.87055\" style=\"fill: #0000ff; stroke: #0000ff\"/>\n     <use xlink:href=\"#m19bf790be9\" x=\"203.391151\" y=\"144.243113\" style=\"fill: #0000ff; stroke: #0000ff\"/>\n     <use xlink:href=\"#m19bf790be9\" x=\"119.745116\" y=\"276.63907\" style=\"fill: #0000ff; stroke: #0000ff\"/>\n     <use xlink:href=\"#m19bf790be9\" x=\"119.745116\" y=\"259.658485\" style=\"fill: #0000ff; stroke: #0000ff\"/>\n     <use xlink:href=\"#m19bf790be9\" x=\"416.553627\" y=\"71.419245\" style=\"fill: #0000ff; stroke: #0000ff\"/>\n     <use xlink:href=\"#m19bf790be9\" x=\"342.351499\" y=\"102.506073\" style=\"fill: #0000ff; stroke: #0000ff\"/>\n     <use xlink:href=\"#m19bf790be9\" x=\"106.25382\" y=\"220.437768\" style=\"fill: #0000ff; stroke: #0000ff\"/>\n     <use xlink:href=\"#m19bf790be9\" x=\"133.236412\" y=\"229.799693\" style=\"fill: #0000ff; stroke: #0000ff\"/>\n     <use xlink:href=\"#m19bf790be9\" x=\"168.313781\" y=\"182.820613\" style=\"fill: #0000ff; stroke: #0000ff\"/>\n     <use xlink:href=\"#m19bf790be9\" x=\"361.239313\" y=\"71.094481\" style=\"fill: #0000ff; stroke: #0000ff\"/>\n     <use xlink:href=\"#m19bf790be9\" x=\"106.25382\" y=\"260.449399\" style=\"fill: #0000ff; stroke: #0000ff\"/>\n     <use xlink:href=\"#m19bf790be9\" x=\"173.7103\" y=\"207.331359\" style=\"fill: #0000ff; stroke: #0000ff\"/>\n     <use xlink:href=\"#m19bf790be9\" x=\"444.885348\" y=\"37.46651\" style=\"fill: #0000ff; stroke: #0000ff\"/>\n     <use xlink:href=\"#m19bf790be9\" x=\"79.271228\" y=\"231.831404\" style=\"fill: #0000ff; stroke: #0000ff\"/>\n     <use xlink:href=\"#m19bf790be9\" x=\"281.640667\" y=\"120.970966\" style=\"fill: #0000ff; stroke: #0000ff\"/>\n     <use xlink:href=\"#m19bf790be9\" x=\"207.43854\" y=\"166.23254\" style=\"fill: #0000ff; stroke: #0000ff\"/>\n     <use xlink:href=\"#m19bf790be9\" x=\"119.745116\" y=\"285.765312\" style=\"fill: #0000ff; stroke: #0000ff\"/>\n     <use xlink:href=\"#m19bf790be9\" x=\"335.605851\" y=\"113.978961\" style=\"fill: #0000ff; stroke: #0000ff\"/>\n     <use xlink:href=\"#m19bf790be9\" x=\"457.027515\" y=\"61.848786\" style=\"fill: #0000ff; stroke: #0000ff\"/>\n     <use xlink:href=\"#m19bf790be9\" x=\"241.166779\" y=\"123.507945\" style=\"fill: #0000ff; stroke: #0000ff\"/>\n     <use xlink:href=\"#m19bf790be9\" x=\"281.640667\" y=\"101.986226\" style=\"fill: #0000ff; stroke: #0000ff\"/>\n     <use xlink:href=\"#m19bf790be9\" x=\"92.762524\" y=\"295.912409\" style=\"fill: #0000ff; stroke: #0000ff\"/>\n     <use xlink:href=\"#m19bf790be9\" x=\"106.25382\" y=\"274.497825\" style=\"fill: #0000ff; stroke: #0000ff\"/>\n     <use xlink:href=\"#m19bf790be9\" x=\"241.166779\" y=\"145.768937\" style=\"fill: #0000ff; stroke: #0000ff\"/>\n     <use xlink:href=\"#m19bf790be9\" x=\"180.455948\" y=\"171.676984\" style=\"fill: #0000ff; stroke: #0000ff\"/>\n     <use xlink:href=\"#m19bf790be9\" x=\"173.7103\" y=\"118.699246\" style=\"fill: #0000ff; stroke: #0000ff\"/>\n     <use xlink:href=\"#m19bf790be9\" x=\"481.311847\" y=\"46.212349\" style=\"fill: #0000ff; stroke: #0000ff\"/>\n     <use xlink:href=\"#m19bf790be9\" x=\"146.727708\" y=\"223.415281\" style=\"fill: #0000ff; stroke: #0000ff\"/>\n     <use xlink:href=\"#m19bf790be9\" x=\"189.899855\" y=\"177.423002\" style=\"fill: #0000ff; stroke: #0000ff\"/>\n     <use xlink:href=\"#m19bf790be9\" x=\"106.25382\" y=\"265.34898\" style=\"fill: #0000ff; stroke: #0000ff\"/>\n     <use xlink:href=\"#m19bf790be9\" x=\"119.745116\" y=\"249.396577\" style=\"fill: #0000ff; stroke: #0000ff\"/>\n     <use xlink:href=\"#m19bf790be9\" x=\"146.727708\" y=\"228.744394\" style=\"fill: #0000ff; stroke: #0000ff\"/>\n     <use xlink:href=\"#m19bf790be9\" x=\"160.219004\" y=\"184.747914\" style=\"fill: #0000ff; stroke: #0000ff\"/>\n     <use xlink:href=\"#m19bf790be9\" x=\"328.860203\" y=\"68.201782\" style=\"fill: #0000ff; stroke: #0000ff\"/>\n     <use xlink:href=\"#m19bf790be9\" x=\"297.830222\" y=\"94.071889\" style=\"fill: #0000ff; stroke: #0000ff\"/>\n     <use xlink:href=\"#m19bf790be9\" x=\"349.097147\" y=\"87.746317\" style=\"fill: #0000ff; stroke: #0000ff\"/>\n     <use xlink:href=\"#m19bf790be9\" x=\"173.7103\" y=\"207.15318\" style=\"fill: #0000ff; stroke: #0000ff\"/>\n     <use xlink:href=\"#m19bf790be9\" x=\"146.727708\" y=\"192.414845\" style=\"fill: #0000ff; stroke: #0000ff\"/>\n     <use xlink:href=\"#m19bf790be9\" x=\"376.079739\" y=\"67.604093\" style=\"fill: #0000ff; stroke: #0000ff\"/>\n     <use xlink:href=\"#m19bf790be9\" x=\"241.166779\" y=\"143.946271\" style=\"fill: #0000ff; stroke: #0000ff\"/>\n     <use xlink:href=\"#m19bf790be9\" x=\"146.727708\" y=\"204.993534\" style=\"fill: #0000ff; stroke: #0000ff\"/>\n     <use xlink:href=\"#m19bf790be9\" x=\"322.114555\" y=\"105.576237\" style=\"fill: #0000ff; stroke: #0000ff\"/>\n     <use xlink:href=\"#m19bf790be9\" x=\"328.860203\" y=\"92.578842\" style=\"fill: #0000ff; stroke: #0000ff\"/>\n     <use xlink:href=\"#m19bf790be9\" x=\"214.184188\" y=\"143.841475\" style=\"fill: #0000ff; stroke: #0000ff\"/>\n     <use xlink:href=\"#m19bf790be9\" x=\"119.745116\" y=\"259.391307\" style=\"fill: #0000ff; stroke: #0000ff\"/>\n     <use xlink:href=\"#m19bf790be9\" x=\"362.588443\" y=\"89.547175\" style=\"fill: #0000ff; stroke: #0000ff\"/>\n     <use xlink:href=\"#m19bf790be9\" x=\"106.25382\" y=\"224.110604\" style=\"fill: #0000ff; stroke: #0000ff\"/>\n     <use xlink:href=\"#m19bf790be9\" x=\"106.25382\" y=\"212.600033\" style=\"fill: #0000ff; stroke: #0000ff\"/>\n     <use xlink:href=\"#m19bf790be9\" x=\"268.149371\" y=\"103.400081\" style=\"fill: #0000ff; stroke: #0000ff\"/>\n     <use xlink:href=\"#m19bf790be9\" x=\"200.692892\" y=\"154.525412\" style=\"fill: #0000ff; stroke: #0000ff\"/>\n     <use xlink:href=\"#m19bf790be9\" x=\"119.745116\" y=\"235.368136\" style=\"fill: #0000ff; stroke: #0000ff\"/>\n     <use xlink:href=\"#m19bf790be9\" x=\"289.735445\" y=\"143.092527\" style=\"fill: #0000ff; stroke: #0000ff\"/>\n     <use xlink:href=\"#m19bf790be9\" x=\"295.131963\" y=\"108.64436\" style=\"fill: #0000ff; stroke: #0000ff\"/>\n     <use xlink:href=\"#m19bf790be9\" x=\"214.184188\" y=\"170.125206\" style=\"fill: #0000ff; stroke: #0000ff\"/>\n     <use xlink:href=\"#m19bf790be9\" x=\"241.166779\" y=\"148.388286\" style=\"fill: #0000ff; stroke: #0000ff\"/>\n     <use xlink:href=\"#m19bf790be9\" x=\"559.561364\" y=\"48.978437\" style=\"fill: #0000ff; stroke: #0000ff\"/>\n     <use xlink:href=\"#m19bf790be9\" x=\"146.727708\" y=\"212.106781\" style=\"fill: #0000ff; stroke: #0000ff\"/>\n     <use xlink:href=\"#m19bf790be9\" x=\"349.097147\" y=\"74.328488\" style=\"fill: #0000ff; stroke: #0000ff\"/>\n     <use xlink:href=\"#m19bf790be9\" x=\"220.929836\" y=\"121.755847\" style=\"fill: #0000ff; stroke: #0000ff\"/>\n     <use xlink:href=\"#m19bf790be9\" x=\"187.201596\" y=\"176.083213\" style=\"fill: #0000ff; stroke: #0000ff\"/>\n     <use xlink:href=\"#m19bf790be9\" x=\"281.640667\" y=\"133.923247\" style=\"fill: #0000ff; stroke: #0000ff\"/>\n     <use xlink:href=\"#m19bf790be9\" x=\"203.391151\" y=\"184.34371\" style=\"fill: #0000ff; stroke: #0000ff\"/>\n     <use xlink:href=\"#m19bf790be9\" x=\"139.98206\" y=\"193.683562\" style=\"fill: #0000ff; stroke: #0000ff\"/>\n     <use xlink:href=\"#m19bf790be9\" x=\"462.424033\" y=\"62.211842\" style=\"fill: #0000ff; stroke: #0000ff\"/>\n     <use xlink:href=\"#m19bf790be9\" x=\"146.727708\" y=\"227.13935\" style=\"fill: #0000ff; stroke: #0000ff\"/>\n     <use xlink:href=\"#m19bf790be9\" x=\"106.25382\" y=\"283.235401\" style=\"fill: #0000ff; stroke: #0000ff\"/>\n     <use xlink:href=\"#m19bf790be9\" x=\"309.972389\" y=\"110.025944\" style=\"fill: #0000ff; stroke: #0000ff\"/>\n     <use xlink:href=\"#m19bf790be9\" x=\"392.269294\" y=\"102.32884\" style=\"fill: #0000ff; stroke: #0000ff\"/>\n     <use xlink:href=\"#m19bf790be9\" x=\"308.623259\" y=\"139.121897\" style=\"fill: #0000ff; stroke: #0000ff\"/>\n     <use xlink:href=\"#m19bf790be9\" x=\"359.890184\" y=\"49.101327\" style=\"fill: #0000ff; stroke: #0000ff\"/>\n     <use xlink:href=\"#m19bf790be9\" x=\"373.38148\" y=\"54.480441\" style=\"fill: #0000ff; stroke: #0000ff\"/>\n     <use xlink:href=\"#m19bf790be9\" x=\"106.25382\" y=\"207.664738\" style=\"fill: #0000ff; stroke: #0000ff\"/>\n     <use xlink:href=\"#m19bf790be9\" x=\"173.7103\" y=\"200.089763\" style=\"fill: #0000ff; stroke: #0000ff\"/>\n     <use xlink:href=\"#m19bf790be9\" x=\"139.98206\" y=\"228.296089\" style=\"fill: #0000ff; stroke: #0000ff\"/>\n     <use xlink:href=\"#m19bf790be9\" x=\"297.830222\" y=\"113.162131\" style=\"fill: #0000ff; stroke: #0000ff\"/>\n     <use xlink:href=\"#m19bf790be9\" x=\"528.531383\" y=\"52.217916\" style=\"fill: #0000ff; stroke: #0000ff\"/>\n     <use xlink:href=\"#m19bf790be9\" x=\"322.114555\" y=\"86.780908\" style=\"fill: #0000ff; stroke: #0000ff\"/>\n     <use xlink:href=\"#m19bf790be9\" x=\"385.523646\" y=\"52.241821\" style=\"fill: #0000ff; stroke: #0000ff\"/>\n     <use xlink:href=\"#m19bf790be9\" x=\"288.386315\" y=\"142.192672\" style=\"fill: #0000ff; stroke: #0000ff\"/>\n     <use xlink:href=\"#m19bf790be9\" x=\"200.692892\" y=\"161.320717\" style=\"fill: #0000ff; stroke: #0000ff\"/>\n     <use xlink:href=\"#m19bf790be9\" x=\"241.166779\" y=\"155.233119\" style=\"fill: #0000ff; stroke: #0000ff\"/>\n     <use xlink:href=\"#m19bf790be9\" x=\"133.236412\" y=\"237.027399\" style=\"fill: #0000ff; stroke: #0000ff\"/>\n     <use xlink:href=\"#m19bf790be9\" x=\"386.872776\" y=\"49.238918\" style=\"fill: #0000ff; stroke: #0000ff\"/>\n     <use xlink:href=\"#m19bf790be9\" x=\"281.640667\" y=\"122.297134\" style=\"fill: #0000ff; stroke: #0000ff\"/>\n     <use xlink:href=\"#m19bf790be9\" x=\"295.131963\" y=\"117.657908\" style=\"fill: #0000ff; stroke: #0000ff\"/>\n     <use xlink:href=\"#m19bf790be9\" x=\"52.288636\" y=\"311.993113\" style=\"fill: #0000ff; stroke: #0000ff\"/>\n     <use xlink:href=\"#m19bf790be9\" x=\"281.640667\" y=\"137.894991\" style=\"fill: #0000ff; stroke: #0000ff\"/>\n     <use xlink:href=\"#m19bf790be9\" x=\"268.149371\" y=\"115.863128\" style=\"fill: #0000ff; stroke: #0000ff\"/>\n     <use xlink:href=\"#m19bf790be9\" x=\"389.571035\" y=\"39.72201\" style=\"fill: #0000ff; stroke: #0000ff\"/>\n     <use xlink:href=\"#m19bf790be9\" x=\"292.433704\" y=\"134.708193\" style=\"fill: #0000ff; stroke: #0000ff\"/>\n     <use xlink:href=\"#m19bf790be9\" x=\"308.623259\" y=\"109.679709\" style=\"fill: #0000ff; stroke: #0000ff\"/>\n     <use xlink:href=\"#m19bf790be9\" x=\"241.166779\" y=\"182.767575\" style=\"fill: #0000ff; stroke: #0000ff\"/>\n     <use xlink:href=\"#m19bf790be9\" x=\"274.895019\" y=\"142.20249\" style=\"fill: #0000ff; stroke: #0000ff\"/>\n     <use xlink:href=\"#m19bf790be9\" x=\"214.184188\" y=\"153.016517\" style=\"fill: #0000ff; stroke: #0000ff\"/>\n     <use xlink:href=\"#m19bf790be9\" x=\"301.877611\" y=\"95.933646\" style=\"fill: #0000ff; stroke: #0000ff\"/>\n     <use xlink:href=\"#m19bf790be9\" x=\"281.640667\" y=\"119.949458\" style=\"fill: #0000ff; stroke: #0000ff\"/>\n     <use xlink:href=\"#m19bf790be9\" x=\"382.825387\" y=\"67.084165\" style=\"fill: #0000ff; stroke: #0000ff\"/>\n     <use xlink:href=\"#m19bf790be9\" x=\"253.308946\" y=\"87.868793\" style=\"fill: #0000ff; stroke: #0000ff\"/>\n     <use xlink:href=\"#m19bf790be9\" x=\"106.25382\" y=\"252.605953\" style=\"fill: #0000ff; stroke: #0000ff\"/>\n     <use xlink:href=\"#m19bf790be9\" x=\"281.640667\" y=\"132.802441\" style=\"fill: #0000ff; stroke: #0000ff\"/>\n     <use xlink:href=\"#m19bf790be9\" x=\"289.735445\" y=\"98.449059\" style=\"fill: #0000ff; stroke: #0000ff\"/>\n     <use xlink:href=\"#m19bf790be9\" x=\"254.658075\" y=\"106.585697\" style=\"fill: #0000ff; stroke: #0000ff\"/>\n     <use xlink:href=\"#m19bf790be9\" x=\"295.131963\" y=\"92.45359\" style=\"fill: #0000ff; stroke: #0000ff\"/>\n     <use xlink:href=\"#m19bf790be9\" x=\"133.236412\" y=\"264.224869\" style=\"fill: #0000ff; stroke: #0000ff\"/>\n     <use xlink:href=\"#m19bf790be9\" x=\"362.588443\" y=\"68.396746\" style=\"fill: #0000ff; stroke: #0000ff\"/>\n     <use xlink:href=\"#m19bf790be9\" x=\"207.43854\" y=\"151.232617\" style=\"fill: #0000ff; stroke: #0000ff\"/>\n     <use xlink:href=\"#m19bf790be9\" x=\"322.114555\" y=\"98.187468\" style=\"fill: #0000ff; stroke: #0000ff\"/>\n     <use xlink:href=\"#m19bf790be9\" x=\"166.964652\" y=\"178.605299\" style=\"fill: #0000ff; stroke: #0000ff\"/>\n     <use xlink:href=\"#m19bf790be9\" x=\"281.640667\" y=\"127.250076\" style=\"fill: #0000ff; stroke: #0000ff\"/>\n    </g>\n   </g>\n   <g id=\"line2d_17\">\n    <defs>\n     <path id=\"mdbb2f01297\" d=\"M 0 3 \nC 0.795609 3 1.55874 2.683901 2.12132 2.12132 \nC 2.683901 1.55874 3 0.795609 3 0 \nC 3 -0.795609 2.683901 -1.55874 2.12132 -2.12132 \nC 1.55874 -2.683901 0.795609 -3 0 -3 \nC -0.795609 -3 -1.55874 -2.683901 -2.12132 -2.12132 \nC -2.683901 -1.55874 -3 -0.795609 -3 0 \nC -3 0.795609 -2.683901 1.55874 -2.12132 2.12132 \nC -1.55874 2.683901 -0.795609 3 0 3 \nz\n\" style=\"stroke: #ff0000\"/>\n    </defs>\n    <g clip-path=\"url(#pb710107d29)\">\n     <use xlink:href=\"#mdbb2f01297\" x=\"133.236412\" y=\"255.396613\" style=\"fill: #ff0000; stroke: #ff0000\"/>\n     <use xlink:href=\"#mdbb2f01297\" x=\"173.7103\" y=\"244.866696\" style=\"fill: #ff0000; stroke: #ff0000\"/>\n     <use xlink:href=\"#mdbb2f01297\" x=\"146.727708\" y=\"244.745765\" style=\"fill: #ff0000; stroke: #ff0000\"/>\n     <use xlink:href=\"#mdbb2f01297\" x=\"160.219004\" y=\"248.271569\" style=\"fill: #ff0000; stroke: #ff0000\"/>\n     <use xlink:href=\"#mdbb2f01297\" x=\"133.236412\" y=\"287.902397\" style=\"fill: #ff0000; stroke: #ff0000\"/>\n     <use xlink:href=\"#mdbb2f01297\" x=\"119.745116\" y=\"289.678717\" style=\"fill: #ff0000; stroke: #ff0000\"/>\n     <use xlink:href=\"#mdbb2f01297\" x=\"133.236412\" y=\"267.703264\" style=\"fill: #ff0000; stroke: #ff0000\"/>\n     <use xlink:href=\"#mdbb2f01297\" x=\"133.236412\" y=\"253.978984\" style=\"fill: #ff0000; stroke: #ff0000\"/>\n     <use xlink:href=\"#mdbb2f01297\" x=\"119.745116\" y=\"212.261764\" style=\"fill: #ff0000; stroke: #ff0000\"/>\n     <use xlink:href=\"#mdbb2f01297\" x=\"254.658075\" y=\"152.25312\" style=\"fill: #ff0000; stroke: #ff0000\"/>\n     <use xlink:href=\"#mdbb2f01297\" x=\"227.675484\" y=\"204.361207\" style=\"fill: #ff0000; stroke: #ff0000\"/>\n     <use xlink:href=\"#mdbb2f01297\" x=\"214.184188\" y=\"187.182193\" style=\"fill: #ff0000; stroke: #ff0000\"/>\n     <use xlink:href=\"#mdbb2f01297\" x=\"268.149371\" y=\"179.871671\" style=\"fill: #ff0000; stroke: #ff0000\"/>\n     <use xlink:href=\"#mdbb2f01297\" x=\"268.149371\" y=\"164.160623\" style=\"fill: #ff0000; stroke: #ff0000\"/>\n     <use xlink:href=\"#mdbb2f01297\" x=\"281.640667\" y=\"166.310638\" style=\"fill: #ff0000; stroke: #ff0000\"/>\n     <use xlink:href=\"#mdbb2f01297\" x=\"214.184188\" y=\"193.786617\" style=\"fill: #ff0000; stroke: #ff0000\"/>\n     <use xlink:href=\"#mdbb2f01297\" x=\"65.779932\" y=\"308.453083\" style=\"fill: #ff0000; stroke: #ff0000\"/>\n     <use xlink:href=\"#mdbb2f01297\" x=\"65.779932\" y=\"299.075861\" style=\"fill: #ff0000; stroke: #ff0000\"/>\n     <use xlink:href=\"#mdbb2f01297\" x=\"308.623259\" y=\"163.231679\" style=\"fill: #ff0000; stroke: #ff0000\"/>\n     <use xlink:href=\"#mdbb2f01297\" x=\"268.149371\" y=\"137.744355\" style=\"fill: #ff0000; stroke: #ff0000\"/>\n     <use xlink:href=\"#mdbb2f01297\" x=\"187.201596\" y=\"184.926951\" style=\"fill: #ff0000; stroke: #ff0000\"/>\n     <use xlink:href=\"#mdbb2f01297\" x=\"160.219004\" y=\"217.526432\" style=\"fill: #ff0000; stroke: #ff0000\"/>\n     <use xlink:href=\"#mdbb2f01297\" x=\"173.7103\" y=\"218.067637\" style=\"fill: #ff0000; stroke: #ff0000\"/>\n     <use xlink:href=\"#mdbb2f01297\" x=\"119.745116\" y=\"268.468307\" style=\"fill: #ff0000; stroke: #ff0000\"/>\n     <use xlink:href=\"#mdbb2f01297\" x=\"119.745116\" y=\"271.26518\" style=\"fill: #ff0000; stroke: #ff0000\"/>\n     <use xlink:href=\"#mdbb2f01297\" x=\"106.25382\" y=\"300.790904\" style=\"fill: #ff0000; stroke: #ff0000\"/>\n     <use xlink:href=\"#mdbb2f01297\" x=\"187.201596\" y=\"215.867049\" style=\"fill: #ff0000; stroke: #ff0000\"/>\n     <use xlink:href=\"#mdbb2f01297\" x=\"308.623259\" y=\"146.336029\" style=\"fill: #ff0000; stroke: #ff0000\"/>\n     <use xlink:href=\"#mdbb2f01297\" x=\"335.605851\" y=\"134.868358\" style=\"fill: #ff0000; stroke: #ff0000\"/>\n     <use xlink:href=\"#mdbb2f01297\" x=\"335.605851\" y=\"144.80368\" style=\"fill: #ff0000; stroke: #ff0000\"/>\n     <use xlink:href=\"#mdbb2f01297\" x=\"403.062331\" y=\"96.078319\" style=\"fill: #ff0000; stroke: #ff0000\"/>\n     <use xlink:href=\"#mdbb2f01297\" x=\"268.149371\" y=\"149.324168\" style=\"fill: #ff0000; stroke: #ff0000\"/>\n     <use xlink:href=\"#mdbb2f01297\" x=\"106.25382\" y=\"272.267767\" style=\"fill: #ff0000; stroke: #ff0000\"/>\n     <use xlink:href=\"#mdbb2f01297\" x=\"119.745116\" y=\"259.888021\" style=\"fill: #ff0000; stroke: #ff0000\"/>\n     <use xlink:href=\"#mdbb2f01297\" x=\"160.219004\" y=\"243.593485\" style=\"fill: #ff0000; stroke: #ff0000\"/>\n     <use xlink:href=\"#mdbb2f01297\" x=\"79.271228\" y=\"287.645778\" style=\"fill: #ff0000; stroke: #ff0000\"/>\n     <use xlink:href=\"#mdbb2f01297\" x=\"106.25382\" y=\"281.269109\" style=\"fill: #ff0000; stroke: #ff0000\"/>\n     <use xlink:href=\"#mdbb2f01297\" x=\"92.762524\" y=\"279.109279\" style=\"fill: #ff0000; stroke: #ff0000\"/>\n     <use xlink:href=\"#mdbb2f01297\" x=\"106.25382\" y=\"269.522188\" style=\"fill: #ff0000; stroke: #ff0000\"/>\n     <use xlink:href=\"#mdbb2f01297\" x=\"173.7103\" y=\"186.682671\" style=\"fill: #ff0000; stroke: #ff0000\"/>\n     <use xlink:href=\"#mdbb2f01297\" x=\"227.675484\" y=\"149.682224\" style=\"fill: #ff0000; stroke: #ff0000\"/>\n     <use xlink:href=\"#mdbb2f01297\" x=\"214.184188\" y=\"175.463138\" style=\"fill: #ff0000; stroke: #ff0000\"/>\n     <use xlink:href=\"#mdbb2f01297\" x=\"227.675484\" y=\"164.164425\" style=\"fill: #ff0000; stroke: #ff0000\"/>\n     <use xlink:href=\"#mdbb2f01297\" x=\"308.623259\" y=\"128.613635\" style=\"fill: #ff0000; stroke: #ff0000\"/>\n     <use xlink:href=\"#mdbb2f01297\" x=\"308.623259\" y=\"156.004297\" style=\"fill: #ff0000; stroke: #ff0000\"/>\n     <use xlink:href=\"#mdbb2f01297\" x=\"295.131963\" y=\"118.139819\" style=\"fill: #ff0000; stroke: #ff0000\"/>\n     <use xlink:href=\"#mdbb2f01297\" x=\"106.25382\" y=\"242.559242\" style=\"fill: #ff0000; stroke: #ff0000\"/>\n     <use xlink:href=\"#mdbb2f01297\" x=\"92.762524\" y=\"296.072214\" style=\"fill: #ff0000; stroke: #ff0000\"/>\n     <use xlink:href=\"#mdbb2f01297\" x=\"119.745116\" y=\"259.792629\" style=\"fill: #ff0000; stroke: #ff0000\"/>\n     <use xlink:href=\"#mdbb2f01297\" x=\"106.25382\" y=\"284.446669\" style=\"fill: #ff0000; stroke: #ff0000\"/>\n     <use xlink:href=\"#mdbb2f01297\" x=\"106.25382\" y=\"238.921525\" style=\"fill: #ff0000; stroke: #ff0000\"/>\n     <use xlink:href=\"#mdbb2f01297\" x=\"173.7103\" y=\"191.183739\" style=\"fill: #ff0000; stroke: #ff0000\"/>\n     <use xlink:href=\"#mdbb2f01297\" x=\"173.7103\" y=\"180.152046\" style=\"fill: #ff0000; stroke: #ff0000\"/>\n     <use xlink:href=\"#mdbb2f01297\" x=\"173.7103\" y=\"179.19635\" style=\"fill: #ff0000; stroke: #ff0000\"/>\n     <use xlink:href=\"#mdbb2f01297\" x=\"79.271228\" y=\"292.4426\" style=\"fill: #ff0000; stroke: #ff0000\"/>\n     <use xlink:href=\"#mdbb2f01297\" x=\"92.762524\" y=\"292.359109\" style=\"fill: #ff0000; stroke: #ff0000\"/>\n     <use xlink:href=\"#mdbb2f01297\" x=\"200.692892\" y=\"114.890974\" style=\"fill: #ff0000; stroke: #ff0000\"/>\n     <use xlink:href=\"#mdbb2f01297\" x=\"227.675484\" y=\"125.322043\" style=\"fill: #ff0000; stroke: #ff0000\"/>\n     <use xlink:href=\"#mdbb2f01297\" x=\"133.236412\" y=\"248.132786\" style=\"fill: #ff0000; stroke: #ff0000\"/>\n     <use xlink:href=\"#mdbb2f01297\" x=\"146.727708\" y=\"269.039806\" style=\"fill: #ff0000; stroke: #ff0000\"/>\n     <use xlink:href=\"#mdbb2f01297\" x=\"254.658075\" y=\"126.875473\" style=\"fill: #ff0000; stroke: #ff0000\"/>\n     <use xlink:href=\"#mdbb2f01297\" x=\"200.692892\" y=\"157.5446\" style=\"fill: #ff0000; stroke: #ff0000\"/>\n     <use xlink:href=\"#mdbb2f01297\" x=\"254.658075\" y=\"163.170658\" style=\"fill: #ff0000; stroke: #ff0000\"/>\n     <use xlink:href=\"#mdbb2f01297\" x=\"200.692892\" y=\"160.892659\" style=\"fill: #ff0000; stroke: #ff0000\"/>\n     <use xlink:href=\"#mdbb2f01297\" x=\"200.692892\" y=\"185.154853\" style=\"fill: #ff0000; stroke: #ff0000\"/>\n     <use xlink:href=\"#mdbb2f01297\" x=\"187.201596\" y=\"169.317804\" style=\"fill: #ff0000; stroke: #ff0000\"/>\n     <use xlink:href=\"#mdbb2f01297\" x=\"281.640667\" y=\"149.225568\" style=\"fill: #ff0000; stroke: #ff0000\"/>\n     <use xlink:href=\"#mdbb2f01297\" x=\"362.588443\" y=\"77.571284\" style=\"fill: #ff0000; stroke: #ff0000\"/>\n     <use xlink:href=\"#mdbb2f01297\" x=\"268.149371\" y=\"149.953975\" style=\"fill: #ff0000; stroke: #ff0000\"/>\n     <use xlink:href=\"#mdbb2f01297\" x=\"146.727708\" y=\"216.268659\" style=\"fill: #ff0000; stroke: #ff0000\"/>\n     <use xlink:href=\"#mdbb2f01297\" x=\"173.7103\" y=\"212.130552\" style=\"fill: #ff0000; stroke: #ff0000\"/>\n     <use xlink:href=\"#mdbb2f01297\" x=\"146.727708\" y=\"248.509214\" style=\"fill: #ff0000; stroke: #ff0000\"/>\n     <use xlink:href=\"#mdbb2f01297\" x=\"119.745116\" y=\"266.866521\" style=\"fill: #ff0000; stroke: #ff0000\"/>\n     <use xlink:href=\"#mdbb2f01297\" x=\"119.745116\" y=\"273.468286\" style=\"fill: #ff0000; stroke: #ff0000\"/>\n     <use xlink:href=\"#mdbb2f01297\" x=\"119.745116\" y=\"252.810088\" style=\"fill: #ff0000; stroke: #ff0000\"/>\n     <use xlink:href=\"#mdbb2f01297\" x=\"322.114555\" y=\"123.892676\" style=\"fill: #ff0000; stroke: #ff0000\"/>\n     <use xlink:href=\"#mdbb2f01297\" x=\"281.640667\" y=\"112.289309\" style=\"fill: #ff0000; stroke: #ff0000\"/>\n     <use xlink:href=\"#mdbb2f01297\" x=\"254.658075\" y=\"125.360202\" style=\"fill: #ff0000; stroke: #ff0000\"/>\n     <use xlink:href=\"#mdbb2f01297\" x=\"349.097147\" y=\"113.355761\" style=\"fill: #ff0000; stroke: #ff0000\"/>\n     <use xlink:href=\"#mdbb2f01297\" x=\"187.201596\" y=\"183.204033\" style=\"fill: #ff0000; stroke: #ff0000\"/>\n     <use xlink:href=\"#mdbb2f01297\" x=\"133.236412\" y=\"175.152103\" style=\"fill: #ff0000; stroke: #ff0000\"/>\n     <use xlink:href=\"#mdbb2f01297\" x=\"133.236412\" y=\"162.287984\" style=\"fill: #ff0000; stroke: #ff0000\"/>\n     <use xlink:href=\"#mdbb2f01297\" x=\"133.236412\" y=\"250.654208\" style=\"fill: #ff0000; stroke: #ff0000\"/>\n     <use xlink:href=\"#mdbb2f01297\" x=\"133.236412\" y=\"200.324122\" style=\"fill: #ff0000; stroke: #ff0000\"/>\n     <use xlink:href=\"#mdbb2f01297\" x=\"214.184188\" y=\"172.83009\" style=\"fill: #ff0000; stroke: #ff0000\"/>\n     <use xlink:href=\"#mdbb2f01297\" x=\"200.692892\" y=\"190.060719\" style=\"fill: #ff0000; stroke: #ff0000\"/>\n     <use xlink:href=\"#mdbb2f01297\" x=\"106.25382\" y=\"185.911784\" style=\"fill: #ff0000; stroke: #ff0000\"/>\n     <use xlink:href=\"#mdbb2f01297\" x=\"322.114555\" y=\"97.325077\" style=\"fill: #ff0000; stroke: #ff0000\"/>\n     <use xlink:href=\"#mdbb2f01297\" x=\"241.166779\" y=\"141.651699\" style=\"fill: #ff0000; stroke: #ff0000\"/>\n     <use xlink:href=\"#mdbb2f01297\" x=\"254.658075\" y=\"130.721176\" style=\"fill: #ff0000; stroke: #ff0000\"/>\n     <use xlink:href=\"#mdbb2f01297\" x=\"254.658075\" y=\"116.110829\" style=\"fill: #ff0000; stroke: #ff0000\"/>\n     <use xlink:href=\"#mdbb2f01297\" x=\"173.7103\" y=\"179.127872\" style=\"fill: #ff0000; stroke: #ff0000\"/>\n     <use xlink:href=\"#mdbb2f01297\" x=\"322.114555\" y=\"104.428741\" style=\"fill: #ff0000; stroke: #ff0000\"/>\n     <use xlink:href=\"#mdbb2f01297\" x=\"227.675484\" y=\"161.128722\" style=\"fill: #ff0000; stroke: #ff0000\"/>\n     <use xlink:href=\"#mdbb2f01297\" x=\"376.079739\" y=\"70.141821\" style=\"fill: #ff0000; stroke: #ff0000\"/>\n     <use xlink:href=\"#mdbb2f01297\" x=\"308.623259\" y=\"123.078024\" style=\"fill: #ff0000; stroke: #ff0000\"/>\n     <use xlink:href=\"#mdbb2f01297\" x=\"268.149371\" y=\"141.947107\" style=\"fill: #ff0000; stroke: #ff0000\"/>\n     <use xlink:href=\"#mdbb2f01297\" x=\"146.727708\" y=\"235.711977\" style=\"fill: #ff0000; stroke: #ff0000\"/>\n     <use xlink:href=\"#mdbb2f01297\" x=\"139.98206\" y=\"219.069702\" style=\"fill: #ff0000; stroke: #ff0000\"/>\n     <use xlink:href=\"#mdbb2f01297\" x=\"126.490764\" y=\"232.423249\" style=\"fill: #ff0000; stroke: #ff0000\"/>\n     <use xlink:href=\"#mdbb2f01297\" x=\"234.421132\" y=\"159.034078\" style=\"fill: #ff0000; stroke: #ff0000\"/>\n     <use xlink:href=\"#mdbb2f01297\" x=\"261.403723\" y=\"104.823381\" style=\"fill: #ff0000; stroke: #ff0000\"/>\n     <use xlink:href=\"#mdbb2f01297\" x=\"376.079739\" y=\"62.14195\" style=\"fill: #ff0000; stroke: #ff0000\"/>\n     <use xlink:href=\"#mdbb2f01297\" x=\"200.692892\" y=\"194.659606\" style=\"fill: #ff0000; stroke: #ff0000\"/>\n     <use xlink:href=\"#mdbb2f01297\" x=\"166.964652\" y=\"161.261211\" style=\"fill: #ff0000; stroke: #ff0000\"/>\n     <use xlink:href=\"#mdbb2f01297\" x=\"362.588443\" y=\"77.526744\" style=\"fill: #ff0000; stroke: #ff0000\"/>\n     <use xlink:href=\"#mdbb2f01297\" x=\"187.201596\" y=\"154.518071\" style=\"fill: #ff0000; stroke: #ff0000\"/>\n     <use xlink:href=\"#mdbb2f01297\" x=\"153.473356\" y=\"202.737065\" style=\"fill: #ff0000; stroke: #ff0000\"/>\n     <use xlink:href=\"#mdbb2f01297\" x=\"153.473356\" y=\"247.128898\" style=\"fill: #ff0000; stroke: #ff0000\"/>\n     <use xlink:href=\"#mdbb2f01297\" x=\"355.842795\" y=\"66.806682\" style=\"fill: #ff0000; stroke: #ff0000\"/>\n     <use xlink:href=\"#mdbb2f01297\" x=\"274.895019\" y=\"119.667529\" style=\"fill: #ff0000; stroke: #ff0000\"/>\n     <use xlink:href=\"#mdbb2f01297\" x=\"160.219004\" y=\"211.285827\" style=\"fill: #ff0000; stroke: #ff0000\"/>\n     <use xlink:href=\"#mdbb2f01297\" x=\"139.98206\" y=\"222.375983\" style=\"fill: #ff0000; stroke: #ff0000\"/>\n     <use xlink:href=\"#mdbb2f01297\" x=\"187.201596\" y=\"185.189103\" style=\"fill: #ff0000; stroke: #ff0000\"/>\n     <use xlink:href=\"#mdbb2f01297\" x=\"139.98206\" y=\"226.598598\" style=\"fill: #ff0000; stroke: #ff0000\"/>\n     <use xlink:href=\"#mdbb2f01297\" x=\"342.351499\" y=\"101.737878\" style=\"fill: #ff0000; stroke: #ff0000\"/>\n     <use xlink:href=\"#mdbb2f01297\" x=\"335.605851\" y=\"68.035728\" style=\"fill: #ff0000; stroke: #ff0000\"/>\n     <use xlink:href=\"#mdbb2f01297\" x=\"512.341828\" y=\"63.190269\" style=\"fill: #ff0000; stroke: #ff0000\"/>\n     <use xlink:href=\"#mdbb2f01297\" x=\"417.902756\" y=\"84.832994\" style=\"fill: #ff0000; stroke: #ff0000\"/>\n     <use xlink:href=\"#mdbb2f01297\" x=\"417.902756\" y=\"49.037203\" style=\"fill: #ff0000; stroke: #ff0000\"/>\n     <use xlink:href=\"#mdbb2f01297\" x=\"192.598114\" y=\"190.696704\" style=\"fill: #ff0000; stroke: #ff0000\"/>\n     <use xlink:href=\"#mdbb2f01297\" x=\"189.899855\" y=\"167.52566\" style=\"fill: #ff0000; stroke: #ff0000\"/>\n     <use xlink:href=\"#mdbb2f01297\" x=\"269.498501\" y=\"132.690266\" style=\"fill: #ff0000; stroke: #ff0000\"/>\n     <use xlink:href=\"#mdbb2f01297\" x=\"208.787669\" y=\"166.001488\" style=\"fill: #ff0000; stroke: #ff0000\"/>\n     <use xlink:href=\"#mdbb2f01297\" x=\"211.485928\" y=\"148.43958\" style=\"fill: #ff0000; stroke: #ff0000\"/>\n     <use xlink:href=\"#mdbb2f01297\" x=\"181.805077\" y=\"175.251344\" style=\"fill: #ff0000; stroke: #ff0000\"/>\n     <use xlink:href=\"#mdbb2f01297\" x=\"175.059429\" y=\"166.603241\" style=\"fill: #ff0000; stroke: #ff0000\"/>\n     <use xlink:href=\"#mdbb2f01297\" x=\"189.899855\" y=\"175.030121\" style=\"fill: #ff0000; stroke: #ff0000\"/>\n     <use xlink:href=\"#mdbb2f01297\" x=\"297.830222\" y=\"82.093982\" style=\"fill: #ff0000; stroke: #ff0000\"/>\n     <use xlink:href=\"#mdbb2f01297\" x=\"347.748017\" y=\"109.969417\" style=\"fill: #ff0000; stroke: #ff0000\"/>\n     <use xlink:href=\"#mdbb2f01297\" x=\"215.533317\" y=\"91.912594\" style=\"fill: #ff0000; stroke: #ff0000\"/>\n     <use xlink:href=\"#mdbb2f01297\" x=\"243.865039\" y=\"130.529414\" style=\"fill: #ff0000; stroke: #ff0000\"/>\n     <use xlink:href=\"#mdbb2f01297\" x=\"204.74028\" y=\"129.481683\" style=\"fill: #ff0000; stroke: #ff0000\"/>\n     <use xlink:href=\"#mdbb2f01297\" x=\"160.219004\" y=\"154.350194\" style=\"fill: #ff0000; stroke: #ff0000\"/>\n     <use xlink:href=\"#mdbb2f01297\" x=\"222.278965\" y=\"126.782995\" style=\"fill: #ff0000; stroke: #ff0000\"/>\n     <use xlink:href=\"#mdbb2f01297\" x=\"149.425967\" y=\"166.307034\" style=\"fill: #ff0000; stroke: #ff0000\"/>\n     <use xlink:href=\"#mdbb2f01297\" x=\"197.994632\" y=\"132.088622\" style=\"fill: #ff0000; stroke: #ff0000\"/>\n     <use xlink:href=\"#mdbb2f01297\" x=\"231.722872\" y=\"130.260651\" style=\"fill: #ff0000; stroke: #ff0000\"/>\n     <use xlink:href=\"#mdbb2f01297\" x=\"203.391151\" y=\"143.677905\" style=\"fill: #ff0000; stroke: #ff0000\"/>\n     <use xlink:href=\"#mdbb2f01297\" x=\"208.787669\" y=\"156.344845\" style=\"fill: #ff0000; stroke: #ff0000\"/>\n     <use xlink:href=\"#mdbb2f01297\" x=\"176.408559\" y=\"183.026986\" style=\"fill: #ff0000; stroke: #ff0000\"/>\n     <use xlink:href=\"#mdbb2f01297\" x=\"158.869874\" y=\"212.115367\" style=\"fill: #ff0000; stroke: #ff0000\"/>\n     <use xlink:href=\"#mdbb2f01297\" x=\"180.455948\" y=\"189.277498\" style=\"fill: #ff0000; stroke: #ff0000\"/>\n     <use xlink:href=\"#mdbb2f01297\" x=\"412.506238\" y=\"85.015758\" style=\"fill: #ff0000; stroke: #ff0000\"/>\n     <use xlink:href=\"#mdbb2f01297\" x=\"300.528482\" y=\"124.631281\" style=\"fill: #ff0000; stroke: #ff0000\"/>\n     <use xlink:href=\"#mdbb2f01297\" x=\"273.54589\" y=\"141.753191\" style=\"fill: #ff0000; stroke: #ff0000\"/>\n     <use xlink:href=\"#mdbb2f01297\" x=\"241.166779\" y=\"175.797743\" style=\"fill: #ff0000; stroke: #ff0000\"/>\n     <use xlink:href=\"#mdbb2f01297\" x=\"253.308946\" y=\"147.401715\" style=\"fill: #ff0000; stroke: #ff0000\"/>\n     <use xlink:href=\"#mdbb2f01297\" x=\"434.092311\" y=\"81.113898\" style=\"fill: #ff0000; stroke: #ff0000\"/>\n     <use xlink:href=\"#mdbb2f01297\" x=\"319.416296\" y=\"132.090071\" style=\"fill: #ff0000; stroke: #ff0000\"/>\n     <use xlink:href=\"#mdbb2f01297\" x=\"382.825387\" y=\"118.112078\" style=\"fill: #ff0000; stroke: #ff0000\"/>\n     <use xlink:href=\"#mdbb2f01297\" x=\"432.743182\" y=\"46.964939\" style=\"fill: #ff0000; stroke: #ff0000\"/>\n     <use xlink:href=\"#mdbb2f01297\" x=\"287.037186\" y=\"119.045619\" style=\"fill: #ff0000; stroke: #ff0000\"/>\n     <use xlink:href=\"#mdbb2f01297\" x=\"258.705464\" y=\"120.832738\" style=\"fill: #ff0000; stroke: #ff0000\"/>\n     <use xlink:href=\"#mdbb2f01297\" x=\"188.550725\" y=\"142.35902\" style=\"fill: #ff0000; stroke: #ff0000\"/>\n     <use xlink:href=\"#mdbb2f01297\" x=\"332.907592\" y=\"84.937332\" style=\"fill: #ff0000; stroke: #ff0000\"/>\n     <use xlink:href=\"#mdbb2f01297\" x=\"430.044923\" y=\"72.344465\" style=\"fill: #ff0000; stroke: #ff0000\"/>\n     <use xlink:href=\"#mdbb2f01297\" x=\"365.286702\" y=\"61.75934\" style=\"fill: #ff0000; stroke: #ff0000\"/>\n     <use xlink:href=\"#mdbb2f01297\" x=\"307.27413\" y=\"122.52582\" style=\"fill: #ff0000; stroke: #ff0000\"/>\n     <use xlink:href=\"#mdbb2f01297\" x=\"532.578772\" y=\"42.208286\" style=\"fill: #ff0000; stroke: #ff0000\"/>\n     <use xlink:href=\"#mdbb2f01297\" x=\"332.907592\" y=\"54.172711\" style=\"fill: #ff0000; stroke: #ff0000\"/>\n     <use xlink:href=\"#mdbb2f01297\" x=\"372.03235\" y=\"113.311246\" style=\"fill: #ff0000; stroke: #ff0000\"/>\n     <use xlink:href=\"#mdbb2f01297\" x=\"250.610687\" y=\"82.062608\" style=\"fill: #ff0000; stroke: #ff0000\"/>\n     <use xlink:href=\"#mdbb2f01297\" x=\"403.062331\" y=\"90.963297\" style=\"fill: #ff0000; stroke: #ff0000\"/>\n     <use xlink:href=\"#mdbb2f01297\" x=\"278.942408\" y=\"102.151842\" style=\"fill: #ff0000; stroke: #ff0000\"/>\n     <use xlink:href=\"#mdbb2f01297\" x=\"247.912427\" y=\"119.848604\" style=\"fill: #ff0000; stroke: #ff0000\"/>\n     <use xlink:href=\"#mdbb2f01297\" x=\"458.376644\" y=\"22.32\" style=\"fill: #ff0000; stroke: #ff0000\"/>\n     <use xlink:href=\"#mdbb2f01297\" x=\"366.635832\" y=\"36.721083\" style=\"fill: #ff0000; stroke: #ff0000\"/>\n     <use xlink:href=\"#mdbb2f01297\" x=\"430.044923\" y=\"29.531487\" style=\"fill: #ff0000; stroke: #ff0000\"/>\n     <use xlink:href=\"#mdbb2f01297\" x=\"439.48883\" y=\"37.712414\" style=\"fill: #ff0000; stroke: #ff0000\"/>\n     <use xlink:href=\"#mdbb2f01297\" x=\"399.014942\" y=\"82.139706\" style=\"fill: #ff0000; stroke: #ff0000\"/>\n     <use xlink:href=\"#mdbb2f01297\" x=\"334.256721\" y=\"80.228263\" style=\"fill: #ff0000; stroke: #ff0000\"/>\n     <use xlink:href=\"#mdbb2f01297\" x=\"367.984961\" y=\"54.966252\" style=\"fill: #ff0000; stroke: #ff0000\"/>\n     <use xlink:href=\"#mdbb2f01297\" x=\"374.730609\" y=\"76.210345\" style=\"fill: #ff0000; stroke: #ff0000\"/>\n     <use xlink:href=\"#mdbb2f01297\" x=\"273.54589\" y=\"99.970757\" style=\"fill: #ff0000; stroke: #ff0000\"/>\n     <use xlink:href=\"#mdbb2f01297\" x=\"257.356335\" y=\"103.130645\" style=\"fill: #ff0000; stroke: #ff0000\"/>\n     <use xlink:href=\"#mdbb2f01297\" x=\"233.072002\" y=\"143.968345\" style=\"fill: #ff0000; stroke: #ff0000\"/>\n     <use xlink:href=\"#mdbb2f01297\" x=\"349.097147\" y=\"93.670422\" style=\"fill: #ff0000; stroke: #ff0000\"/>\n     <use xlink:href=\"#mdbb2f01297\" x=\"322.114555\" y=\"87.245362\" style=\"fill: #ff0000; stroke: #ff0000\"/>\n     <use xlink:href=\"#mdbb2f01297\" x=\"295.131963\" y=\"93.226545\" style=\"fill: #ff0000; stroke: #ff0000\"/>\n     <use xlink:href=\"#mdbb2f01297\" x=\"416.553627\" y=\"44.446955\" style=\"fill: #ff0000; stroke: #ff0000\"/>\n     <use xlink:href=\"#mdbb2f01297\" x=\"430.044923\" y=\"26.326371\" style=\"fill: #ff0000; stroke: #ff0000\"/>\n     <use xlink:href=\"#mdbb2f01297\" x=\"349.097147\" y=\"24.418123\" style=\"fill: #ff0000; stroke: #ff0000\"/>\n     <use xlink:href=\"#mdbb2f01297\" x=\"416.553627\" y=\"65.117089\" style=\"fill: #ff0000; stroke: #ff0000\"/>\n     <use xlink:href=\"#mdbb2f01297\" x=\"416.553627\" y=\"40.155627\" style=\"fill: #ff0000; stroke: #ff0000\"/>\n     <use xlink:href=\"#mdbb2f01297\" x=\"416.553627\" y=\"43.494528\" style=\"fill: #ff0000; stroke: #ff0000\"/>\n     <use xlink:href=\"#mdbb2f01297\" x=\"362.588443\" y=\"28.292206\" style=\"fill: #ff0000; stroke: #ff0000\"/>\n     <use xlink:href=\"#mdbb2f01297\" x=\"443.536219\" y=\"28.943607\" style=\"fill: #ff0000; stroke: #ff0000\"/>\n     <use xlink:href=\"#mdbb2f01297\" x=\"443.536219\" y=\"101.362991\" style=\"fill: #ff0000; stroke: #ff0000\"/>\n     <use xlink:href=\"#mdbb2f01297\" x=\"227.675484\" y=\"103.895239\" style=\"fill: #ff0000; stroke: #ff0000\"/>\n     <use xlink:href=\"#mdbb2f01297\" x=\"416.553627\" y=\"84.819279\" style=\"fill: #ff0000; stroke: #ff0000\"/>\n     <use xlink:href=\"#mdbb2f01297\" x=\"295.131963\" y=\"107.552888\" style=\"fill: #ff0000; stroke: #ff0000\"/>\n     <use xlink:href=\"#mdbb2f01297\" x=\"295.131963\" y=\"103.261365\" style=\"fill: #ff0000; stroke: #ff0000\"/>\n     <use xlink:href=\"#mdbb2f01297\" x=\"524.483994\" y=\"31.194803\" style=\"fill: #ff0000; stroke: #ff0000\"/>\n     <use xlink:href=\"#mdbb2f01297\" x=\"362.588443\" y=\"83.528992\" style=\"fill: #ff0000; stroke: #ff0000\"/>\n     <use xlink:href=\"#mdbb2f01297\" x=\"308.623259\" y=\"89.221441\" style=\"fill: #ff0000; stroke: #ff0000\"/>\n    </g>\n   </g>\n   <g id=\"patch_3\">\n    <path d=\"M 26.925 339.84 \nL 26.925 7.2 \n\" style=\"fill: none; stroke: #000000; stroke-width: 0.8; stroke-linejoin: miter; stroke-linecap: square\"/>\n   </g>\n   <g id=\"patch_4\">\n    <path d=\"M 584.925 339.84 \nL 584.925 7.2 \n\" style=\"fill: none; stroke: #000000; stroke-width: 0.8; stroke-linejoin: miter; stroke-linecap: square\"/>\n   </g>\n   <g id=\"patch_5\">\n    <path d=\"M 26.925 339.84 \nL 584.925 339.84 \n\" style=\"fill: none; stroke: #000000; stroke-width: 0.8; stroke-linejoin: miter; stroke-linecap: square\"/>\n   </g>\n   <g id=\"patch_6\">\n    <path d=\"M 26.925 7.2 \nL 584.925 7.2 \n\" style=\"fill: none; stroke: #000000; stroke-width: 0.8; stroke-linejoin: miter; stroke-linecap: square\"/>\n   </g>\n  </g>\n </g>\n <defs>\n  <clipPath id=\"pb710107d29\">\n   <rect x=\"26.925\" y=\"7.2\" width=\"558\" height=\"332.64\"/>\n  </clipPath>\n </defs>\n</svg>\n"
          },
          "metadata": {}
        }
      ],
      "source": [
        "# prompt: Perform linear regression with mpg as the output and all other variables except name as input. How well (in terms of root-mean-square-error) does the model perform on test data and training data, respectively?\n",
        "\n",
        "# Create the linear regression model\n",
        "model = linear_model.LinearRegression()\n",
        "\n",
        "# Define the input features (all except 'name' and 'mpg')\n",
        "X_train = train.drop(['name', 'mpg'], axis=1)\n",
        "y_train = train['mpg']\n",
        "\n",
        "X_test = test.drop(['name', 'mpg'], axis=1)\n",
        "y_test = test['mpg']\n",
        "\n",
        "# Train the model\n",
        "model.fit(X_train, y_train)\n",
        "\n",
        "# Make predictions on the training data\n",
        "y_train_pred = model.predict(X_train)\n",
        "\n",
        "# Make predictions on the test data\n",
        "y_test_pred = model.predict(X_test)\n",
        "\n",
        "# Calculate the RMSE for the training data\n",
        "from sklearn.metrics import mean_squared_error\n",
        "rmse_train = np.sqrt(mean_squared_error(y_train, y_train_pred))\n",
        "\n",
        "# Calculate the RMSE for the test data\n",
        "rmse_test = np.sqrt(mean_squared_error(y_test, y_test_pred))\n",
        "\n",
        "print(f\"RMSE on training data: {rmse_train:.2f}\")\n",
        "print(f\"RMSE on test data: {rmse_test:.2f}\")\n",
        "\n"
      ]
    },
    {
      "cell_type": "markdown",
      "metadata": {
        "tags": [],
        "id": "9Doaa_GP-Ncu"
      },
      "source": [
        "## (d)\n",
        "Now, consider the input variable `origin`. What do the different numbers represent? By running `auto.origin.sample(30)` we see the 30 samples of the variable and that the input variables is quantitative. Does it really makes sense to treat it as a quantitative input? Use `pd.get_dummies()` to split it into dummy variables and do the linear regression again.\n"
      ]
    },
    {
      "cell_type": "code",
      "execution_count": 33,
      "metadata": {
        "tags": [],
        "id": "vJv8Vxc1-Ncu",
        "outputId": "6b758095-27bc-4e3b-ee07-d01a7b80d347",
        "colab": {
          "base_uri": "https://localhost:8080/",
          "height": 424
        }
      },
      "outputs": [
        {
          "output_type": "execute_result",
          "data": {
            "text/plain": [
              "         1      2      3\n",
              "0     True  False  False\n",
              "1     True  False  False\n",
              "2     True  False  False\n",
              "3     True  False  False\n",
              "4     True  False  False\n",
              "..     ...    ...    ...\n",
              "392   True  False  False\n",
              "393  False   True  False\n",
              "394   True  False  False\n",
              "395   True  False  False\n",
              "396   True  False  False\n",
              "\n",
              "[392 rows x 3 columns]"
            ],
            "text/html": [
              "\n",
              "  <div id=\"df-bf93409f-6a73-42d7-a11b-823452a49197\" class=\"colab-df-container\">\n",
              "    <div>\n",
              "<style scoped>\n",
              "    .dataframe tbody tr th:only-of-type {\n",
              "        vertical-align: middle;\n",
              "    }\n",
              "\n",
              "    .dataframe tbody tr th {\n",
              "        vertical-align: top;\n",
              "    }\n",
              "\n",
              "    .dataframe thead th {\n",
              "        text-align: right;\n",
              "    }\n",
              "</style>\n",
              "<table border=\"1\" class=\"dataframe\">\n",
              "  <thead>\n",
              "    <tr style=\"text-align: right;\">\n",
              "      <th></th>\n",
              "      <th>1</th>\n",
              "      <th>2</th>\n",
              "      <th>3</th>\n",
              "    </tr>\n",
              "  </thead>\n",
              "  <tbody>\n",
              "    <tr>\n",
              "      <th>0</th>\n",
              "      <td>True</td>\n",
              "      <td>False</td>\n",
              "      <td>False</td>\n",
              "    </tr>\n",
              "    <tr>\n",
              "      <th>1</th>\n",
              "      <td>True</td>\n",
              "      <td>False</td>\n",
              "      <td>False</td>\n",
              "    </tr>\n",
              "    <tr>\n",
              "      <th>2</th>\n",
              "      <td>True</td>\n",
              "      <td>False</td>\n",
              "      <td>False</td>\n",
              "    </tr>\n",
              "    <tr>\n",
              "      <th>3</th>\n",
              "      <td>True</td>\n",
              "      <td>False</td>\n",
              "      <td>False</td>\n",
              "    </tr>\n",
              "    <tr>\n",
              "      <th>4</th>\n",
              "      <td>True</td>\n",
              "      <td>False</td>\n",
              "      <td>False</td>\n",
              "    </tr>\n",
              "    <tr>\n",
              "      <th>...</th>\n",
              "      <td>...</td>\n",
              "      <td>...</td>\n",
              "      <td>...</td>\n",
              "    </tr>\n",
              "    <tr>\n",
              "      <th>392</th>\n",
              "      <td>True</td>\n",
              "      <td>False</td>\n",
              "      <td>False</td>\n",
              "    </tr>\n",
              "    <tr>\n",
              "      <th>393</th>\n",
              "      <td>False</td>\n",
              "      <td>True</td>\n",
              "      <td>False</td>\n",
              "    </tr>\n",
              "    <tr>\n",
              "      <th>394</th>\n",
              "      <td>True</td>\n",
              "      <td>False</td>\n",
              "      <td>False</td>\n",
              "    </tr>\n",
              "    <tr>\n",
              "      <th>395</th>\n",
              "      <td>True</td>\n",
              "      <td>False</td>\n",
              "      <td>False</td>\n",
              "    </tr>\n",
              "    <tr>\n",
              "      <th>396</th>\n",
              "      <td>True</td>\n",
              "      <td>False</td>\n",
              "      <td>False</td>\n",
              "    </tr>\n",
              "  </tbody>\n",
              "</table>\n",
              "<p>392 rows × 3 columns</p>\n",
              "</div>\n",
              "    <div class=\"colab-df-buttons\">\n",
              "\n",
              "  <div class=\"colab-df-container\">\n",
              "    <button class=\"colab-df-convert\" onclick=\"convertToInteractive('df-bf93409f-6a73-42d7-a11b-823452a49197')\"\n",
              "            title=\"Convert this dataframe to an interactive table.\"\n",
              "            style=\"display:none;\">\n",
              "\n",
              "  <svg xmlns=\"http://www.w3.org/2000/svg\" height=\"24px\" viewBox=\"0 -960 960 960\">\n",
              "    <path d=\"M120-120v-720h720v720H120Zm60-500h600v-160H180v160Zm220 220h160v-160H400v160Zm0 220h160v-160H400v160ZM180-400h160v-160H180v160Zm440 0h160v-160H620v160ZM180-180h160v-160H180v160Zm440 0h160v-160H620v160Z\"/>\n",
              "  </svg>\n",
              "    </button>\n",
              "\n",
              "  <style>\n",
              "    .colab-df-container {\n",
              "      display:flex;\n",
              "      gap: 12px;\n",
              "    }\n",
              "\n",
              "    .colab-df-convert {\n",
              "      background-color: #E8F0FE;\n",
              "      border: none;\n",
              "      border-radius: 50%;\n",
              "      cursor: pointer;\n",
              "      display: none;\n",
              "      fill: #1967D2;\n",
              "      height: 32px;\n",
              "      padding: 0 0 0 0;\n",
              "      width: 32px;\n",
              "    }\n",
              "\n",
              "    .colab-df-convert:hover {\n",
              "      background-color: #E2EBFA;\n",
              "      box-shadow: 0px 1px 2px rgba(60, 64, 67, 0.3), 0px 1px 3px 1px rgba(60, 64, 67, 0.15);\n",
              "      fill: #174EA6;\n",
              "    }\n",
              "\n",
              "    .colab-df-buttons div {\n",
              "      margin-bottom: 4px;\n",
              "    }\n",
              "\n",
              "    [theme=dark] .colab-df-convert {\n",
              "      background-color: #3B4455;\n",
              "      fill: #D2E3FC;\n",
              "    }\n",
              "\n",
              "    [theme=dark] .colab-df-convert:hover {\n",
              "      background-color: #434B5C;\n",
              "      box-shadow: 0px 1px 3px 1px rgba(0, 0, 0, 0.15);\n",
              "      filter: drop-shadow(0px 1px 2px rgba(0, 0, 0, 0.3));\n",
              "      fill: #FFFFFF;\n",
              "    }\n",
              "  </style>\n",
              "\n",
              "    <script>\n",
              "      const buttonEl =\n",
              "        document.querySelector('#df-bf93409f-6a73-42d7-a11b-823452a49197 button.colab-df-convert');\n",
              "      buttonEl.style.display =\n",
              "        google.colab.kernel.accessAllowed ? 'block' : 'none';\n",
              "\n",
              "      async function convertToInteractive(key) {\n",
              "        const element = document.querySelector('#df-bf93409f-6a73-42d7-a11b-823452a49197');\n",
              "        const dataTable =\n",
              "          await google.colab.kernel.invokeFunction('convertToInteractive',\n",
              "                                                    [key], {});\n",
              "        if (!dataTable) return;\n",
              "\n",
              "        const docLinkHtml = 'Like what you see? Visit the ' +\n",
              "          '<a target=\"_blank\" href=https://colab.research.google.com/notebooks/data_table.ipynb>data table notebook</a>'\n",
              "          + ' to learn more about interactive tables.';\n",
              "        element.innerHTML = '';\n",
              "        dataTable['output_type'] = 'display_data';\n",
              "        await google.colab.output.renderOutput(dataTable, element);\n",
              "        const docLink = document.createElement('div');\n",
              "        docLink.innerHTML = docLinkHtml;\n",
              "        element.appendChild(docLink);\n",
              "      }\n",
              "    </script>\n",
              "  </div>\n",
              "\n",
              "\n",
              "<div id=\"df-265ab9f9-929a-4211-8352-fcfef4a6a397\">\n",
              "  <button class=\"colab-df-quickchart\" onclick=\"quickchart('df-265ab9f9-929a-4211-8352-fcfef4a6a397')\"\n",
              "            title=\"Suggest charts\"\n",
              "            style=\"display:none;\">\n",
              "\n",
              "<svg xmlns=\"http://www.w3.org/2000/svg\" height=\"24px\"viewBox=\"0 0 24 24\"\n",
              "     width=\"24px\">\n",
              "    <g>\n",
              "        <path d=\"M19 3H5c-1.1 0-2 .9-2 2v14c0 1.1.9 2 2 2h14c1.1 0 2-.9 2-2V5c0-1.1-.9-2-2-2zM9 17H7v-7h2v7zm4 0h-2V7h2v10zm4 0h-2v-4h2v4z\"/>\n",
              "    </g>\n",
              "</svg>\n",
              "  </button>\n",
              "\n",
              "<style>\n",
              "  .colab-df-quickchart {\n",
              "      --bg-color: #E8F0FE;\n",
              "      --fill-color: #1967D2;\n",
              "      --hover-bg-color: #E2EBFA;\n",
              "      --hover-fill-color: #174EA6;\n",
              "      --disabled-fill-color: #AAA;\n",
              "      --disabled-bg-color: #DDD;\n",
              "  }\n",
              "\n",
              "  [theme=dark] .colab-df-quickchart {\n",
              "      --bg-color: #3B4455;\n",
              "      --fill-color: #D2E3FC;\n",
              "      --hover-bg-color: #434B5C;\n",
              "      --hover-fill-color: #FFFFFF;\n",
              "      --disabled-bg-color: #3B4455;\n",
              "      --disabled-fill-color: #666;\n",
              "  }\n",
              "\n",
              "  .colab-df-quickchart {\n",
              "    background-color: var(--bg-color);\n",
              "    border: none;\n",
              "    border-radius: 50%;\n",
              "    cursor: pointer;\n",
              "    display: none;\n",
              "    fill: var(--fill-color);\n",
              "    height: 32px;\n",
              "    padding: 0;\n",
              "    width: 32px;\n",
              "  }\n",
              "\n",
              "  .colab-df-quickchart:hover {\n",
              "    background-color: var(--hover-bg-color);\n",
              "    box-shadow: 0 1px 2px rgba(60, 64, 67, 0.3), 0 1px 3px 1px rgba(60, 64, 67, 0.15);\n",
              "    fill: var(--button-hover-fill-color);\n",
              "  }\n",
              "\n",
              "  .colab-df-quickchart-complete:disabled,\n",
              "  .colab-df-quickchart-complete:disabled:hover {\n",
              "    background-color: var(--disabled-bg-color);\n",
              "    fill: var(--disabled-fill-color);\n",
              "    box-shadow: none;\n",
              "  }\n",
              "\n",
              "  .colab-df-spinner {\n",
              "    border: 2px solid var(--fill-color);\n",
              "    border-color: transparent;\n",
              "    border-bottom-color: var(--fill-color);\n",
              "    animation:\n",
              "      spin 1s steps(1) infinite;\n",
              "  }\n",
              "\n",
              "  @keyframes spin {\n",
              "    0% {\n",
              "      border-color: transparent;\n",
              "      border-bottom-color: var(--fill-color);\n",
              "      border-left-color: var(--fill-color);\n",
              "    }\n",
              "    20% {\n",
              "      border-color: transparent;\n",
              "      border-left-color: var(--fill-color);\n",
              "      border-top-color: var(--fill-color);\n",
              "    }\n",
              "    30% {\n",
              "      border-color: transparent;\n",
              "      border-left-color: var(--fill-color);\n",
              "      border-top-color: var(--fill-color);\n",
              "      border-right-color: var(--fill-color);\n",
              "    }\n",
              "    40% {\n",
              "      border-color: transparent;\n",
              "      border-right-color: var(--fill-color);\n",
              "      border-top-color: var(--fill-color);\n",
              "    }\n",
              "    60% {\n",
              "      border-color: transparent;\n",
              "      border-right-color: var(--fill-color);\n",
              "    }\n",
              "    80% {\n",
              "      border-color: transparent;\n",
              "      border-right-color: var(--fill-color);\n",
              "      border-bottom-color: var(--fill-color);\n",
              "    }\n",
              "    90% {\n",
              "      border-color: transparent;\n",
              "      border-bottom-color: var(--fill-color);\n",
              "    }\n",
              "  }\n",
              "</style>\n",
              "\n",
              "  <script>\n",
              "    async function quickchart(key) {\n",
              "      const quickchartButtonEl =\n",
              "        document.querySelector('#' + key + ' button');\n",
              "      quickchartButtonEl.disabled = true;  // To prevent multiple clicks.\n",
              "      quickchartButtonEl.classList.add('colab-df-spinner');\n",
              "      try {\n",
              "        const charts = await google.colab.kernel.invokeFunction(\n",
              "            'suggestCharts', [key], {});\n",
              "      } catch (error) {\n",
              "        console.error('Error during call to suggestCharts:', error);\n",
              "      }\n",
              "      quickchartButtonEl.classList.remove('colab-df-spinner');\n",
              "      quickchartButtonEl.classList.add('colab-df-quickchart-complete');\n",
              "    }\n",
              "    (() => {\n",
              "      let quickchartButtonEl =\n",
              "        document.querySelector('#df-265ab9f9-929a-4211-8352-fcfef4a6a397 button');\n",
              "      quickchartButtonEl.style.display =\n",
              "        google.colab.kernel.accessAllowed ? 'block' : 'none';\n",
              "    })();\n",
              "  </script>\n",
              "</div>\n",
              "\n",
              "    </div>\n",
              "  </div>\n"
            ],
            "application/vnd.google.colaboratory.intrinsic+json": {
              "type": "dataframe",
              "summary": "{\n  \"name\": \"pd\",\n  \"rows\": 392,\n  \"fields\": [\n    {\n      \"column\": 1,\n      \"properties\": {\n        \"dtype\": \"boolean\",\n        \"num_unique_values\": 2,\n        \"samples\": [\n          false,\n          true\n        ],\n        \"semantic_type\": \"\",\n        \"description\": \"\"\n      }\n    },\n    {\n      \"column\": 2,\n      \"properties\": {\n        \"dtype\": \"boolean\",\n        \"num_unique_values\": 2,\n        \"samples\": [\n          true,\n          false\n        ],\n        \"semantic_type\": \"\",\n        \"description\": \"\"\n      }\n    },\n    {\n      \"column\": 3,\n      \"properties\": {\n        \"dtype\": \"boolean\",\n        \"num_unique_values\": 2,\n        \"samples\": [\n          true,\n          false\n        ],\n        \"semantic_type\": \"\",\n        \"description\": \"\"\n      }\n    }\n  ]\n}"
            }
          },
          "metadata": {},
          "execution_count": 33
        }
      ],
      "source": [
        "auto.origin.sample(30)\n",
        "pd.get_dummies(auto.origin)"
      ]
    },
    {
      "cell_type": "markdown",
      "metadata": {
        "tags": [],
        "id": "o9k8gjbL-Ncu"
      },
      "source": [
        "## (e)\n",
        "Try obtain a better RMSE on test data by removing some inputs (explore what happens if you remove, e.g, `year`, `weight` and `acceleration`)"
      ]
    },
    {
      "cell_type": "code",
      "execution_count": null,
      "metadata": {
        "tags": [],
        "id": "rZfWULWz-Ncu"
      },
      "outputs": [],
      "source": []
    },
    {
      "cell_type": "markdown",
      "metadata": {
        "tags": [],
        "id": "dTRwD48n-Ncu"
      },
      "source": [
        "## (f)\n",
        "Try to obtain a better RMSE on test data by adding some transformations of inputs, such as\n",
        "$log(x)$, $\\sqrt{x}$, $x_1x_2$ etc.\n"
      ]
    },
    {
      "cell_type": "code",
      "execution_count": null,
      "metadata": {
        "tags": [],
        "id": "lROveyJu-Ncu"
      },
      "outputs": [],
      "source": []
    },
    {
      "cell_type": "markdown",
      "metadata": {
        "tags": [],
        "id": "utXHhtlB-Ncu"
      },
      "source": [
        "# 2.4 Nonlinear transformations of input variables"
      ]
    },
    {
      "cell_type": "code",
      "execution_count": 37,
      "metadata": {
        "tags": [],
        "id": "HDq9MB2R-Ncu"
      },
      "outputs": [],
      "source": [
        "#Start by running the following code to generate your training data\n",
        "np.random.seed(1)\n",
        "x_train = np.random.uniform(0, 10, 100)\n",
        "y_train = .4 \\\n",
        "          - .6 * x_train \\\n",
        "          + 3. * np.sin(x_train - 1.2) \\\n",
        "          + np.random.normal(0, 0.1, 100)"
      ]
    },
    {
      "cell_type": "markdown",
      "metadata": {
        "tags": [],
        "id": "ilrpnTwU-Ncu"
      },
      "source": [
        "## (a)\n",
        "Plot the training output `y_train` versus the training input `x_train`.  "
      ]
    },
    {
      "cell_type": "code",
      "execution_count": 38,
      "metadata": {
        "tags": [],
        "id": "IeDKJ28m-Ncv",
        "outputId": "599dddd2-fa25-481c-aa2a-0091e93dbd69",
        "colab": {
          "base_uri": "https://localhost:8080/",
          "height": 506
        }
      },
      "outputs": [
        {
          "output_type": "display_data",
          "data": {
            "text/plain": [
              "<Figure size 1000x600 with 1 Axes>"
            ],
            "image/svg+xml": "<?xml version=\"1.0\" encoding=\"utf-8\" standalone=\"no\"?>\n<!DOCTYPE svg PUBLIC \"-//W3C//DTD SVG 1.1//EN\"\n  \"http://www.w3.org/Graphics/SVG/1.1/DTD/svg11.dtd\">\n<svg xmlns:xlink=\"http://www.w3.org/1999/xlink\" width=\"594.142188pt\" height=\"363.718125pt\" viewBox=\"0 0 594.142188 363.718125\" xmlns=\"http://www.w3.org/2000/svg\" version=\"1.1\">\n <metadata>\n  <rdf:RDF xmlns:dc=\"http://purl.org/dc/elements/1.1/\" xmlns:cc=\"http://creativecommons.org/ns#\" xmlns:rdf=\"http://www.w3.org/1999/02/22-rdf-syntax-ns#\">\n   <cc:Work>\n    <dc:type rdf:resource=\"http://purl.org/dc/dcmitype/StillImage\"/>\n    <dc:date>2024-11-11T12:15:09.762876</dc:date>\n    <dc:format>image/svg+xml</dc:format>\n    <dc:creator>\n     <cc:Agent>\n      <dc:title>Matplotlib v3.8.0, https://matplotlib.org/</dc:title>\n     </cc:Agent>\n    </dc:creator>\n   </cc:Work>\n  </rdf:RDF>\n </metadata>\n <defs>\n  <style type=\"text/css\">*{stroke-linejoin: round; stroke-linecap: butt}</style>\n </defs>\n <g id=\"figure_1\">\n  <g id=\"patch_1\">\n   <path d=\"M 0 363.718125 \nL 594.142188 363.718125 \nL 594.142188 0 \nL 0 0 \nz\n\" style=\"fill: #ffffff\"/>\n  </g>\n  <g id=\"axes_1\">\n   <g id=\"patch_2\">\n    <path d=\"M 28.942188 339.84 \nL 586.942188 339.84 \nL 586.942188 7.2 \nL 28.942188 7.2 \nz\n\" style=\"fill: #ffffff\"/>\n   </g>\n   <g id=\"PathCollection_1\">\n    <defs>\n     <path id=\"m2f01aabd01\" d=\"M 0 3 \nC 0.795609 3 1.55874 2.683901 2.12132 2.12132 \nC 2.683901 1.55874 3 0.795609 3 0 \nC 3 -0.795609 2.683901 -1.55874 2.12132 -2.12132 \nC 1.55874 -2.683901 0.795609 -3 0 -3 \nC -0.795609 -3 -1.55874 -2.683901 -2.12132 -2.12132 \nC -2.683901 -1.55874 -3 -0.795609 -3 0 \nC -3 0.795609 -2.683901 1.55874 -2.12132 2.12132 \nC -1.55874 2.683901 -0.795609 3 0 3 \nz\n\" style=\"stroke: #1f77b4\"/>\n    </defs>\n    <g clip-path=\"url(#p513cccbe5a)\">\n     <use xlink:href=\"#m2f01aabd01\" x=\"268.198692\" y=\"148.820058\" style=\"fill: #1f77b4; stroke: #1f77b4\"/>\n     <use xlink:href=\"#m2f01aabd01\" x=\"423.806876\" y=\"275.864481\" style=\"fill: #1f77b4; stroke: #1f77b4\"/>\n     <use xlink:href=\"#m2f01aabd01\" x=\"54.305824\" y=\"181.28077\" style=\"fill: #1f77b4; stroke: #1f77b4\"/>\n     <use xlink:href=\"#m2f01aabd01\" x=\"209.357717\" y=\"31.563177\" style=\"fill: #1f77b4; stroke: #1f77b4\"/>\n     <use xlink:href=\"#m2f01aabd01\" x=\"129.539694\" y=\"77.904393\" style=\"fill: #1f77b4; stroke: #1f77b4\"/>\n     <use xlink:href=\"#m2f01aabd01\" x=\"101.621108\" y=\"124.046999\" style=\"fill: #1f77b4; stroke: #1f77b4\"/>\n     <use xlink:href=\"#m2f01aabd01\" x=\"149.807235\" y=\"49.078458\" style=\"fill: #1f77b4; stroke: #1f77b4\"/>\n     <use xlink:href=\"#m2f01aabd01\" x=\"231.535756\" y=\"66.878438\" style=\"fill: #1f77b4; stroke: #1f77b4\"/>\n     <use xlink:href=\"#m2f01aabd01\" x=\"257.807182\" y=\"122.887463\" style=\"fill: #1f77b4; stroke: #1f77b4\"/>\n     <use xlink:href=\"#m2f01aabd01\" x=\"330.685013\" y=\"292.183434\" style=\"fill: #1f77b4; stroke: #1f77b4\"/>\n     <use xlink:href=\"#m2f01aabd01\" x=\"269.31329\" y=\"152.155339\" style=\"fill: #1f77b4; stroke: #1f77b4\"/>\n     <use xlink:href=\"#m2f01aabd01\" x=\"405.796393\" y=\"295.185902\" style=\"fill: #1f77b4; stroke: #1f77b4\"/>\n     <use xlink:href=\"#m2f01aabd01\" x=\"159.140591\" y=\"39.965312\" style=\"fill: #1f77b4; stroke: #1f77b4\"/>\n     <use xlink:href=\"#m2f01aabd01\" x=\"504.761943\" y=\"163.153494\" style=\"fill: #1f77b4; stroke: #1f77b4\"/>\n     <use xlink:href=\"#m2f01aabd01\" x=\"68.298244\" y=\"170.944393\" style=\"fill: #1f77b4; stroke: #1f77b4\"/>\n     <use xlink:href=\"#m2f01aabd01\" x=\"398.227941\" y=\"300.69818\" style=\"fill: #1f77b4; stroke: #1f77b4\"/>\n     <use xlink:href=\"#m2f01aabd01\" x=\"268.34378\" y=\"145.890342\" style=\"fill: #1f77b4; stroke: #1f77b4\"/>\n     <use xlink:href=\"#m2f01aabd01\" x=\"340.880828\" y=\"306.671784\" style=\"fill: #1f77b4; stroke: #1f77b4\"/>\n     <use xlink:href=\"#m2f01aabd01\" x=\"126.272127\" y=\"85.692954\" style=\"fill: #1f77b4; stroke: #1f77b4\"/>\n     <use xlink:href=\"#m2f01aabd01\" x=\"155.882357\" y=\"43.32148\" style=\"fill: #1f77b4; stroke: #1f77b4\"/>\n     <use xlink:href=\"#m2f01aabd01\" x=\"465.066089\" y=\"197.534074\" style=\"fill: #1f77b4; stroke: #1f77b4\"/>\n     <use xlink:href=\"#m2f01aabd01\" x=\"551.01005\" y=\"201.836453\" style=\"fill: #1f77b4; stroke: #1f77b4\"/>\n     <use xlink:href=\"#m2f01aabd01\" x=\"215.048222\" y=\"42.21418\" style=\"fill: #1f77b4; stroke: #1f77b4\"/>\n     <use xlink:href=\"#m2f01aabd01\" x=\"409.440619\" y=\"290.461389\" style=\"fill: #1f77b4; stroke: #1f77b4\"/>\n     <use xlink:href=\"#m2f01aabd01\" x=\"503.875253\" y=\"167.038357\" style=\"fill: #1f77b4; stroke: #1f77b4\"/>\n     <use xlink:href=\"#m2f01aabd01\" x=\"513.221678\" y=\"162.157643\" style=\"fill: #1f77b4; stroke: #1f77b4\"/>\n     <use xlink:href=\"#m2f01aabd01\" x=\"97.878752\" y=\"134.725873\" style=\"fill: #1f77b4; stroke: #1f77b4\"/>\n     <use xlink:href=\"#m2f01aabd01\" x=\"74.284052\" y=\"160.971741\" style=\"fill: #1f77b4; stroke: #1f77b4\"/>\n     <use xlink:href=\"#m2f01aabd01\" x=\"141.377993\" y=\"58.456438\" style=\"fill: #1f77b4; stroke: #1f77b4\"/>\n     <use xlink:href=\"#m2f01aabd01\" x=\"504.774804\" y=\"162.342978\" style=\"fill: #1f77b4; stroke: #1f77b4\"/>\n     <use xlink:href=\"#m2f01aabd01\" x=\"104.703612\" y=\"125.805225\" style=\"fill: #1f77b4; stroke: #1f77b4\"/>\n     <use xlink:href=\"#m2f01aabd01\" x=\"270.294804\" y=\"154.820448\" style=\"fill: #1f77b4; stroke: #1f77b4\"/>\n     <use xlink:href=\"#m2f01aabd01\" x=\"545.688711\" y=\"190.675989\" style=\"fill: #1f77b4; stroke: #1f77b4\"/>\n     <use xlink:href=\"#m2f01aabd01\" x=\"327.785558\" y=\"292.688832\" style=\"fill: #1f77b4; stroke: #1f77b4\"/>\n     <use xlink:href=\"#m2f01aabd01\" x=\"409.212056\" y=\"291.944276\" style=\"fill: #1f77b4; stroke: #1f77b4\"/>\n     <use xlink:href=\"#m2f01aabd01\" x=\"216.121234\" y=\"42.13253\" style=\"fill: #1f77b4; stroke: #1f77b4\"/>\n     <use xlink:href=\"#m2f01aabd01\" x=\"406.453825\" y=\"299.891586\" style=\"fill: #1f77b4; stroke: #1f77b4\"/>\n     <use xlink:href=\"#m2f01aabd01\" x=\"482.448659\" y=\"176.434607\" style=\"fill: #1f77b4; stroke: #1f77b4\"/>\n     <use xlink:href=\"#m2f01aabd01\" x=\"63.629875\" y=\"171.950054\" style=\"fill: #1f77b4; stroke: #1f77b4\"/>\n     <use xlink:href=\"#m2f01aabd01\" x=\"439.105822\" y=\"245.133084\" style=\"fill: #1f77b4; stroke: #1f77b4\"/>\n     <use xlink:href=\"#m2f01aabd01\" x=\"561.578551\" y=\"220.866864\" style=\"fill: #1f77b4; stroke: #1f77b4\"/>\n     <use xlink:href=\"#m2f01aabd01\" x=\"438.090677\" y=\"248.60524\" style=\"fill: #1f77b4; stroke: #1f77b4\"/>\n     <use xlink:href=\"#m2f01aabd01\" x=\"198.127864\" y=\"26.393354\" style=\"fill: #1f77b4; stroke: #1f77b4\"/>\n     <use xlink:href=\"#m2f01aabd01\" x=\"459.183891\" y=\"214.082477\" style=\"fill: #1f77b4; stroke: #1f77b4\"/>\n     <use xlink:href=\"#m2f01aabd01\" x=\"107.206853\" y=\"113.227469\" style=\"fill: #1f77b4; stroke: #1f77b4\"/>\n     <use xlink:href=\"#m2f01aabd01\" x=\"284.037208\" y=\"189.928301\" style=\"fill: #1f77b4; stroke: #1f77b4\"/>\n     <use xlink:href=\"#m2f01aabd01\" x=\"520.398599\" y=\"167.40845\" style=\"fill: #1f77b4; stroke: #1f77b4\"/>\n     <use xlink:href=\"#m2f01aabd01\" x=\"204.884762\" y=\"33.575799\" style=\"fill: #1f77b4; stroke: #1f77b4\"/>\n     <use xlink:href=\"#m2f01aabd01\" x=\"201.889183\" y=\"23.705384\" style=\"fill: #1f77b4; stroke: #1f77b4\"/>\n     <use xlink:href=\"#m2f01aabd01\" x=\"120.957807\" y=\"86.091155\" style=\"fill: #1f77b4; stroke: #1f77b4\"/>\n     <use xlink:href=\"#m2f01aabd01\" x=\"64.183288\" y=\"181.671719\" style=\"fill: #1f77b4; stroke: #1f77b4\"/>\n     <use xlink:href=\"#m2f01aabd01\" x=\"402.521123\" y=\"295.22001\" style=\"fill: #1f77b4; stroke: #1f77b4\"/>\n     <use xlink:href=\"#m2f01aabd01\" x=\"162.822141\" y=\"27.843539\" style=\"fill: #1f77b4; stroke: #1f77b4\"/>\n     <use xlink:href=\"#m2f01aabd01\" x=\"190.484844\" y=\"22.32\" style=\"fill: #1f77b4; stroke: #1f77b4\"/>\n     <use xlink:href=\"#m2f01aabd01\" x=\"306.446877\" y=\"251.371134\" style=\"fill: #1f77b4; stroke: #1f77b4\"/>\n     <use xlink:href=\"#m2f01aabd01\" x=\"81.624594\" y=\"153.659802\" style=\"fill: #1f77b4; stroke: #1f77b4\"/>\n     <use xlink:href=\"#m2f01aabd01\" x=\"348.79599\" y=\"315.761113\" style=\"fill: #1f77b4; stroke: #1f77b4\"/>\n     <use xlink:href=\"#m2f01aabd01\" x=\"129.52568\" y=\"81.049643\" style=\"fill: #1f77b4; stroke: #1f77b4\"/>\n     <use xlink:href=\"#m2f01aabd01\" x=\"356.5881\" y=\"324.72\" style=\"fill: #1f77b4; stroke: #1f77b4\"/>\n     <use xlink:href=\"#m2f01aabd01\" x=\"413.2555\" y=\"283.000924\" style=\"fill: #1f77b4; stroke: #1f77b4\"/>\n     <use xlink:href=\"#m2f01aabd01\" x=\"106.749432\" y=\"115.243624\" style=\"fill: #1f77b4; stroke: #1f77b4\"/>\n     <use xlink:href=\"#m2f01aabd01\" x=\"266.676988\" y=\"148.396386\" style=\"fill: #1f77b4; stroke: #1f77b4\"/>\n     <use xlink:href=\"#m2f01aabd01\" x=\"410.506494\" y=\"287.153226\" style=\"fill: #1f77b4; stroke: #1f77b4\"/>\n     <use xlink:href=\"#m2f01aabd01\" x=\"266.740237\" y=\"150.509184\" style=\"fill: #1f77b4; stroke: #1f77b4\"/>\n     <use xlink:href=\"#m2f01aabd01\" x=\"79.875576\" y=\"156.092593\" style=\"fill: #1f77b4; stroke: #1f77b4\"/>\n     <use xlink:href=\"#m2f01aabd01\" x=\"329.18675\" y=\"291.20548\" style=\"fill: #1f77b4; stroke: #1f77b4\"/>\n     <use xlink:href=\"#m2f01aabd01\" x=\"394.804453\" y=\"309.281046\" style=\"fill: #1f77b4; stroke: #1f77b4\"/>\n     <use xlink:href=\"#m2f01aabd01\" x=\"318.409038\" y=\"272.634661\" style=\"fill: #1f77b4; stroke: #1f77b4\"/>\n     <use xlink:href=\"#m2f01aabd01\" x=\"538.867878\" y=\"180.607822\" style=\"fill: #1f77b4; stroke: #1f77b4\"/>\n     <use xlink:href=\"#m2f01aabd01\" x=\"355.176969\" y=\"316.587017\" style=\"fill: #1f77b4; stroke: #1f77b4\"/>\n     <use xlink:href=\"#m2f01aabd01\" x=\"517.734048\" y=\"164.133039\" style=\"fill: #1f77b4; stroke: #1f77b4\"/>\n     <use xlink:href=\"#m2f01aabd01\" x=\"124.778016\" y=\"86.330446\" style=\"fill: #1f77b4; stroke: #1f77b4\"/>\n     <use xlink:href=\"#m2f01aabd01\" x=\"125.702343\" y=\"84.970176\" style=\"fill: #1f77b4; stroke: #1f77b4\"/>\n     <use xlink:href=\"#m2f01aabd01\" x=\"468.476163\" y=\"191.964866\" style=\"fill: #1f77b4; stroke: #1f77b4\"/>\n     <use xlink:href=\"#m2f01aabd01\" x=\"258.273727\" y=\"123.872036\" style=\"fill: #1f77b4; stroke: #1f77b4\"/>\n     <use xlink:href=\"#m2f01aabd01\" x=\"139.081484\" y=\"60.87411\" style=\"fill: #1f77b4; stroke: #1f77b4\"/>\n     <use xlink:href=\"#m2f01aabd01\" x=\"530.101881\" y=\"175.400991\" style=\"fill: #1f77b4; stroke: #1f77b4\"/>\n     <use xlink:href=\"#m2f01aabd01\" x=\"232.667091\" y=\"77.323344\" style=\"fill: #1f77b4; stroke: #1f77b4\"/>\n     <use xlink:href=\"#m2f01aabd01\" x=\"439.448428\" y=\"237.427684\" style=\"fill: #1f77b4; stroke: #1f77b4\"/>\n     <use xlink:href=\"#m2f01aabd01\" x=\"426.717639\" y=\"255.213734\" style=\"fill: #1f77b4; stroke: #1f77b4\"/>\n     <use xlink:href=\"#m2f01aabd01\" x=\"507.423963\" y=\"162.656353\" style=\"fill: #1f77b4; stroke: #1f77b4\"/>\n     <use xlink:href=\"#m2f01aabd01\" x=\"374.219789\" y=\"322.375353\" style=\"fill: #1f77b4; stroke: #1f77b4\"/>\n     <use xlink:href=\"#m2f01aabd01\" x=\"439.515293\" y=\"241.709797\" style=\"fill: #1f77b4; stroke: #1f77b4\"/>\n     <use xlink:href=\"#m2f01aabd01\" x=\"233.248107\" y=\"69.740842\" style=\"fill: #1f77b4; stroke: #1f77b4\"/>\n     <use xlink:href=\"#m2f01aabd01\" x=\"192.732619\" y=\"24.045087\" style=\"fill: #1f77b4; stroke: #1f77b4\"/>\n     <use xlink:href=\"#m2f01aabd01\" x=\"513.878149\" y=\"169.112026\" style=\"fill: #1f77b4; stroke: #1f77b4\"/>\n     <use xlink:href=\"#m2f01aabd01\" x=\"273.877695\" y=\"166.763064\" style=\"fill: #1f77b4; stroke: #1f77b4\"/>\n     <use xlink:href=\"#m2f01aabd01\" x=\"549.254647\" y=\"202.883755\" style=\"fill: #1f77b4; stroke: #1f77b4\"/>\n     <use xlink:href=\"#m2f01aabd01\" x=\"394.623272\" y=\"307.834719\" style=\"fill: #1f77b4; stroke: #1f77b4\"/>\n     <use xlink:href=\"#m2f01aabd01\" x=\"373.20576\" y=\"323.353382\" style=\"fill: #1f77b4; stroke: #1f77b4\"/>\n     <use xlink:href=\"#m2f01aabd01\" x=\"113.117128\" y=\"105.308026\" style=\"fill: #1f77b4; stroke: #1f77b4\"/>\n     <use xlink:href=\"#m2f01aabd01\" x=\"541.378984\" y=\"187.83633\" style=\"fill: #1f77b4; stroke: #1f77b4\"/>\n     <use xlink:href=\"#m2f01aabd01\" x=\"285.072847\" y=\"190.462381\" style=\"fill: #1f77b4; stroke: #1f77b4\"/>\n     <use xlink:href=\"#m2f01aabd01\" x=\"350.987728\" y=\"315.960192\" style=\"fill: #1f77b4; stroke: #1f77b4\"/>\n     <use xlink:href=\"#m2f01aabd01\" x=\"263.640173\" y=\"130.063189\" style=\"fill: #1f77b4; stroke: #1f77b4\"/>\n     <use xlink:href=\"#m2f01aabd01\" x=\"175.852932\" y=\"32.419715\" style=\"fill: #1f77b4; stroke: #1f77b4\"/>\n     <use xlink:href=\"#m2f01aabd01\" x=\"517.722559\" y=\"168.531827\" style=\"fill: #1f77b4; stroke: #1f77b4\"/>\n     <use xlink:href=\"#m2f01aabd01\" x=\"348.571215\" y=\"311.526279\" style=\"fill: #1f77b4; stroke: #1f77b4\"/>\n     <use xlink:href=\"#m2f01aabd01\" x=\"55.719755\" y=\"170.125512\" style=\"fill: #1f77b4; stroke: #1f77b4\"/>\n     <use xlink:href=\"#m2f01aabd01\" x=\"370.870986\" y=\"323.572669\" style=\"fill: #1f77b4; stroke: #1f77b4\"/>\n    </g>\n   </g>\n   <g id=\"matplotlib.axis_1\">\n    <g id=\"xtick_1\">\n     <g id=\"line2d_1\">\n      <defs>\n       <path id=\"mb407e44f62\" d=\"M 0 0 \nL 0 3.5 \n\" style=\"stroke: #000000; stroke-width: 0.8\"/>\n      </defs>\n      <g>\n       <use xlink:href=\"#mb407e44f62\" x=\"54.247144\" y=\"339.84\" style=\"stroke: #000000; stroke-width: 0.8\"/>\n      </g>\n     </g>\n     <g id=\"text_1\">\n      <!-- 0 -->\n      <g transform=\"translate(51.065894 354.438437) scale(0.1 -0.1)\">\n       <defs>\n        <path id=\"DejaVuSans-30\" d=\"M 2034 4250 \nQ 1547 4250 1301 3770 \nQ 1056 3291 1056 2328 \nQ 1056 1369 1301 889 \nQ 1547 409 2034 409 \nQ 2525 409 2770 889 \nQ 3016 1369 3016 2328 \nQ 3016 3291 2770 3770 \nQ 2525 4250 2034 4250 \nz\nM 2034 4750 \nQ 2819 4750 3233 4129 \nQ 3647 3509 3647 2328 \nQ 3647 1150 3233 529 \nQ 2819 -91 2034 -91 \nQ 1250 -91 836 529 \nQ 422 1150 422 2328 \nQ 422 3509 836 4129 \nQ 1250 4750 2034 4750 \nz\n\" transform=\"scale(0.015625)\"/>\n       </defs>\n       <use xlink:href=\"#DejaVuSans-30\"/>\n      </g>\n     </g>\n    </g>\n    <g id=\"xtick_2\">\n     <g id=\"line2d_2\">\n      <g>\n       <use xlink:href=\"#mb407e44f62\" x=\"156.856381\" y=\"339.84\" style=\"stroke: #000000; stroke-width: 0.8\"/>\n      </g>\n     </g>\n     <g id=\"text_2\">\n      <!-- 2 -->\n      <g transform=\"translate(153.675131 354.438437) scale(0.1 -0.1)\">\n       <defs>\n        <path id=\"DejaVuSans-32\" d=\"M 1228 531 \nL 3431 531 \nL 3431 0 \nL 469 0 \nL 469 531 \nQ 828 903 1448 1529 \nQ 2069 2156 2228 2338 \nQ 2531 2678 2651 2914 \nQ 2772 3150 2772 3378 \nQ 2772 3750 2511 3984 \nQ 2250 4219 1831 4219 \nQ 1534 4219 1204 4116 \nQ 875 4013 500 3803 \nL 500 4441 \nQ 881 4594 1212 4672 \nQ 1544 4750 1819 4750 \nQ 2544 4750 2975 4387 \nQ 3406 4025 3406 3419 \nQ 3406 3131 3298 2873 \nQ 3191 2616 2906 2266 \nQ 2828 2175 2409 1742 \nQ 1991 1309 1228 531 \nz\n\" transform=\"scale(0.015625)\"/>\n       </defs>\n       <use xlink:href=\"#DejaVuSans-32\"/>\n      </g>\n     </g>\n    </g>\n    <g id=\"xtick_3\">\n     <g id=\"line2d_3\">\n      <g>\n       <use xlink:href=\"#mb407e44f62\" x=\"259.465617\" y=\"339.84\" style=\"stroke: #000000; stroke-width: 0.8\"/>\n      </g>\n     </g>\n     <g id=\"text_3\">\n      <!-- 4 -->\n      <g transform=\"translate(256.284367 354.438437) scale(0.1 -0.1)\">\n       <defs>\n        <path id=\"DejaVuSans-34\" d=\"M 2419 4116 \nL 825 1625 \nL 2419 1625 \nL 2419 4116 \nz\nM 2253 4666 \nL 3047 4666 \nL 3047 1625 \nL 3713 1625 \nL 3713 1100 \nL 3047 1100 \nL 3047 0 \nL 2419 0 \nL 2419 1100 \nL 313 1100 \nL 313 1709 \nL 2253 4666 \nz\n\" transform=\"scale(0.015625)\"/>\n       </defs>\n       <use xlink:href=\"#DejaVuSans-34\"/>\n      </g>\n     </g>\n    </g>\n    <g id=\"xtick_4\">\n     <g id=\"line2d_4\">\n      <g>\n       <use xlink:href=\"#mb407e44f62\" x=\"362.074854\" y=\"339.84\" style=\"stroke: #000000; stroke-width: 0.8\"/>\n      </g>\n     </g>\n     <g id=\"text_4\">\n      <!-- 6 -->\n      <g transform=\"translate(358.893604 354.438437) scale(0.1 -0.1)\">\n       <defs>\n        <path id=\"DejaVuSans-36\" d=\"M 2113 2584 \nQ 1688 2584 1439 2293 \nQ 1191 2003 1191 1497 \nQ 1191 994 1439 701 \nQ 1688 409 2113 409 \nQ 2538 409 2786 701 \nQ 3034 994 3034 1497 \nQ 3034 2003 2786 2293 \nQ 2538 2584 2113 2584 \nz\nM 3366 4563 \nL 3366 3988 \nQ 3128 4100 2886 4159 \nQ 2644 4219 2406 4219 \nQ 1781 4219 1451 3797 \nQ 1122 3375 1075 2522 \nQ 1259 2794 1537 2939 \nQ 1816 3084 2150 3084 \nQ 2853 3084 3261 2657 \nQ 3669 2231 3669 1497 \nQ 3669 778 3244 343 \nQ 2819 -91 2113 -91 \nQ 1303 -91 875 529 \nQ 447 1150 447 2328 \nQ 447 3434 972 4092 \nQ 1497 4750 2381 4750 \nQ 2619 4750 2861 4703 \nQ 3103 4656 3366 4563 \nz\n\" transform=\"scale(0.015625)\"/>\n       </defs>\n       <use xlink:href=\"#DejaVuSans-36\"/>\n      </g>\n     </g>\n    </g>\n    <g id=\"xtick_5\">\n     <g id=\"line2d_5\">\n      <g>\n       <use xlink:href=\"#mb407e44f62\" x=\"464.68409\" y=\"339.84\" style=\"stroke: #000000; stroke-width: 0.8\"/>\n      </g>\n     </g>\n     <g id=\"text_5\">\n      <!-- 8 -->\n      <g transform=\"translate(461.50284 354.438437) scale(0.1 -0.1)\">\n       <defs>\n        <path id=\"DejaVuSans-38\" d=\"M 2034 2216 \nQ 1584 2216 1326 1975 \nQ 1069 1734 1069 1313 \nQ 1069 891 1326 650 \nQ 1584 409 2034 409 \nQ 2484 409 2743 651 \nQ 3003 894 3003 1313 \nQ 3003 1734 2745 1975 \nQ 2488 2216 2034 2216 \nz\nM 1403 2484 \nQ 997 2584 770 2862 \nQ 544 3141 544 3541 \nQ 544 4100 942 4425 \nQ 1341 4750 2034 4750 \nQ 2731 4750 3128 4425 \nQ 3525 4100 3525 3541 \nQ 3525 3141 3298 2862 \nQ 3072 2584 2669 2484 \nQ 3125 2378 3379 2068 \nQ 3634 1759 3634 1313 \nQ 3634 634 3220 271 \nQ 2806 -91 2034 -91 \nQ 1263 -91 848 271 \nQ 434 634 434 1313 \nQ 434 1759 690 2068 \nQ 947 2378 1403 2484 \nz\nM 1172 3481 \nQ 1172 3119 1398 2916 \nQ 1625 2713 2034 2713 \nQ 2441 2713 2670 2916 \nQ 2900 3119 2900 3481 \nQ 2900 3844 2670 4047 \nQ 2441 4250 2034 4250 \nQ 1625 4250 1398 4047 \nQ 1172 3844 1172 3481 \nz\n\" transform=\"scale(0.015625)\"/>\n       </defs>\n       <use xlink:href=\"#DejaVuSans-38\"/>\n      </g>\n     </g>\n    </g>\n    <g id=\"xtick_6\">\n     <g id=\"line2d_6\">\n      <g>\n       <use xlink:href=\"#mb407e44f62\" x=\"567.293327\" y=\"339.84\" style=\"stroke: #000000; stroke-width: 0.8\"/>\n      </g>\n     </g>\n     <g id=\"text_6\">\n      <!-- 10 -->\n      <g transform=\"translate(560.930827 354.438437) scale(0.1 -0.1)\">\n       <defs>\n        <path id=\"DejaVuSans-31\" d=\"M 794 531 \nL 1825 531 \nL 1825 4091 \nL 703 3866 \nL 703 4441 \nL 1819 4666 \nL 2450 4666 \nL 2450 531 \nL 3481 531 \nL 3481 0 \nL 794 0 \nL 794 531 \nz\n\" transform=\"scale(0.015625)\"/>\n       </defs>\n       <use xlink:href=\"#DejaVuSans-31\"/>\n       <use xlink:href=\"#DejaVuSans-30\" x=\"63.623047\"/>\n      </g>\n     </g>\n    </g>\n   </g>\n   <g id=\"matplotlib.axis_2\">\n    <g id=\"ytick_1\">\n     <g id=\"line2d_7\">\n      <defs>\n       <path id=\"m8d7e7937e4\" d=\"M 0 0 \nL -3.5 0 \n\" style=\"stroke: #000000; stroke-width: 0.8\"/>\n      </defs>\n      <g>\n       <use xlink:href=\"#m8d7e7937e4\" x=\"28.942188\" y=\"315.052389\" style=\"stroke: #000000; stroke-width: 0.8\"/>\n      </g>\n     </g>\n     <g id=\"text_7\">\n      <!-- −6 -->\n      <g transform=\"translate(7.2 318.851607) scale(0.1 -0.1)\">\n       <defs>\n        <path id=\"DejaVuSans-2212\" d=\"M 678 2272 \nL 4684 2272 \nL 4684 1741 \nL 678 1741 \nL 678 2272 \nz\n\" transform=\"scale(0.015625)\"/>\n       </defs>\n       <use xlink:href=\"#DejaVuSans-2212\"/>\n       <use xlink:href=\"#DejaVuSans-36\" x=\"83.789062\"/>\n      </g>\n     </g>\n    </g>\n    <g id=\"ytick_2\">\n     <g id=\"line2d_8\">\n      <g>\n       <use xlink:href=\"#m8d7e7937e4\" x=\"28.942188\" y=\"277.621412\" style=\"stroke: #000000; stroke-width: 0.8\"/>\n      </g>\n     </g>\n     <g id=\"text_8\">\n      <!-- −5 -->\n      <g transform=\"translate(7.2 281.420631) scale(0.1 -0.1)\">\n       <defs>\n        <path id=\"DejaVuSans-35\" d=\"M 691 4666 \nL 3169 4666 \nL 3169 4134 \nL 1269 4134 \nL 1269 2991 \nQ 1406 3038 1543 3061 \nQ 1681 3084 1819 3084 \nQ 2600 3084 3056 2656 \nQ 3513 2228 3513 1497 \nQ 3513 744 3044 326 \nQ 2575 -91 1722 -91 \nQ 1428 -91 1123 -41 \nQ 819 9 494 109 \nL 494 744 \nQ 775 591 1075 516 \nQ 1375 441 1709 441 \nQ 2250 441 2565 725 \nQ 2881 1009 2881 1497 \nQ 2881 1984 2565 2268 \nQ 2250 2553 1709 2553 \nQ 1456 2553 1204 2497 \nQ 953 2441 691 2322 \nL 691 4666 \nz\n\" transform=\"scale(0.015625)\"/>\n       </defs>\n       <use xlink:href=\"#DejaVuSans-2212\"/>\n       <use xlink:href=\"#DejaVuSans-35\" x=\"83.789062\"/>\n      </g>\n     </g>\n    </g>\n    <g id=\"ytick_3\">\n     <g id=\"line2d_9\">\n      <g>\n       <use xlink:href=\"#m8d7e7937e4\" x=\"28.942188\" y=\"240.190436\" style=\"stroke: #000000; stroke-width: 0.8\"/>\n      </g>\n     </g>\n     <g id=\"text_9\">\n      <!-- −4 -->\n      <g transform=\"translate(7.2 243.989655) scale(0.1 -0.1)\">\n       <use xlink:href=\"#DejaVuSans-2212\"/>\n       <use xlink:href=\"#DejaVuSans-34\" x=\"83.789062\"/>\n      </g>\n     </g>\n    </g>\n    <g id=\"ytick_4\">\n     <g id=\"line2d_10\">\n      <g>\n       <use xlink:href=\"#m8d7e7937e4\" x=\"28.942188\" y=\"202.75946\" style=\"stroke: #000000; stroke-width: 0.8\"/>\n      </g>\n     </g>\n     <g id=\"text_10\">\n      <!-- −3 -->\n      <g transform=\"translate(7.2 206.558679) scale(0.1 -0.1)\">\n       <defs>\n        <path id=\"DejaVuSans-33\" d=\"M 2597 2516 \nQ 3050 2419 3304 2112 \nQ 3559 1806 3559 1356 \nQ 3559 666 3084 287 \nQ 2609 -91 1734 -91 \nQ 1441 -91 1130 -33 \nQ 819 25 488 141 \nL 488 750 \nQ 750 597 1062 519 \nQ 1375 441 1716 441 \nQ 2309 441 2620 675 \nQ 2931 909 2931 1356 \nQ 2931 1769 2642 2001 \nQ 2353 2234 1838 2234 \nL 1294 2234 \nL 1294 2753 \nL 1863 2753 \nQ 2328 2753 2575 2939 \nQ 2822 3125 2822 3475 \nQ 2822 3834 2567 4026 \nQ 2313 4219 1838 4219 \nQ 1578 4219 1281 4162 \nQ 984 4106 628 3988 \nL 628 4550 \nQ 988 4650 1302 4700 \nQ 1616 4750 1894 4750 \nQ 2613 4750 3031 4423 \nQ 3450 4097 3450 3541 \nQ 3450 3153 3228 2886 \nQ 3006 2619 2597 2516 \nz\n\" transform=\"scale(0.015625)\"/>\n       </defs>\n       <use xlink:href=\"#DejaVuSans-2212\"/>\n       <use xlink:href=\"#DejaVuSans-33\" x=\"83.789062\"/>\n      </g>\n     </g>\n    </g>\n    <g id=\"ytick_5\">\n     <g id=\"line2d_11\">\n      <g>\n       <use xlink:href=\"#m8d7e7937e4\" x=\"28.942188\" y=\"165.328484\" style=\"stroke: #000000; stroke-width: 0.8\"/>\n      </g>\n     </g>\n     <g id=\"text_11\">\n      <!-- −2 -->\n      <g transform=\"translate(7.2 169.127703) scale(0.1 -0.1)\">\n       <use xlink:href=\"#DejaVuSans-2212\"/>\n       <use xlink:href=\"#DejaVuSans-32\" x=\"83.789062\"/>\n      </g>\n     </g>\n    </g>\n    <g id=\"ytick_6\">\n     <g id=\"line2d_12\">\n      <g>\n       <use xlink:href=\"#m8d7e7937e4\" x=\"28.942188\" y=\"127.897508\" style=\"stroke: #000000; stroke-width: 0.8\"/>\n      </g>\n     </g>\n     <g id=\"text_12\">\n      <!-- −1 -->\n      <g transform=\"translate(7.2 131.696727) scale(0.1 -0.1)\">\n       <use xlink:href=\"#DejaVuSans-2212\"/>\n       <use xlink:href=\"#DejaVuSans-31\" x=\"83.789062\"/>\n      </g>\n     </g>\n    </g>\n    <g id=\"ytick_7\">\n     <g id=\"line2d_13\">\n      <g>\n       <use xlink:href=\"#m8d7e7937e4\" x=\"28.942188\" y=\"90.466532\" style=\"stroke: #000000; stroke-width: 0.8\"/>\n      </g>\n     </g>\n     <g id=\"text_13\">\n      <!-- 0 -->\n      <g transform=\"translate(15.579688 94.265751) scale(0.1 -0.1)\">\n       <use xlink:href=\"#DejaVuSans-30\"/>\n      </g>\n     </g>\n    </g>\n    <g id=\"ytick_8\">\n     <g id=\"line2d_14\">\n      <g>\n       <use xlink:href=\"#m8d7e7937e4\" x=\"28.942188\" y=\"53.035556\" style=\"stroke: #000000; stroke-width: 0.8\"/>\n      </g>\n     </g>\n     <g id=\"text_14\">\n      <!-- 1 -->\n      <g transform=\"translate(15.579688 56.834774) scale(0.1 -0.1)\">\n       <use xlink:href=\"#DejaVuSans-31\"/>\n      </g>\n     </g>\n    </g>\n    <g id=\"ytick_9\">\n     <g id=\"line2d_15\">\n      <g>\n       <use xlink:href=\"#m8d7e7937e4\" x=\"28.942188\" y=\"15.60458\" style=\"stroke: #000000; stroke-width: 0.8\"/>\n      </g>\n     </g>\n     <g id=\"text_15\">\n      <!-- 2 -->\n      <g transform=\"translate(15.579688 19.403798) scale(0.1 -0.1)\">\n       <use xlink:href=\"#DejaVuSans-32\"/>\n      </g>\n     </g>\n    </g>\n   </g>\n   <g id=\"patch_3\">\n    <path d=\"M 28.942188 339.84 \nL 28.942188 7.2 \n\" style=\"fill: none; stroke: #000000; stroke-width: 0.8; stroke-linejoin: miter; stroke-linecap: square\"/>\n   </g>\n   <g id=\"patch_4\">\n    <path d=\"M 586.942188 339.84 \nL 586.942188 7.2 \n\" style=\"fill: none; stroke: #000000; stroke-width: 0.8; stroke-linejoin: miter; stroke-linecap: square\"/>\n   </g>\n   <g id=\"patch_5\">\n    <path d=\"M 28.942187 339.84 \nL 586.942188 339.84 \n\" style=\"fill: none; stroke: #000000; stroke-width: 0.8; stroke-linejoin: miter; stroke-linecap: square\"/>\n   </g>\n   <g id=\"patch_6\">\n    <path d=\"M 28.942187 7.2 \nL 586.942188 7.2 \n\" style=\"fill: none; stroke: #000000; stroke-width: 0.8; stroke-linejoin: miter; stroke-linecap: square\"/>\n   </g>\n  </g>\n </g>\n <defs>\n  <clipPath id=\"p513cccbe5a\">\n   <rect x=\"28.942188\" y=\"7.2\" width=\"558\" height=\"332.64\"/>\n  </clipPath>\n </defs>\n</svg>\n"
          },
          "metadata": {}
        }
      ],
      "source": [
        "plt.scatter(x_train, y_train)\n",
        "plt.show()"
      ]
    },
    {
      "cell_type": "markdown",
      "metadata": {
        "tags": [],
        "id": "znAtx-gJ-Ncv"
      },
      "source": [
        "## (b)\n",
        "Learn a model on the form\n",
        "$$\n",
        "y= a + bx + c \\sin(x + \\phi) + \\epsilon,  \\qquad  \\epsilon \\sim \\mathcal{N}(0, 0,1^2) \\qquad (2.1)\n",
        "$$\n",
        "\n",
        "where all parameters $a$, $b$, $c$ and $\\phi$ are to be learned from the training data `x_train` and `y_train`. Refrain from using the` linear_model()` command, but implement the normal equations yourself as in problem 2.1. Hint: Even though (2.1) is not a linear regression model, you can use the fact that $c \\sin(x + \\phi) = c \\cos(\\phi) \\sin(x) + c \\sin(\\phi) \\cos(x)$ to transform it into one.  \n"
      ]
    },
    {
      "cell_type": "code",
      "execution_count": 39,
      "metadata": {
        "tags": [],
        "id": "Z32VLiSc-Ncv",
        "outputId": "412d524e-2499-4251-d775-4efc7755f311",
        "colab": {
          "base_uri": "https://localhost:8080/"
        }
      },
      "outputs": [
        {
          "output_type": "stream",
          "name": "stdout",
          "text": [
            "[ 0.421 -0.603 -2.789  1.088]\n"
          ]
        }
      ],
      "source": [
        "X = np.column_stack([np.ones(100), x_train, np.cos(x_train) , np.sin(x_train)])\n",
        "theta = np.linalg.solve(X.T @ X, X.T @ y_train)\n",
        "print(theta)"
      ]
    },
    {
      "cell_type": "markdown",
      "metadata": {
        "tags": [],
        "id": "OoE-WLPe-Ncv"
      },
      "source": [
        "## (c)\n",
        "Construct 100 test inputs `x_test` in the span from 0 to 10 by using the `np.linspace()` function. Predict the outputs corresponding to these inputs and plot them together with the training data."
      ]
    },
    {
      "cell_type": "code",
      "execution_count": 44,
      "metadata": {
        "tags": [],
        "colab": {
          "base_uri": "https://localhost:8080/",
          "height": 506
        },
        "id": "ASdrgMMl-Ncv",
        "outputId": "ea7c23f9-cc05-43a3-bf3e-d7736b5132df"
      },
      "outputs": [
        {
          "output_type": "display_data",
          "data": {
            "text/plain": [
              "<Figure size 1000x600 with 1 Axes>"
            ],
            "image/svg+xml": "<?xml version=\"1.0\" encoding=\"utf-8\" standalone=\"no\"?>\n<!DOCTYPE svg PUBLIC \"-//W3C//DTD SVG 1.1//EN\"\n  \"http://www.w3.org/Graphics/SVG/1.1/DTD/svg11.dtd\">\n<svg xmlns:xlink=\"http://www.w3.org/1999/xlink\" width=\"594.142187pt\" height=\"363.718125pt\" viewBox=\"0 0 594.142187 363.718125\" xmlns=\"http://www.w3.org/2000/svg\" version=\"1.1\">\n <metadata>\n  <rdf:RDF xmlns:dc=\"http://purl.org/dc/elements/1.1/\" xmlns:cc=\"http://creativecommons.org/ns#\" xmlns:rdf=\"http://www.w3.org/1999/02/22-rdf-syntax-ns#\">\n   <cc:Work>\n    <dc:type rdf:resource=\"http://purl.org/dc/dcmitype/StillImage\"/>\n    <dc:date>2024-11-11T12:21:46.627998</dc:date>\n    <dc:format>image/svg+xml</dc:format>\n    <dc:creator>\n     <cc:Agent>\n      <dc:title>Matplotlib v3.8.0, https://matplotlib.org/</dc:title>\n     </cc:Agent>\n    </dc:creator>\n   </cc:Work>\n  </rdf:RDF>\n </metadata>\n <defs>\n  <style type=\"text/css\">*{stroke-linejoin: round; stroke-linecap: butt}</style>\n </defs>\n <g id=\"figure_1\">\n  <g id=\"patch_1\">\n   <path d=\"M 0 363.718125 \nL 594.142187 363.718125 \nL 594.142187 0 \nL 0 0 \nz\n\" style=\"fill: #ffffff\"/>\n  </g>\n  <g id=\"axes_1\">\n   <g id=\"patch_2\">\n    <path d=\"M 28.942188 339.84 \nL 586.942188 339.84 \nL 586.942188 7.2 \nL 28.942188 7.2 \nz\n\" style=\"fill: #ffffff\"/>\n   </g>\n   <g id=\"PathCollection_1\">\n    <defs>\n     <path id=\"m319e3145ae\" d=\"M 0 3 \nC 0.795609 3 1.55874 2.683901 2.12132 2.12132 \nC 2.683901 1.55874 3 0.795609 3 0 \nC 3 -0.795609 2.683901 -1.55874 2.12132 -2.12132 \nC 1.55874 -2.683901 0.795609 -3 0 -3 \nC -0.795609 -3 -1.55874 -2.683901 -2.12132 -2.12132 \nC -2.683901 -1.55874 -3 -0.795609 -3 0 \nC -3 0.795609 -2.683901 1.55874 -2.12132 2.12132 \nC -1.55874 2.683901 -0.795609 3 0 3 \nz\n\" style=\"stroke: #1f77b4\"/>\n    </defs>\n    <g clip-path=\"url(#paf3636af5a)\">\n     <use xlink:href=\"#m319e3145ae\" x=\"265.849714\" y=\"148.820058\" style=\"fill: #1f77b4; stroke: #1f77b4\"/>\n     <use xlink:href=\"#m319e3145ae\" x=\"419.706794\" y=\"275.864481\" style=\"fill: #1f77b4; stroke: #1f77b4\"/>\n     <use xlink:href=\"#m319e3145ae\" x=\"54.363843\" y=\"181.28077\" style=\"fill: #1f77b4; stroke: #1f77b4\"/>\n     <use xlink:href=\"#m319e3145ae\" x=\"207.670893\" y=\"31.563177\" style=\"fill: #1f77b4; stroke: #1f77b4\"/>\n     <use xlink:href=\"#m319e3145ae\" x=\"128.751085\" y=\"77.904393\" style=\"fill: #1f77b4; stroke: #1f77b4\"/>\n     <use xlink:href=\"#m319e3145ae\" x=\"101.146675\" y=\"124.046999\" style=\"fill: #1f77b4; stroke: #1f77b4\"/>\n     <use xlink:href=\"#m319e3145ae\" x=\"148.790549\" y=\"49.078458\" style=\"fill: #1f77b4; stroke: #1f77b4\"/>\n     <use xlink:href=\"#m319e3145ae\" x=\"229.599356\" y=\"66.878438\" style=\"fill: #1f77b4; stroke: #1f77b4\"/>\n     <use xlink:href=\"#m319e3145ae\" x=\"255.575143\" y=\"122.887463\" style=\"fill: #1f77b4; stroke: #1f77b4\"/>\n     <use xlink:href=\"#m319e3145ae\" x=\"327.632858\" y=\"292.183434\" style=\"fill: #1f77b4; stroke: #1f77b4\"/>\n     <use xlink:href=\"#m319e3145ae\" x=\"266.951768\" y=\"152.155339\" style=\"fill: #1f77b4; stroke: #1f77b4\"/>\n     <use xlink:href=\"#m319e3145ae\" x=\"401.898989\" y=\"295.185902\" style=\"fill: #1f77b4; stroke: #1f77b4\"/>\n     <use xlink:href=\"#m319e3145ae\" x=\"158.018874\" y=\"39.965312\" style=\"fill: #1f77b4; stroke: #1f77b4\"/>\n     <use xlink:href=\"#m319e3145ae\" x=\"499.750851\" y=\"163.153494\" style=\"fill: #1f77b4; stroke: #1f77b4\"/>\n     <use xlink:href=\"#m319e3145ae\" x=\"68.198803\" y=\"170.944393\" style=\"fill: #1f77b4; stroke: #1f77b4\"/>\n     <use xlink:href=\"#m319e3145ae\" x=\"394.415706\" y=\"300.69818\" style=\"fill: #1f77b4; stroke: #1f77b4\"/>\n     <use xlink:href=\"#m319e3145ae\" x=\"265.993169\" y=\"145.890342\" style=\"fill: #1f77b4; stroke: #1f77b4\"/>\n     <use xlink:href=\"#m319e3145ae\" x=\"337.713937\" y=\"306.671784\" style=\"fill: #1f77b4; stroke: #1f77b4\"/>\n     <use xlink:href=\"#m319e3145ae\" x=\"125.520289\" y=\"85.692954\" style=\"fill: #1f77b4; stroke: #1f77b4\"/>\n     <use xlink:href=\"#m319e3145ae\" x=\"154.797307\" y=\"43.32148\" style=\"fill: #1f77b4; stroke: #1f77b4\"/>\n     <use xlink:href=\"#m319e3145ae\" x=\"460.501705\" y=\"197.534074\" style=\"fill: #1f77b4; stroke: #1f77b4\"/>\n     <use xlink:href=\"#m319e3145ae\" x=\"545.478514\" y=\"201.836453\" style=\"fill: #1f77b4; stroke: #1f77b4\"/>\n     <use xlink:href=\"#m319e3145ae\" x=\"213.297362\" y=\"42.21418\" style=\"fill: #1f77b4; stroke: #1f77b4\"/>\n     <use xlink:href=\"#m319e3145ae\" x=\"405.502205\" y=\"290.461389\" style=\"fill: #1f77b4; stroke: #1f77b4\"/>\n     <use xlink:href=\"#m319e3145ae\" x=\"498.874139\" y=\"167.038357\" style=\"fill: #1f77b4; stroke: #1f77b4\"/>\n     <use xlink:href=\"#m319e3145ae\" x=\"508.115386\" y=\"162.157643\" style=\"fill: #1f77b4; stroke: #1f77b4\"/>\n     <use xlink:href=\"#m319e3145ae\" x=\"97.446433\" y=\"134.725873\" style=\"fill: #1f77b4; stroke: #1f77b4\"/>\n     <use xlink:href=\"#m319e3145ae\" x=\"74.11725\" y=\"160.971741\" style=\"fill: #1f77b4; stroke: #1f77b4\"/>\n     <use xlink:href=\"#m319e3145ae\" x=\"140.456164\" y=\"58.456438\" style=\"fill: #1f77b4; stroke: #1f77b4\"/>\n     <use xlink:href=\"#m319e3145ae\" x=\"499.763567\" y=\"162.342978\" style=\"fill: #1f77b4; stroke: #1f77b4\"/>\n     <use xlink:href=\"#m319e3145ae\" x=\"104.19449\" y=\"125.805225\" style=\"fill: #1f77b4; stroke: #1f77b4\"/>\n     <use xlink:href=\"#m319e3145ae\" x=\"267.922237\" y=\"154.820448\" style=\"fill: #1f77b4; stroke: #1f77b4\"/>\n     <use xlink:href=\"#m319e3145ae\" x=\"540.217058\" y=\"190.675989\" style=\"fill: #1f77b4; stroke: #1f77b4\"/>\n     <use xlink:href=\"#m319e3145ae\" x=\"324.766032\" y=\"292.688832\" style=\"fill: #1f77b4; stroke: #1f77b4\"/>\n     <use xlink:href=\"#m319e3145ae\" x=\"405.276214\" y=\"291.944276\" style=\"fill: #1f77b4; stroke: #1f77b4\"/>\n     <use xlink:href=\"#m319e3145ae\" x=\"214.358299\" y=\"42.13253\" style=\"fill: #1f77b4; stroke: #1f77b4\"/>\n     <use xlink:href=\"#m319e3145ae\" x=\"402.549022\" y=\"299.891586\" style=\"fill: #1f77b4; stroke: #1f77b4\"/>\n     <use xlink:href=\"#m319e3145ae\" x=\"477.688665\" y=\"176.434607\" style=\"fill: #1f77b4; stroke: #1f77b4\"/>\n     <use xlink:href=\"#m319e3145ae\" x=\"63.582968\" y=\"171.950054\" style=\"fill: #1f77b4; stroke: #1f77b4\"/>\n     <use xlink:href=\"#m319e3145ae\" x=\"434.833576\" y=\"245.133084\" style=\"fill: #1f77b4; stroke: #1f77b4\"/>\n     <use xlink:href=\"#m319e3145ae\" x=\"555.928085\" y=\"220.866864\" style=\"fill: #1f77b4; stroke: #1f77b4\"/>\n     <use xlink:href=\"#m319e3145ae\" x=\"433.829856\" y=\"248.60524\" style=\"fill: #1f77b4; stroke: #1f77b4\"/>\n     <use xlink:href=\"#m319e3145ae\" x=\"196.567413\" y=\"26.393354\" style=\"fill: #1f77b4; stroke: #1f77b4\"/>\n     <use xlink:href=\"#m319e3145ae\" x=\"454.685701\" y=\"214.082477\" style=\"fill: #1f77b4; stroke: #1f77b4\"/>\n     <use xlink:href=\"#m319e3145ae\" x=\"106.669562\" y=\"113.227469\" style=\"fill: #1f77b4; stroke: #1f77b4\"/>\n     <use xlink:href=\"#m319e3145ae\" x=\"281.509994\" y=\"189.928301\" style=\"fill: #1f77b4; stroke: #1f77b4\"/>\n     <use xlink:href=\"#m319e3145ae\" x=\"515.211543\" y=\"167.40845\" style=\"fill: #1f77b4; stroke: #1f77b4\"/>\n     <use xlink:href=\"#m319e3145ae\" x=\"203.248274\" y=\"33.575799\" style=\"fill: #1f77b4; stroke: #1f77b4\"/>\n     <use xlink:href=\"#m319e3145ae\" x=\"200.286405\" y=\"23.705384\" style=\"fill: #1f77b4; stroke: #1f77b4\"/>\n     <use xlink:href=\"#m319e3145ae\" x=\"120.265772\" y=\"86.091155\" style=\"fill: #1f77b4; stroke: #1f77b4\"/>\n     <use xlink:href=\"#m319e3145ae\" x=\"64.130153\" y=\"181.671719\" style=\"fill: #1f77b4; stroke: #1f77b4\"/>\n     <use xlink:href=\"#m319e3145ae\" x=\"398.660576\" y=\"295.22001\" style=\"fill: #1f77b4; stroke: #1f77b4\"/>\n     <use xlink:href=\"#m319e3145ae\" x=\"161.658995\" y=\"27.843539\" style=\"fill: #1f77b4; stroke: #1f77b4\"/>\n     <use xlink:href=\"#m319e3145ae\" x=\"189.010402\" y=\"22.32\" style=\"fill: #1f77b4; stroke: #1f77b4\"/>\n     <use xlink:href=\"#m319e3145ae\" x=\"303.667481\" y=\"251.371134\" style=\"fill: #1f77b4; stroke: #1f77b4\"/>\n     <use xlink:href=\"#m319e3145ae\" x=\"81.375188\" y=\"153.659802\" style=\"fill: #1f77b4; stroke: #1f77b4\"/>\n     <use xlink:href=\"#m319e3145ae\" x=\"345.540027\" y=\"315.761113\" style=\"fill: #1f77b4; stroke: #1f77b4\"/>\n     <use xlink:href=\"#m319e3145ae\" x=\"128.737228\" y=\"81.049643\" style=\"fill: #1f77b4; stroke: #1f77b4\"/>\n     <use xlink:href=\"#m319e3145ae\" x=\"353.244451\" y=\"324.72\" style=\"fill: #1f77b4; stroke: #1f77b4\"/>\n     <use xlink:href=\"#m319e3145ae\" x=\"409.274156\" y=\"283.000924\" style=\"fill: #1f77b4; stroke: #1f77b4\"/>\n     <use xlink:href=\"#m319e3145ae\" x=\"106.217289\" y=\"115.243624\" style=\"fill: #1f77b4; stroke: #1f77b4\"/>\n     <use xlink:href=\"#m319e3145ae\" x=\"264.345134\" y=\"148.396386\" style=\"fill: #1f77b4; stroke: #1f77b4\"/>\n     <use xlink:href=\"#m319e3145ae\" x=\"406.556086\" y=\"287.153226\" style=\"fill: #1f77b4; stroke: #1f77b4\"/>\n     <use xlink:href=\"#m319e3145ae\" x=\"264.407671\" y=\"150.509184\" style=\"fill: #1f77b4; stroke: #1f77b4\"/>\n     <use xlink:href=\"#m319e3145ae\" x=\"79.645851\" y=\"156.092593\" style=\"fill: #1f77b4; stroke: #1f77b4\"/>\n     <use xlink:href=\"#m319e3145ae\" x=\"326.151455\" y=\"291.20548\" style=\"fill: #1f77b4; stroke: #1f77b4\"/>\n     <use xlink:href=\"#m319e3145ae\" x=\"391.030744\" y=\"309.281046\" style=\"fill: #1f77b4; stroke: #1f77b4\"/>\n     <use xlink:href=\"#m319e3145ae\" x=\"315.495028\" y=\"272.634661\" style=\"fill: #1f77b4; stroke: #1f77b4\"/>\n     <use xlink:href=\"#m319e3145ae\" x=\"533.472982\" y=\"180.607822\" style=\"fill: #1f77b4; stroke: #1f77b4\"/>\n     <use xlink:href=\"#m319e3145ae\" x=\"351.849199\" y=\"316.587017\" style=\"fill: #1f77b4; stroke: #1f77b4\"/>\n     <use xlink:href=\"#m319e3145ae\" x=\"512.576977\" y=\"164.133039\" style=\"fill: #1f77b4; stroke: #1f77b4\"/>\n     <use xlink:href=\"#m319e3145ae\" x=\"124.042992\" y=\"86.330446\" style=\"fill: #1f77b4; stroke: #1f77b4\"/>\n     <use xlink:href=\"#m319e3145ae\" x=\"124.956916\" y=\"84.970176\" style=\"fill: #1f77b4; stroke: #1f77b4\"/>\n     <use xlink:href=\"#m319e3145ae\" x=\"463.873405\" y=\"191.964866\" style=\"fill: #1f77b4; stroke: #1f77b4\"/>\n     <use xlink:href=\"#m319e3145ae\" x=\"256.036438\" y=\"123.872036\" style=\"fill: #1f77b4; stroke: #1f77b4\"/>\n     <use xlink:href=\"#m319e3145ae\" x=\"138.185498\" y=\"60.87411\" style=\"fill: #1f77b4; stroke: #1f77b4\"/>\n     <use xlink:href=\"#m319e3145ae\" x=\"524.805631\" y=\"175.400991\" style=\"fill: #1f77b4; stroke: #1f77b4\"/>\n     <use xlink:href=\"#m319e3145ae\" x=\"230.71796\" y=\"77.323344\" style=\"fill: #1f77b4; stroke: #1f77b4\"/>\n     <use xlink:href=\"#m319e3145ae\" x=\"435.172327\" y=\"237.427684\" style=\"fill: #1f77b4; stroke: #1f77b4\"/>\n     <use xlink:href=\"#m319e3145ae\" x=\"422.584802\" y=\"255.213734\" style=\"fill: #1f77b4; stroke: #1f77b4\"/>\n     <use xlink:href=\"#m319e3145ae\" x=\"502.382914\" y=\"162.656353\" style=\"fill: #1f77b4; stroke: #1f77b4\"/>\n     <use xlink:href=\"#m319e3145ae\" x=\"370.677725\" y=\"322.375353\" style=\"fill: #1f77b4; stroke: #1f77b4\"/>\n     <use xlink:href=\"#m319e3145ae\" x=\"435.23844\" y=\"241.709797\" style=\"fill: #1f77b4; stroke: #1f77b4\"/>\n     <use xlink:href=\"#m319e3145ae\" x=\"231.292437\" y=\"69.740842\" style=\"fill: #1f77b4; stroke: #1f77b4\"/>\n     <use xlink:href=\"#m319e3145ae\" x=\"191.232882\" y=\"24.045087\" style=\"fill: #1f77b4; stroke: #1f77b4\"/>\n     <use xlink:href=\"#m319e3145ae\" x=\"508.764469\" y=\"169.112026\" style=\"fill: #1f77b4; stroke: #1f77b4\"/>\n     <use xlink:href=\"#m319e3145ae\" x=\"271.464809\" y=\"166.763064\" style=\"fill: #1f77b4; stroke: #1f77b4\"/>\n     <use xlink:href=\"#m319e3145ae\" x=\"543.742866\" y=\"202.883755\" style=\"fill: #1f77b4; stroke: #1f77b4\"/>\n     <use xlink:href=\"#m319e3145ae\" x=\"390.851602\" y=\"307.834719\" style=\"fill: #1f77b4; stroke: #1f77b4\"/>\n     <use xlink:href=\"#m319e3145ae\" x=\"369.675107\" y=\"323.353382\" style=\"fill: #1f77b4; stroke: #1f77b4\"/>\n     <use xlink:href=\"#m319e3145ae\" x=\"112.513327\" y=\"105.308026\" style=\"fill: #1f77b4; stroke: #1f77b4\"/>\n     <use xlink:href=\"#m319e3145ae\" x=\"535.95583\" y=\"187.83633\" style=\"fill: #1f77b4; stroke: #1f77b4\"/>\n     <use xlink:href=\"#m319e3145ae\" x=\"282.533979\" y=\"190.462381\" style=\"fill: #1f77b4; stroke: #1f77b4\"/>\n     <use xlink:href=\"#m319e3145ae\" x=\"347.707101\" y=\"315.960192\" style=\"fill: #1f77b4; stroke: #1f77b4\"/>\n     <use xlink:href=\"#m319e3145ae\" x=\"261.342493\" y=\"130.063189\" style=\"fill: #1f77b4; stroke: #1f77b4\"/>\n     <use xlink:href=\"#m319e3145ae\" x=\"174.543147\" y=\"32.419715\" style=\"fill: #1f77b4; stroke: #1f77b4\"/>\n     <use xlink:href=\"#m319e3145ae\" x=\"512.565617\" y=\"168.531827\" style=\"fill: #1f77b4; stroke: #1f77b4\"/>\n     <use xlink:href=\"#m319e3145ae\" x=\"345.317782\" y=\"311.526279\" style=\"fill: #1f77b4; stroke: #1f77b4\"/>\n     <use xlink:href=\"#m319e3145ae\" x=\"55.761862\" y=\"170.125512\" style=\"fill: #1f77b4; stroke: #1f77b4\"/>\n     <use xlink:href=\"#m319e3145ae\" x=\"367.366607\" y=\"323.572669\" style=\"fill: #1f77b4; stroke: #1f77b4\"/>\n    </g>\n   </g>\n   <g id=\"matplotlib.axis_1\">\n    <g id=\"xtick_1\">\n     <g id=\"line2d_1\">\n      <defs>\n       <path id=\"m0f28943861\" d=\"M 0 0 \nL 0 3.5 \n\" style=\"stroke: #000000; stroke-width: 0.8\"/>\n      </defs>\n      <g>\n       <use xlink:href=\"#m0f28943861\" x=\"54.305824\" y=\"339.84\" style=\"stroke: #000000; stroke-width: 0.8\"/>\n      </g>\n     </g>\n     <g id=\"text_1\">\n      <!-- 0 -->\n      <g transform=\"translate(51.124574 354.438437) scale(0.1 -0.1)\">\n       <defs>\n        <path id=\"DejaVuSans-30\" d=\"M 2034 4250 \nQ 1547 4250 1301 3770 \nQ 1056 3291 1056 2328 \nQ 1056 1369 1301 889 \nQ 1547 409 2034 409 \nQ 2525 409 2770 889 \nQ 3016 1369 3016 2328 \nQ 3016 3291 2770 3770 \nQ 2525 4250 2034 4250 \nz\nM 2034 4750 \nQ 2819 4750 3233 4129 \nQ 3647 3509 3647 2328 \nQ 3647 1150 3233 529 \nQ 2819 -91 2034 -91 \nQ 1250 -91 836 529 \nQ 422 1150 422 2328 \nQ 422 3509 836 4129 \nQ 1250 4750 2034 4750 \nz\n\" transform=\"scale(0.015625)\"/>\n       </defs>\n       <use xlink:href=\"#DejaVuSans-30\"/>\n      </g>\n     </g>\n    </g>\n    <g id=\"xtick_2\">\n     <g id=\"line2d_2\">\n      <g>\n       <use xlink:href=\"#m0f28943861\" x=\"155.760369\" y=\"339.84\" style=\"stroke: #000000; stroke-width: 0.8\"/>\n      </g>\n     </g>\n     <g id=\"text_2\">\n      <!-- 2 -->\n      <g transform=\"translate(152.579119 354.438437) scale(0.1 -0.1)\">\n       <defs>\n        <path id=\"DejaVuSans-32\" d=\"M 1228 531 \nL 3431 531 \nL 3431 0 \nL 469 0 \nL 469 531 \nQ 828 903 1448 1529 \nQ 2069 2156 2228 2338 \nQ 2531 2678 2651 2914 \nQ 2772 3150 2772 3378 \nQ 2772 3750 2511 3984 \nQ 2250 4219 1831 4219 \nQ 1534 4219 1204 4116 \nQ 875 4013 500 3803 \nL 500 4441 \nQ 881 4594 1212 4672 \nQ 1544 4750 1819 4750 \nQ 2544 4750 2975 4387 \nQ 3406 4025 3406 3419 \nQ 3406 3131 3298 2873 \nQ 3191 2616 2906 2266 \nQ 2828 2175 2409 1742 \nQ 1991 1309 1228 531 \nz\n\" transform=\"scale(0.015625)\"/>\n       </defs>\n       <use xlink:href=\"#DejaVuSans-32\"/>\n      </g>\n     </g>\n    </g>\n    <g id=\"xtick_3\">\n     <g id=\"line2d_3\">\n      <g>\n       <use xlink:href=\"#m0f28943861\" x=\"257.214915\" y=\"339.84\" style=\"stroke: #000000; stroke-width: 0.8\"/>\n      </g>\n     </g>\n     <g id=\"text_3\">\n      <!-- 4 -->\n      <g transform=\"translate(254.033665 354.438437) scale(0.1 -0.1)\">\n       <defs>\n        <path id=\"DejaVuSans-34\" d=\"M 2419 4116 \nL 825 1625 \nL 2419 1625 \nL 2419 4116 \nz\nM 2253 4666 \nL 3047 4666 \nL 3047 1625 \nL 3713 1625 \nL 3713 1100 \nL 3047 1100 \nL 3047 0 \nL 2419 0 \nL 2419 1100 \nL 313 1100 \nL 313 1709 \nL 2253 4666 \nz\n\" transform=\"scale(0.015625)\"/>\n       </defs>\n       <use xlink:href=\"#DejaVuSans-34\"/>\n      </g>\n     </g>\n    </g>\n    <g id=\"xtick_4\">\n     <g id=\"line2d_4\">\n      <g>\n       <use xlink:href=\"#m0f28943861\" x=\"358.66946\" y=\"339.84\" style=\"stroke: #000000; stroke-width: 0.8\"/>\n      </g>\n     </g>\n     <g id=\"text_4\">\n      <!-- 6 -->\n      <g transform=\"translate(355.48821 354.438437) scale(0.1 -0.1)\">\n       <defs>\n        <path id=\"DejaVuSans-36\" d=\"M 2113 2584 \nQ 1688 2584 1439 2293 \nQ 1191 2003 1191 1497 \nQ 1191 994 1439 701 \nQ 1688 409 2113 409 \nQ 2538 409 2786 701 \nQ 3034 994 3034 1497 \nQ 3034 2003 2786 2293 \nQ 2538 2584 2113 2584 \nz\nM 3366 4563 \nL 3366 3988 \nQ 3128 4100 2886 4159 \nQ 2644 4219 2406 4219 \nQ 1781 4219 1451 3797 \nQ 1122 3375 1075 2522 \nQ 1259 2794 1537 2939 \nQ 1816 3084 2150 3084 \nQ 2853 3084 3261 2657 \nQ 3669 2231 3669 1497 \nQ 3669 778 3244 343 \nQ 2819 -91 2113 -91 \nQ 1303 -91 875 529 \nQ 447 1150 447 2328 \nQ 447 3434 972 4092 \nQ 1497 4750 2381 4750 \nQ 2619 4750 2861 4703 \nQ 3103 4656 3366 4563 \nz\n\" transform=\"scale(0.015625)\"/>\n       </defs>\n       <use xlink:href=\"#DejaVuSans-36\"/>\n      </g>\n     </g>\n    </g>\n    <g id=\"xtick_5\">\n     <g id=\"line2d_5\">\n      <g>\n       <use xlink:href=\"#m0f28943861\" x=\"460.124006\" y=\"339.84\" style=\"stroke: #000000; stroke-width: 0.8\"/>\n      </g>\n     </g>\n     <g id=\"text_5\">\n      <!-- 8 -->\n      <g transform=\"translate(456.942756 354.438437) scale(0.1 -0.1)\">\n       <defs>\n        <path id=\"DejaVuSans-38\" d=\"M 2034 2216 \nQ 1584 2216 1326 1975 \nQ 1069 1734 1069 1313 \nQ 1069 891 1326 650 \nQ 1584 409 2034 409 \nQ 2484 409 2743 651 \nQ 3003 894 3003 1313 \nQ 3003 1734 2745 1975 \nQ 2488 2216 2034 2216 \nz\nM 1403 2484 \nQ 997 2584 770 2862 \nQ 544 3141 544 3541 \nQ 544 4100 942 4425 \nQ 1341 4750 2034 4750 \nQ 2731 4750 3128 4425 \nQ 3525 4100 3525 3541 \nQ 3525 3141 3298 2862 \nQ 3072 2584 2669 2484 \nQ 3125 2378 3379 2068 \nQ 3634 1759 3634 1313 \nQ 3634 634 3220 271 \nQ 2806 -91 2034 -91 \nQ 1263 -91 848 271 \nQ 434 634 434 1313 \nQ 434 1759 690 2068 \nQ 947 2378 1403 2484 \nz\nM 1172 3481 \nQ 1172 3119 1398 2916 \nQ 1625 2713 2034 2713 \nQ 2441 2713 2670 2916 \nQ 2900 3119 2900 3481 \nQ 2900 3844 2670 4047 \nQ 2441 4250 2034 4250 \nQ 1625 4250 1398 4047 \nQ 1172 3844 1172 3481 \nz\n\" transform=\"scale(0.015625)\"/>\n       </defs>\n       <use xlink:href=\"#DejaVuSans-38\"/>\n      </g>\n     </g>\n    </g>\n    <g id=\"xtick_6\">\n     <g id=\"line2d_6\">\n      <g>\n       <use xlink:href=\"#m0f28943861\" x=\"561.578551\" y=\"339.84\" style=\"stroke: #000000; stroke-width: 0.8\"/>\n      </g>\n     </g>\n     <g id=\"text_6\">\n      <!-- 10 -->\n      <g transform=\"translate(555.216051 354.438437) scale(0.1 -0.1)\">\n       <defs>\n        <path id=\"DejaVuSans-31\" d=\"M 794 531 \nL 1825 531 \nL 1825 4091 \nL 703 3866 \nL 703 4441 \nL 1819 4666 \nL 2450 4666 \nL 2450 531 \nL 3481 531 \nL 3481 0 \nL 794 0 \nL 794 531 \nz\n\" transform=\"scale(0.015625)\"/>\n       </defs>\n       <use xlink:href=\"#DejaVuSans-31\"/>\n       <use xlink:href=\"#DejaVuSans-30\" x=\"63.623047\"/>\n      </g>\n     </g>\n    </g>\n   </g>\n   <g id=\"matplotlib.axis_2\">\n    <g id=\"ytick_1\">\n     <g id=\"line2d_7\">\n      <defs>\n       <path id=\"m3c2f31a92a\" d=\"M 0 0 \nL -3.5 0 \n\" style=\"stroke: #000000; stroke-width: 0.8\"/>\n      </defs>\n      <g>\n       <use xlink:href=\"#m3c2f31a92a\" x=\"28.942188\" y=\"315.052389\" style=\"stroke: #000000; stroke-width: 0.8\"/>\n      </g>\n     </g>\n     <g id=\"text_7\">\n      <!-- −6 -->\n      <g transform=\"translate(7.2 318.851607) scale(0.1 -0.1)\">\n       <defs>\n        <path id=\"DejaVuSans-2212\" d=\"M 678 2272 \nL 4684 2272 \nL 4684 1741 \nL 678 1741 \nL 678 2272 \nz\n\" transform=\"scale(0.015625)\"/>\n       </defs>\n       <use xlink:href=\"#DejaVuSans-2212\"/>\n       <use xlink:href=\"#DejaVuSans-36\" x=\"83.789062\"/>\n      </g>\n     </g>\n    </g>\n    <g id=\"ytick_2\">\n     <g id=\"line2d_8\">\n      <g>\n       <use xlink:href=\"#m3c2f31a92a\" x=\"28.942188\" y=\"277.621412\" style=\"stroke: #000000; stroke-width: 0.8\"/>\n      </g>\n     </g>\n     <g id=\"text_8\">\n      <!-- −5 -->\n      <g transform=\"translate(7.2 281.420631) scale(0.1 -0.1)\">\n       <defs>\n        <path id=\"DejaVuSans-35\" d=\"M 691 4666 \nL 3169 4666 \nL 3169 4134 \nL 1269 4134 \nL 1269 2991 \nQ 1406 3038 1543 3061 \nQ 1681 3084 1819 3084 \nQ 2600 3084 3056 2656 \nQ 3513 2228 3513 1497 \nQ 3513 744 3044 326 \nQ 2575 -91 1722 -91 \nQ 1428 -91 1123 -41 \nQ 819 9 494 109 \nL 494 744 \nQ 775 591 1075 516 \nQ 1375 441 1709 441 \nQ 2250 441 2565 725 \nQ 2881 1009 2881 1497 \nQ 2881 1984 2565 2268 \nQ 2250 2553 1709 2553 \nQ 1456 2553 1204 2497 \nQ 953 2441 691 2322 \nL 691 4666 \nz\n\" transform=\"scale(0.015625)\"/>\n       </defs>\n       <use xlink:href=\"#DejaVuSans-2212\"/>\n       <use xlink:href=\"#DejaVuSans-35\" x=\"83.789062\"/>\n      </g>\n     </g>\n    </g>\n    <g id=\"ytick_3\">\n     <g id=\"line2d_9\">\n      <g>\n       <use xlink:href=\"#m3c2f31a92a\" x=\"28.942188\" y=\"240.190436\" style=\"stroke: #000000; stroke-width: 0.8\"/>\n      </g>\n     </g>\n     <g id=\"text_9\">\n      <!-- −4 -->\n      <g transform=\"translate(7.2 243.989655) scale(0.1 -0.1)\">\n       <use xlink:href=\"#DejaVuSans-2212\"/>\n       <use xlink:href=\"#DejaVuSans-34\" x=\"83.789062\"/>\n      </g>\n     </g>\n    </g>\n    <g id=\"ytick_4\">\n     <g id=\"line2d_10\">\n      <g>\n       <use xlink:href=\"#m3c2f31a92a\" x=\"28.942188\" y=\"202.75946\" style=\"stroke: #000000; stroke-width: 0.8\"/>\n      </g>\n     </g>\n     <g id=\"text_10\">\n      <!-- −3 -->\n      <g transform=\"translate(7.2 206.558679) scale(0.1 -0.1)\">\n       <defs>\n        <path id=\"DejaVuSans-33\" d=\"M 2597 2516 \nQ 3050 2419 3304 2112 \nQ 3559 1806 3559 1356 \nQ 3559 666 3084 287 \nQ 2609 -91 1734 -91 \nQ 1441 -91 1130 -33 \nQ 819 25 488 141 \nL 488 750 \nQ 750 597 1062 519 \nQ 1375 441 1716 441 \nQ 2309 441 2620 675 \nQ 2931 909 2931 1356 \nQ 2931 1769 2642 2001 \nQ 2353 2234 1838 2234 \nL 1294 2234 \nL 1294 2753 \nL 1863 2753 \nQ 2328 2753 2575 2939 \nQ 2822 3125 2822 3475 \nQ 2822 3834 2567 4026 \nQ 2313 4219 1838 4219 \nQ 1578 4219 1281 4162 \nQ 984 4106 628 3988 \nL 628 4550 \nQ 988 4650 1302 4700 \nQ 1616 4750 1894 4750 \nQ 2613 4750 3031 4423 \nQ 3450 4097 3450 3541 \nQ 3450 3153 3228 2886 \nQ 3006 2619 2597 2516 \nz\n\" transform=\"scale(0.015625)\"/>\n       </defs>\n       <use xlink:href=\"#DejaVuSans-2212\"/>\n       <use xlink:href=\"#DejaVuSans-33\" x=\"83.789062\"/>\n      </g>\n     </g>\n    </g>\n    <g id=\"ytick_5\">\n     <g id=\"line2d_11\">\n      <g>\n       <use xlink:href=\"#m3c2f31a92a\" x=\"28.942188\" y=\"165.328484\" style=\"stroke: #000000; stroke-width: 0.8\"/>\n      </g>\n     </g>\n     <g id=\"text_11\">\n      <!-- −2 -->\n      <g transform=\"translate(7.2 169.127703) scale(0.1 -0.1)\">\n       <use xlink:href=\"#DejaVuSans-2212\"/>\n       <use xlink:href=\"#DejaVuSans-32\" x=\"83.789062\"/>\n      </g>\n     </g>\n    </g>\n    <g id=\"ytick_6\">\n     <g id=\"line2d_12\">\n      <g>\n       <use xlink:href=\"#m3c2f31a92a\" x=\"28.942188\" y=\"127.897508\" style=\"stroke: #000000; stroke-width: 0.8\"/>\n      </g>\n     </g>\n     <g id=\"text_12\">\n      <!-- −1 -->\n      <g transform=\"translate(7.2 131.696727) scale(0.1 -0.1)\">\n       <use xlink:href=\"#DejaVuSans-2212\"/>\n       <use xlink:href=\"#DejaVuSans-31\" x=\"83.789062\"/>\n      </g>\n     </g>\n    </g>\n    <g id=\"ytick_7\">\n     <g id=\"line2d_13\">\n      <g>\n       <use xlink:href=\"#m3c2f31a92a\" x=\"28.942188\" y=\"90.466532\" style=\"stroke: #000000; stroke-width: 0.8\"/>\n      </g>\n     </g>\n     <g id=\"text_13\">\n      <!-- 0 -->\n      <g transform=\"translate(15.579688 94.265751) scale(0.1 -0.1)\">\n       <use xlink:href=\"#DejaVuSans-30\"/>\n      </g>\n     </g>\n    </g>\n    <g id=\"ytick_8\">\n     <g id=\"line2d_14\">\n      <g>\n       <use xlink:href=\"#m3c2f31a92a\" x=\"28.942188\" y=\"53.035556\" style=\"stroke: #000000; stroke-width: 0.8\"/>\n      </g>\n     </g>\n     <g id=\"text_14\">\n      <!-- 1 -->\n      <g transform=\"translate(15.579688 56.834774) scale(0.1 -0.1)\">\n       <use xlink:href=\"#DejaVuSans-31\"/>\n      </g>\n     </g>\n    </g>\n    <g id=\"ytick_9\">\n     <g id=\"line2d_15\">\n      <g>\n       <use xlink:href=\"#m3c2f31a92a\" x=\"28.942188\" y=\"15.60458\" style=\"stroke: #000000; stroke-width: 0.8\"/>\n      </g>\n     </g>\n     <g id=\"text_15\">\n      <!-- 2 -->\n      <g transform=\"translate(15.579688 19.403798) scale(0.1 -0.1)\">\n       <use xlink:href=\"#DejaVuSans-32\"/>\n      </g>\n     </g>\n    </g>\n   </g>\n   <g id=\"line2d_16\">\n    <path d=\"M 54.305824 179.084913 \nL 59.429791 176.724498 \nL 64.553758 173.347251 \nL 69.677725 169.010828 \nL 74.801692 163.782667 \nL 79.925659 157.739294 \nL 85.049626 150.965546 \nL 90.173592 143.553706 \nL 95.297559 135.602562 \nL 100.421526 127.216401 \nL 105.545493 118.503942 \nL 110.66946 109.577232 \nL 115.793427 100.550503 \nL 120.917394 91.539005 \nL 126.041361 82.657834 \nL 131.165328 74.020756 \nL 136.289295 65.73905 \nL 141.413262 57.920373 \nL 146.537229 50.667658 \nL 151.661196 44.078072 \nL 156.785163 38.24202 \nL 161.90913 33.242226 \nL 167.033097 29.15289 \nL 172.157064 26.038927 \nL 177.28103 23.955312 \nL 182.404997 22.946515 \nL 187.528964 23.046049 \nL 192.652931 24.276127 \nL 197.776898 26.64744 \nL 202.900865 30.159042 \nL 208.024832 34.798362 \nL 213.148799 40.541337 \nL 218.272766 47.352647 \nL 223.396733 55.186085 \nL 228.5207 63.985024 \nL 233.644667 73.682991 \nL 238.768634 84.204353 \nL 243.892601 95.465078 \nL 249.016568 107.3736 \nL 254.140535 119.831748 \nL 259.264502 132.735748 \nL 264.388468 145.97728 \nL 269.512435 159.444585 \nL 274.636402 173.0236 \nL 279.760369 186.599126 \nL 284.884336 200.055997 \nL 290.008303 213.280258 \nL 295.13227 226.160324 \nL 300.256237 238.588121 \nL 305.380204 250.460184 \nL 310.504171 261.678713 \nL 315.628138 272.152572 \nL 320.752105 281.798215 \nL 325.876072 290.54054 \nL 331.000039 298.313654 \nL 336.124006 305.061543 \nL 341.247973 310.738645 \nL 346.37194 315.310316 \nL 351.495907 318.753178 \nL 356.619873 321.055364 \nL 361.74384 322.216631 \nL 366.867807 322.248372 \nL 371.991774 321.173491 \nL 377.115741 319.026176 \nL 382.239708 315.851544 \nL 387.363675 311.70519 \nL 392.487642 306.65261 \nL 397.611609 300.768542 \nL 402.735576 294.1362 \nL 407.859543 286.846424 \nL 412.98351 278.996758 \nL 418.107477 270.690453 \nL 423.231444 262.035417 \nL 428.355411 253.14311 \nL 433.479378 244.127413 \nL 438.603345 235.103463 \nL 443.727311 226.186485 \nL 448.851278 217.490608 \nL 453.975245 209.127712 \nL 459.099212 201.20628 \nL 464.223179 193.830293 \nL 469.347146 187.098176 \nL 474.471113 181.101787 \nL 479.59508 175.925483 \nL 484.719047 171.645263 \nL 489.843014 168.32799 \nL 494.966981 166.03071 \nL 500.090948 164.800072 \nL 505.214915 164.67185 \nL 510.338882 165.67058 \nL 515.462849 167.80931 \nL 520.586816 171.089465 \nL 525.710783 175.500836 \nL 530.834749 181.02168 \nL 535.958716 187.618944 \nL 541.082683 195.248603 \nL 546.20665 203.856106 \nL 551.330617 213.376934 \nL 556.454584 223.737256 \nL 561.578551 234.854685 \n\" clip-path=\"url(#paf3636af5a)\" style=\"fill: none; stroke: #1f77b4; stroke-width: 1.5; stroke-linecap: square\"/>\n   </g>\n   <g id=\"patch_3\">\n    <path d=\"M 28.942188 339.84 \nL 28.942188 7.2 \n\" style=\"fill: none; stroke: #000000; stroke-width: 0.8; stroke-linejoin: miter; stroke-linecap: square\"/>\n   </g>\n   <g id=\"patch_4\">\n    <path d=\"M 586.942188 339.84 \nL 586.942188 7.2 \n\" style=\"fill: none; stroke: #000000; stroke-width: 0.8; stroke-linejoin: miter; stroke-linecap: square\"/>\n   </g>\n   <g id=\"patch_5\">\n    <path d=\"M 28.942187 339.84 \nL 586.942188 339.84 \n\" style=\"fill: none; stroke: #000000; stroke-width: 0.8; stroke-linejoin: miter; stroke-linecap: square\"/>\n   </g>\n   <g id=\"patch_6\">\n    <path d=\"M 28.942187 7.2 \nL 586.942188 7.2 \n\" style=\"fill: none; stroke: #000000; stroke-width: 0.8; stroke-linejoin: miter; stroke-linecap: square\"/>\n   </g>\n  </g>\n </g>\n <defs>\n  <clipPath id=\"paf3636af5a\">\n   <rect x=\"28.942188\" y=\"7.2\" width=\"558\" height=\"332.64\"/>\n  </clipPath>\n </defs>\n</svg>\n"
          },
          "metadata": {}
        }
      ],
      "source": [
        "x_test = np.linspace(0,10,100)\n",
        "x_predict = np.column_stack([np.ones(100), x_test, np.cos(x_test) , np.sin(x_test)])\n",
        "y_predict = x_predict @ theta\n",
        "plt.scatter(x_train, y_train)\n",
        "plt.plot(x_test, y_predict)\n",
        "plt.show()"
      ]
    },
    {
      "cell_type": "markdown",
      "metadata": {
        "tags": [],
        "id": "oJjZXF-w-Ncx"
      },
      "source": [
        "## (d)\n",
        "Do a least squares fit by instead using the `linear_model()` function in `Python`. Check that you get the same estimates as in (b)."
      ]
    },
    {
      "cell_type": "code",
      "execution_count": 46,
      "metadata": {
        "tags": [],
        "id": "i7u8hUR6-Ncx",
        "outputId": "78512cff-a8f8-4604-d539-8ff2473323d5",
        "colab": {
          "base_uri": "https://localhost:8080/"
        }
      },
      "outputs": [
        {
          "output_type": "stream",
          "name": "stdout",
          "text": [
            "0.4211799537486143 [ 0.    -0.603 -2.789  1.088]\n"
          ]
        }
      ],
      "source": [
        "lr = linear_model.LinearRegression()\n",
        "lr.fit(X=X,y=y_train)\n",
        "print(lr.intercept_, lr.coef_)"
      ]
    },
    {
      "cell_type": "markdown",
      "metadata": {
        "tags": [],
        "id": "xeUzjoEX-Ncx"
      },
      "source": [
        "# 2.5  Regularization"
      ]
    },
    {
      "cell_type": "markdown",
      "metadata": {
        "tags": [],
        "id": "2k940xRk-Ncx"
      },
      "source": [
        "In this exercise we will apply Ridge regression and Lasso for fitting a polynomial to a scalar data set. We will have a setting where we first generate synthetic training data from\n",
        "<a id=2.2></a>$$\n",
        "y = x^3 + 2x^2 + 6 + \\epsilon, \\qquad (2.2)\n",
        "$$\n",
        "and later try to learn model for the data.   "
      ]
    },
    {
      "cell_type": "markdown",
      "metadata": {
        "tags": [],
        "id": "g2yRrvCf-Ncy"
      },
      "source": [
        "## (a) <a id='2.5-a'></a>\n",
        "Write a function that implements the polynomial [(2.2)](#2.2), i.e., takes $x$ as argument and returns $x^3 + 2x^2 + 6$."
      ]
    },
    {
      "cell_type": "code",
      "execution_count": 49,
      "metadata": {
        "tags": [],
        "id": "sQPfgguK-Ncy"
      },
      "outputs": [],
      "source": [
        "def f(x):\n",
        "  return x**3 + 2*x**2 + 6\n",
        ""
      ]
    },
    {
      "cell_type": "markdown",
      "metadata": {
        "tags": [],
        "id": "yeC4Mbn6-Ncy"
      },
      "source": [
        "## (b)\n",
        "Use `np.random.seed()` to set the random seed. Use the function `np.linspace()` to construct a vector `x` with `n = 12` elements equally spaced from $-2.3$ to $1$. Then use your function from [(a)](#2.5-a) to construct a vector $\\textbf{y} = [y_1, ..., y_n]^T$ with 12 elements, where $y = x^3 + 2x^2 + 6 + \\epsilon$, with $\\epsilon \\sim  \\mathcal{N(0, 1^2)}$. This is our training data."
      ]
    },
    {
      "cell_type": "code",
      "execution_count": 59,
      "metadata": {
        "tags": [],
        "id": "B3924Rjs-Ncy"
      },
      "outputs": [],
      "source": [
        "ran = np.random.seed(1)\n",
        "x = np.linspace(-2.3, 1, 12)\n",
        "y = f(x) + np.random.normal(0, 1, 12)\n"
      ]
    },
    {
      "cell_type": "markdown",
      "metadata": {
        "tags": [],
        "id": "57iNyX1h-Ncy"
      },
      "source": [
        "## (c)\n",
        "Plot the training data $\\mathcal{T} = \\{x_i, y_i\\}_{i=1}^{12}$ together with the \"true\" function."
      ]
    },
    {
      "cell_type": "code",
      "execution_count": 62,
      "metadata": {
        "tags": [],
        "id": "av-03lha-Ncy",
        "outputId": "cd656896-e035-426b-ab50-776012d98da1",
        "colab": {
          "base_uri": "https://localhost:8080/",
          "height": 506
        }
      },
      "outputs": [
        {
          "output_type": "display_data",
          "data": {
            "text/plain": [
              "<Figure size 1000x600 with 1 Axes>"
            ],
            "image/svg+xml": "<?xml version=\"1.0\" encoding=\"utf-8\" standalone=\"no\"?>\n<!DOCTYPE svg PUBLIC \"-//W3C//DTD SVG 1.1//EN\"\n  \"http://www.w3.org/Graphics/SVG/1.1/DTD/svg11.dtd\">\n<svg xmlns:xlink=\"http://www.w3.org/1999/xlink\" width=\"585.7625pt\" height=\"363.718125pt\" viewBox=\"0 0 585.7625 363.718125\" xmlns=\"http://www.w3.org/2000/svg\" version=\"1.1\">\n <metadata>\n  <rdf:RDF xmlns:dc=\"http://purl.org/dc/elements/1.1/\" xmlns:cc=\"http://creativecommons.org/ns#\" xmlns:rdf=\"http://www.w3.org/1999/02/22-rdf-syntax-ns#\">\n   <cc:Work>\n    <dc:type rdf:resource=\"http://purl.org/dc/dcmitype/StillImage\"/>\n    <dc:date>2024-11-11T12:33:57.825037</dc:date>\n    <dc:format>image/svg+xml</dc:format>\n    <dc:creator>\n     <cc:Agent>\n      <dc:title>Matplotlib v3.8.0, https://matplotlib.org/</dc:title>\n     </cc:Agent>\n    </dc:creator>\n   </cc:Work>\n  </rdf:RDF>\n </metadata>\n <defs>\n  <style type=\"text/css\">*{stroke-linejoin: round; stroke-linecap: butt}</style>\n </defs>\n <g id=\"figure_1\">\n  <g id=\"patch_1\">\n   <path d=\"M 0 363.718125 \nL 585.7625 363.718125 \nL 585.7625 0 \nL 0 0 \nz\n\" style=\"fill: #ffffff\"/>\n  </g>\n  <g id=\"axes_1\">\n   <g id=\"patch_2\">\n    <path d=\"M 20.5625 339.84 \nL 578.5625 339.84 \nL 578.5625 7.2 \nL 20.5625 7.2 \nz\n\" style=\"fill: #ffffff\"/>\n   </g>\n   <g id=\"PathCollection_1\">\n    <defs>\n     <path id=\"m3e72c97840\" d=\"M 0 3 \nC 0.795609 3 1.55874 2.683901 2.12132 2.12132 \nC 2.683901 1.55874 3 0.795609 3 0 \nC 3 -0.795609 2.683901 -1.55874 2.12132 -2.12132 \nC 1.55874 -2.683901 0.795609 -3 0 -3 \nC -0.795609 -3 -1.55874 -2.683901 -2.12132 -2.12132 \nC -2.683901 -1.55874 -3 -0.795609 -3 0 \nC -3 0.795609 -2.683901 1.55874 -2.12132 2.12132 \nC -1.55874 2.683901 -0.795609 3 0 3 \nz\n\" style=\"stroke: #1f77b4\"/>\n    </defs>\n    <g clip-path=\"url(#p2312368996)\">\n     <use xlink:href=\"#m3e72c97840\" x=\"45.926136\" y=\"217.634315\" style=\"fill: #1f77b4; stroke: #1f77b4\"/>\n     <use xlink:href=\"#m3e72c97840\" x=\"92.041839\" y=\"260.426636\" style=\"fill: #1f77b4; stroke: #1f77b4\"/>\n     <use xlink:href=\"#m3e72c97840\" x=\"138.157541\" y=\"197.758923\" style=\"fill: #1f77b4; stroke: #1f77b4\"/>\n     <use xlink:href=\"#m3e72c97840\" x=\"184.273244\" y=\"213.303935\" style=\"fill: #1f77b4; stroke: #1f77b4\"/>\n     <use xlink:href=\"#m3e72c97840\" x=\"230.388946\" y=\"91.251139\" style=\"fill: #1f77b4; stroke: #1f77b4\"/>\n     <use xlink:href=\"#m3e72c97840\" x=\"276.504649\" y=\"321.19554\" style=\"fill: #1f77b4; stroke: #1f77b4\"/>\n     <use xlink:href=\"#m3e72c97840\" x=\"322.620351\" y=\"80.346798\" style=\"fill: #1f77b4; stroke: #1f77b4\"/>\n     <use xlink:href=\"#m3e72c97840\" x=\"368.736054\" y=\"265.532594\" style=\"fill: #1f77b4; stroke: #1f77b4\"/>\n     <use xlink:href=\"#m3e72c97840\" x=\"414.851756\" y=\"197.679097\" style=\"fill: #1f77b4; stroke: #1f77b4\"/>\n     <use xlink:href=\"#m3e72c97840\" x=\"460.967459\" y=\"211.220807\" style=\"fill: #1f77b4; stroke: #1f77b4\"/>\n     <use xlink:href=\"#m3e72c97840\" x=\"507.083161\" y=\"36.486854\" style=\"fill: #1f77b4; stroke: #1f77b4\"/>\n     <use xlink:href=\"#m3e72c97840\" x=\"553.198864\" y=\"158.135686\" style=\"fill: #1f77b4; stroke: #1f77b4\"/>\n    </g>\n   </g>\n   <g id=\"matplotlib.axis_1\">\n    <g id=\"xtick_1\">\n     <g id=\"line2d_1\">\n      <defs>\n       <path id=\"m018fafa92b\" d=\"M 0 0 \nL 0 3.5 \n\" style=\"stroke: #000000; stroke-width: 0.8\"/>\n      </defs>\n      <g>\n       <use xlink:href=\"#m018fafa92b\" x=\"92.041839\" y=\"339.84\" style=\"stroke: #000000; stroke-width: 0.8\"/>\n      </g>\n     </g>\n     <g id=\"text_1\">\n      <!-- −2.0 -->\n      <g transform=\"translate(79.900433 354.438438) scale(0.1 -0.1)\">\n       <defs>\n        <path id=\"DejaVuSans-2212\" d=\"M 678 2272 \nL 4684 2272 \nL 4684 1741 \nL 678 1741 \nL 678 2272 \nz\n\" transform=\"scale(0.015625)\"/>\n        <path id=\"DejaVuSans-32\" d=\"M 1228 531 \nL 3431 531 \nL 3431 0 \nL 469 0 \nL 469 531 \nQ 828 903 1448 1529 \nQ 2069 2156 2228 2338 \nQ 2531 2678 2651 2914 \nQ 2772 3150 2772 3378 \nQ 2772 3750 2511 3984 \nQ 2250 4219 1831 4219 \nQ 1534 4219 1204 4116 \nQ 875 4013 500 3803 \nL 500 4441 \nQ 881 4594 1212 4672 \nQ 1544 4750 1819 4750 \nQ 2544 4750 2975 4387 \nQ 3406 4025 3406 3419 \nQ 3406 3131 3298 2873 \nQ 3191 2616 2906 2266 \nQ 2828 2175 2409 1742 \nQ 1991 1309 1228 531 \nz\n\" transform=\"scale(0.015625)\"/>\n        <path id=\"DejaVuSans-2e\" d=\"M 684 794 \nL 1344 794 \nL 1344 0 \nL 684 0 \nL 684 794 \nz\n\" transform=\"scale(0.015625)\"/>\n        <path id=\"DejaVuSans-30\" d=\"M 2034 4250 \nQ 1547 4250 1301 3770 \nQ 1056 3291 1056 2328 \nQ 1056 1369 1301 889 \nQ 1547 409 2034 409 \nQ 2525 409 2770 889 \nQ 3016 1369 3016 2328 \nQ 3016 3291 2770 3770 \nQ 2525 4250 2034 4250 \nz\nM 2034 4750 \nQ 2819 4750 3233 4129 \nQ 3647 3509 3647 2328 \nQ 3647 1150 3233 529 \nQ 2819 -91 2034 -91 \nQ 1250 -91 836 529 \nQ 422 1150 422 2328 \nQ 422 3509 836 4129 \nQ 1250 4750 2034 4750 \nz\n\" transform=\"scale(0.015625)\"/>\n       </defs>\n       <use xlink:href=\"#DejaVuSans-2212\"/>\n       <use xlink:href=\"#DejaVuSans-32\" x=\"83.789062\"/>\n       <use xlink:href=\"#DejaVuSans-2e\" x=\"147.412109\"/>\n       <use xlink:href=\"#DejaVuSans-30\" x=\"179.199219\"/>\n      </g>\n     </g>\n    </g>\n    <g id=\"xtick_2\">\n     <g id=\"line2d_2\">\n      <g>\n       <use xlink:href=\"#m018fafa92b\" x=\"168.901343\" y=\"339.84\" style=\"stroke: #000000; stroke-width: 0.8\"/>\n      </g>\n     </g>\n     <g id=\"text_2\">\n      <!-- −1.5 -->\n      <g transform=\"translate(156.759937 354.438438) scale(0.1 -0.1)\">\n       <defs>\n        <path id=\"DejaVuSans-31\" d=\"M 794 531 \nL 1825 531 \nL 1825 4091 \nL 703 3866 \nL 703 4441 \nL 1819 4666 \nL 2450 4666 \nL 2450 531 \nL 3481 531 \nL 3481 0 \nL 794 0 \nL 794 531 \nz\n\" transform=\"scale(0.015625)\"/>\n        <path id=\"DejaVuSans-35\" d=\"M 691 4666 \nL 3169 4666 \nL 3169 4134 \nL 1269 4134 \nL 1269 2991 \nQ 1406 3038 1543 3061 \nQ 1681 3084 1819 3084 \nQ 2600 3084 3056 2656 \nQ 3513 2228 3513 1497 \nQ 3513 744 3044 326 \nQ 2575 -91 1722 -91 \nQ 1428 -91 1123 -41 \nQ 819 9 494 109 \nL 494 744 \nQ 775 591 1075 516 \nQ 1375 441 1709 441 \nQ 2250 441 2565 725 \nQ 2881 1009 2881 1497 \nQ 2881 1984 2565 2268 \nQ 2250 2553 1709 2553 \nQ 1456 2553 1204 2497 \nQ 953 2441 691 2322 \nL 691 4666 \nz\n\" transform=\"scale(0.015625)\"/>\n       </defs>\n       <use xlink:href=\"#DejaVuSans-2212\"/>\n       <use xlink:href=\"#DejaVuSans-31\" x=\"83.789062\"/>\n       <use xlink:href=\"#DejaVuSans-2e\" x=\"147.412109\"/>\n       <use xlink:href=\"#DejaVuSans-35\" x=\"179.199219\"/>\n      </g>\n     </g>\n    </g>\n    <g id=\"xtick_3\">\n     <g id=\"line2d_3\">\n      <g>\n       <use xlink:href=\"#m018fafa92b\" x=\"245.760847\" y=\"339.84\" style=\"stroke: #000000; stroke-width: 0.8\"/>\n      </g>\n     </g>\n     <g id=\"text_3\">\n      <!-- −1.0 -->\n      <g transform=\"translate(233.619441 354.438438) scale(0.1 -0.1)\">\n       <use xlink:href=\"#DejaVuSans-2212\"/>\n       <use xlink:href=\"#DejaVuSans-31\" x=\"83.789062\"/>\n       <use xlink:href=\"#DejaVuSans-2e\" x=\"147.412109\"/>\n       <use xlink:href=\"#DejaVuSans-30\" x=\"179.199219\"/>\n      </g>\n     </g>\n    </g>\n    <g id=\"xtick_4\">\n     <g id=\"line2d_4\">\n      <g>\n       <use xlink:href=\"#m018fafa92b\" x=\"322.620351\" y=\"339.84\" style=\"stroke: #000000; stroke-width: 0.8\"/>\n      </g>\n     </g>\n     <g id=\"text_4\">\n      <!-- −0.5 -->\n      <g transform=\"translate(310.478945 354.438438) scale(0.1 -0.1)\">\n       <use xlink:href=\"#DejaVuSans-2212\"/>\n       <use xlink:href=\"#DejaVuSans-30\" x=\"83.789062\"/>\n       <use xlink:href=\"#DejaVuSans-2e\" x=\"147.412109\"/>\n       <use xlink:href=\"#DejaVuSans-35\" x=\"179.199219\"/>\n      </g>\n     </g>\n    </g>\n    <g id=\"xtick_5\">\n     <g id=\"line2d_5\">\n      <g>\n       <use xlink:href=\"#m018fafa92b\" x=\"399.479855\" y=\"339.84\" style=\"stroke: #000000; stroke-width: 0.8\"/>\n      </g>\n     </g>\n     <g id=\"text_5\">\n      <!-- 0.0 -->\n      <g transform=\"translate(391.528293 354.438438) scale(0.1 -0.1)\">\n       <use xlink:href=\"#DejaVuSans-30\"/>\n       <use xlink:href=\"#DejaVuSans-2e\" x=\"63.623047\"/>\n       <use xlink:href=\"#DejaVuSans-30\" x=\"95.410156\"/>\n      </g>\n     </g>\n    </g>\n    <g id=\"xtick_6\">\n     <g id=\"line2d_6\">\n      <g>\n       <use xlink:href=\"#m018fafa92b\" x=\"476.33936\" y=\"339.84\" style=\"stroke: #000000; stroke-width: 0.8\"/>\n      </g>\n     </g>\n     <g id=\"text_6\">\n      <!-- 0.5 -->\n      <g transform=\"translate(468.387797 354.438438) scale(0.1 -0.1)\">\n       <use xlink:href=\"#DejaVuSans-30\"/>\n       <use xlink:href=\"#DejaVuSans-2e\" x=\"63.623047\"/>\n       <use xlink:href=\"#DejaVuSans-35\" x=\"95.410156\"/>\n      </g>\n     </g>\n    </g>\n    <g id=\"xtick_7\">\n     <g id=\"line2d_7\">\n      <g>\n       <use xlink:href=\"#m018fafa92b\" x=\"553.198864\" y=\"339.84\" style=\"stroke: #000000; stroke-width: 0.8\"/>\n      </g>\n     </g>\n     <g id=\"text_7\">\n      <!-- 1.0 -->\n      <g transform=\"translate(545.247301 354.438438) scale(0.1 -0.1)\">\n       <use xlink:href=\"#DejaVuSans-31\"/>\n       <use xlink:href=\"#DejaVuSans-2e\" x=\"63.623047\"/>\n       <use xlink:href=\"#DejaVuSans-30\" x=\"95.410156\"/>\n      </g>\n     </g>\n    </g>\n   </g>\n   <g id=\"matplotlib.axis_2\">\n    <g id=\"ytick_1\">\n     <g id=\"line2d_8\">\n      <defs>\n       <path id=\"m990d926a99\" d=\"M 0 0 \nL -3.5 0 \n\" style=\"stroke: #000000; stroke-width: 0.8\"/>\n      </defs>\n      <g>\n       <use xlink:href=\"#m990d926a99\" x=\"20.5625\" y=\"286.021766\" style=\"stroke: #000000; stroke-width: 0.8\"/>\n      </g>\n     </g>\n     <g id=\"text_8\">\n      <!-- 5 -->\n      <g transform=\"translate(7.2 289.820985) scale(0.1 -0.1)\">\n       <use xlink:href=\"#DejaVuSans-35\"/>\n      </g>\n     </g>\n    </g>\n    <g id=\"ytick_2\">\n     <g id=\"line2d_9\">\n      <g>\n       <use xlink:href=\"#m990d926a99\" x=\"20.5625\" y=\"220.096324\" style=\"stroke: #000000; stroke-width: 0.8\"/>\n      </g>\n     </g>\n     <g id=\"text_9\">\n      <!-- 6 -->\n      <g transform=\"translate(7.2 223.895543) scale(0.1 -0.1)\">\n       <defs>\n        <path id=\"DejaVuSans-36\" d=\"M 2113 2584 \nQ 1688 2584 1439 2293 \nQ 1191 2003 1191 1497 \nQ 1191 994 1439 701 \nQ 1688 409 2113 409 \nQ 2538 409 2786 701 \nQ 3034 994 3034 1497 \nQ 3034 2003 2786 2293 \nQ 2538 2584 2113 2584 \nz\nM 3366 4563 \nL 3366 3988 \nQ 3128 4100 2886 4159 \nQ 2644 4219 2406 4219 \nQ 1781 4219 1451 3797 \nQ 1122 3375 1075 2522 \nQ 1259 2794 1537 2939 \nQ 1816 3084 2150 3084 \nQ 2853 3084 3261 2657 \nQ 3669 2231 3669 1497 \nQ 3669 778 3244 343 \nQ 2819 -91 2113 -91 \nQ 1303 -91 875 529 \nQ 447 1150 447 2328 \nQ 447 3434 972 4092 \nQ 1497 4750 2381 4750 \nQ 2619 4750 2861 4703 \nQ 3103 4656 3366 4563 \nz\n\" transform=\"scale(0.015625)\"/>\n       </defs>\n       <use xlink:href=\"#DejaVuSans-36\"/>\n      </g>\n     </g>\n    </g>\n    <g id=\"ytick_3\">\n     <g id=\"line2d_10\">\n      <g>\n       <use xlink:href=\"#m990d926a99\" x=\"20.5625\" y=\"154.170883\" style=\"stroke: #000000; stroke-width: 0.8\"/>\n      </g>\n     </g>\n     <g id=\"text_10\">\n      <!-- 7 -->\n      <g transform=\"translate(7.2 157.970102) scale(0.1 -0.1)\">\n       <defs>\n        <path id=\"DejaVuSans-37\" d=\"M 525 4666 \nL 3525 4666 \nL 3525 4397 \nL 1831 0 \nL 1172 0 \nL 2766 4134 \nL 525 4134 \nL 525 4666 \nz\n\" transform=\"scale(0.015625)\"/>\n       </defs>\n       <use xlink:href=\"#DejaVuSans-37\"/>\n      </g>\n     </g>\n    </g>\n    <g id=\"ytick_4\">\n     <g id=\"line2d_11\">\n      <g>\n       <use xlink:href=\"#m990d926a99\" x=\"20.5625\" y=\"88.245441\" style=\"stroke: #000000; stroke-width: 0.8\"/>\n      </g>\n     </g>\n     <g id=\"text_11\">\n      <!-- 8 -->\n      <g transform=\"translate(7.2 92.04466) scale(0.1 -0.1)\">\n       <defs>\n        <path id=\"DejaVuSans-38\" d=\"M 2034 2216 \nQ 1584 2216 1326 1975 \nQ 1069 1734 1069 1313 \nQ 1069 891 1326 650 \nQ 1584 409 2034 409 \nQ 2484 409 2743 651 \nQ 3003 894 3003 1313 \nQ 3003 1734 2745 1975 \nQ 2488 2216 2034 2216 \nz\nM 1403 2484 \nQ 997 2584 770 2862 \nQ 544 3141 544 3541 \nQ 544 4100 942 4425 \nQ 1341 4750 2034 4750 \nQ 2731 4750 3128 4425 \nQ 3525 4100 3525 3541 \nQ 3525 3141 3298 2862 \nQ 3072 2584 2669 2484 \nQ 3125 2378 3379 2068 \nQ 3634 1759 3634 1313 \nQ 3634 634 3220 271 \nQ 2806 -91 2034 -91 \nQ 1263 -91 848 271 \nQ 434 634 434 1313 \nQ 434 1759 690 2068 \nQ 947 2378 1403 2484 \nz\nM 1172 3481 \nQ 1172 3119 1398 2916 \nQ 1625 2713 2034 2713 \nQ 2441 2713 2670 2916 \nQ 2900 3119 2900 3481 \nQ 2900 3844 2670 4047 \nQ 2441 4250 2034 4250 \nQ 1625 4250 1398 4047 \nQ 1172 3844 1172 3481 \nz\n\" transform=\"scale(0.015625)\"/>\n       </defs>\n       <use xlink:href=\"#DejaVuSans-38\"/>\n      </g>\n     </g>\n    </g>\n    <g id=\"ytick_5\">\n     <g id=\"line2d_12\">\n      <g>\n       <use xlink:href=\"#m990d926a99\" x=\"20.5625\" y=\"22.32\" style=\"stroke: #000000; stroke-width: 0.8\"/>\n      </g>\n     </g>\n     <g id=\"text_12\">\n      <!-- 9 -->\n      <g transform=\"translate(7.2 26.119219) scale(0.1 -0.1)\">\n       <defs>\n        <path id=\"DejaVuSans-39\" d=\"M 703 97 \nL 703 672 \nQ 941 559 1184 500 \nQ 1428 441 1663 441 \nQ 2288 441 2617 861 \nQ 2947 1281 2994 2138 \nQ 2813 1869 2534 1725 \nQ 2256 1581 1919 1581 \nQ 1219 1581 811 2004 \nQ 403 2428 403 3163 \nQ 403 3881 828 4315 \nQ 1253 4750 1959 4750 \nQ 2769 4750 3195 4129 \nQ 3622 3509 3622 2328 \nQ 3622 1225 3098 567 \nQ 2575 -91 1691 -91 \nQ 1453 -91 1209 -44 \nQ 966 3 703 97 \nz\nM 1959 2075 \nQ 2384 2075 2632 2365 \nQ 2881 2656 2881 3163 \nQ 2881 3666 2632 3958 \nQ 2384 4250 1959 4250 \nQ 1534 4250 1286 3958 \nQ 1038 3666 1038 3163 \nQ 1038 2656 1286 2365 \nQ 1534 2075 1959 2075 \nz\n\" transform=\"scale(0.015625)\"/>\n       </defs>\n       <use xlink:href=\"#DejaVuSans-39\"/>\n      </g>\n     </g>\n    </g>\n   </g>\n   <g id=\"line2d_13\">\n    <path d=\"M 45.926136 324.72 \nL 92.041839 220.096324 \nL 138.157541 162.938967 \nL 184.273244 142.568005 \nL 230.388946 148.303519 \nL 276.504649 169.465585 \nL 322.620351 195.374284 \nL 368.736054 215.349693 \nL 414.851756 218.71189 \nL 460.967459 194.780955 \nL 507.083161 132.876965 \nL 553.198864 22.32 \n\" clip-path=\"url(#p2312368996)\" style=\"fill: none; stroke: #1f77b4; stroke-width: 1.5; stroke-linecap: square\"/>\n   </g>\n   <g id=\"patch_3\">\n    <path d=\"M 20.5625 339.84 \nL 20.5625 7.2 \n\" style=\"fill: none; stroke: #000000; stroke-width: 0.8; stroke-linejoin: miter; stroke-linecap: square\"/>\n   </g>\n   <g id=\"patch_4\">\n    <path d=\"M 578.5625 339.84 \nL 578.5625 7.2 \n\" style=\"fill: none; stroke: #000000; stroke-width: 0.8; stroke-linejoin: miter; stroke-linecap: square\"/>\n   </g>\n   <g id=\"patch_5\">\n    <path d=\"M 20.5625 339.84 \nL 578.5625 339.84 \n\" style=\"fill: none; stroke: #000000; stroke-width: 0.8; stroke-linejoin: miter; stroke-linecap: square\"/>\n   </g>\n   <g id=\"patch_6\">\n    <path d=\"M 20.5625 7.2 \nL 578.5625 7.2 \n\" style=\"fill: none; stroke: #000000; stroke-width: 0.8; stroke-linejoin: miter; stroke-linecap: square\"/>\n   </g>\n  </g>\n </g>\n <defs>\n  <clipPath id=\"p2312368996\">\n   <rect x=\"20.5625\" y=\"7.2\" width=\"558\" height=\"332.64\"/>\n  </clipPath>\n </defs>\n</svg>\n"
          },
          "metadata": {}
        }
      ],
      "source": [
        "plt.scatter(x, y)\n",
        "plt.plot(x, f(x))\n",
        "plt.show()"
      ]
    },
    {
      "cell_type": "markdown",
      "metadata": {
        "tags": [],
        "id": "ILu6GJ3A-Ncy"
      },
      "source": [
        "## (d)\n",
        "Fit a straight line to the data with $y$ as output and $x$ as input and plot the predicted output $\\hat{y}_{\\star}$ for densely spaced $x_{\\star}$ values between $-2.3$ and $1$. Plot these predictions in the same plot window."
      ]
    },
    {
      "cell_type": "code",
      "execution_count": 66,
      "metadata": {
        "tags": [],
        "id": "pZYNDva0-Ncy",
        "outputId": "30302e5a-6f12-4783-96f7-a98e80edf6f9",
        "colab": {
          "base_uri": "https://localhost:8080/",
          "height": 511
        }
      },
      "outputs": [
        {
          "output_type": "display_data",
          "data": {
            "text/plain": [
              "<Figure size 1000x600 with 1 Axes>"
            ],
            "image/svg+xml": "<?xml version=\"1.0\" encoding=\"utf-8\" standalone=\"no\"?>\n<!DOCTYPE svg PUBLIC \"-//W3C//DTD SVG 1.1//EN\"\n  \"http://www.w3.org/Graphics/SVG/1.1/DTD/svg11.dtd\">\n<svg xmlns:xlink=\"http://www.w3.org/1999/xlink\" width=\"585.7625pt\" height=\"367.444502pt\" viewBox=\"0 0 585.7625 367.444502\" xmlns=\"http://www.w3.org/2000/svg\" version=\"1.1\">\n <metadata>\n  <rdf:RDF xmlns:dc=\"http://purl.org/dc/elements/1.1/\" xmlns:cc=\"http://creativecommons.org/ns#\" xmlns:rdf=\"http://www.w3.org/1999/02/22-rdf-syntax-ns#\">\n   <cc:Work>\n    <dc:type rdf:resource=\"http://purl.org/dc/dcmitype/StillImage\"/>\n    <dc:date>2024-11-11T12:35:51.317594</dc:date>\n    <dc:format>image/svg+xml</dc:format>\n    <dc:creator>\n     <cc:Agent>\n      <dc:title>Matplotlib v3.8.0, https://matplotlib.org/</dc:title>\n     </cc:Agent>\n    </dc:creator>\n   </cc:Work>\n  </rdf:RDF>\n </metadata>\n <defs>\n  <style type=\"text/css\">*{stroke-linejoin: round; stroke-linecap: butt}</style>\n </defs>\n <g id=\"figure_1\">\n  <g id=\"patch_1\">\n   <path d=\"M 0 367.444502 \nL 585.7625 367.444502 \nL 585.7625 0 \nL 0 0 \nz\n\" style=\"fill: #ffffff\"/>\n  </g>\n  <g id=\"axes_1\">\n   <g id=\"patch_2\">\n    <path d=\"M 20.5625 343.566377 \nL 578.5625 343.566377 \nL 578.5625 10.926377 \nL 20.5625 10.926377 \nz\n\" style=\"fill: #ffffff\"/>\n   </g>\n   <g id=\"PathCollection_1\">\n    <defs>\n     <path id=\"m4dbc690511\" d=\"M 0 3 \nC 0.795609 3 1.55874 2.683901 2.12132 2.12132 \nC 2.683901 1.55874 3 0.795609 3 0 \nC 3 -0.795609 2.683901 -1.55874 2.12132 -2.12132 \nC 1.55874 -2.683901 0.795609 -3 0 -3 \nC -0.795609 -3 -1.55874 -2.683901 -2.12132 -2.12132 \nC -2.683901 -1.55874 -3 -0.795609 -3 0 \nC -3 0.795609 -2.683901 1.55874 -2.12132 2.12132 \nC -1.55874 2.683901 -0.795609 3 0 3 \nz\n\" style=\"stroke: #1f77b4\"/>\n    </defs>\n    <g clip-path=\"url(#p3ccb07aa5e)\">\n     <use xlink:href=\"#m4dbc690511\" x=\"45.926136\" y=\"218.450033\" style=\"fill: #1f77b4; stroke: #1f77b4\"/>\n     <use xlink:href=\"#m4dbc690511\" x=\"92.041839\" y=\"263.901397\" style=\"fill: #1f77b4; stroke: #1f77b4\"/>\n     <use xlink:href=\"#m4dbc690511\" x=\"138.157541\" y=\"197.339618\" style=\"fill: #1f77b4; stroke: #1f77b4\"/>\n     <use xlink:href=\"#m4dbc690511\" x=\"184.273244\" y=\"213.850571\" style=\"fill: #1f77b4; stroke: #1f77b4\"/>\n     <use xlink:href=\"#m4dbc690511\" x=\"230.388946\" y=\"84.213621\" style=\"fill: #1f77b4; stroke: #1f77b4\"/>\n     <use xlink:href=\"#m4dbc690511\" x=\"276.504649\" y=\"328.446377\" style=\"fill: #1f77b4; stroke: #1f77b4\"/>\n     <use xlink:href=\"#m4dbc690511\" x=\"322.620351\" y=\"72.631703\" style=\"fill: #1f77b4; stroke: #1f77b4\"/>\n     <use xlink:href=\"#m4dbc690511\" x=\"368.736054\" y=\"269.32463\" style=\"fill: #1f77b4; stroke: #1f77b4\"/>\n     <use xlink:href=\"#m4dbc690511\" x=\"414.851756\" y=\"197.254832\" style=\"fill: #1f77b4; stroke: #1f77b4\"/>\n     <use xlink:href=\"#m4dbc690511\" x=\"460.967459\" y=\"211.638001\" style=\"fill: #1f77b4; stroke: #1f77b4\"/>\n     <use xlink:href=\"#m4dbc690511\" x=\"507.083161\" y=\"26.046377\" style=\"fill: #1f77b4; stroke: #1f77b4\"/>\n     <use xlink:href=\"#m4dbc690511\" x=\"553.198864\" y=\"155.254261\" style=\"fill: #1f77b4; stroke: #1f77b4\"/>\n    </g>\n   </g>\n   <g id=\"matplotlib.axis_1\">\n    <g id=\"xtick_1\">\n     <g id=\"line2d_1\">\n      <defs>\n       <path id=\"mdc5cce5d5c\" d=\"M 0 0 \nL 0 3.5 \n\" style=\"stroke: #000000; stroke-width: 0.8\"/>\n      </defs>\n      <g>\n       <use xlink:href=\"#mdc5cce5d5c\" x=\"92.041839\" y=\"343.566377\" style=\"stroke: #000000; stroke-width: 0.8\"/>\n      </g>\n     </g>\n     <g id=\"text_1\">\n      <!-- −2.0 -->\n      <g transform=\"translate(79.900433 358.164815) scale(0.1 -0.1)\">\n       <defs>\n        <path id=\"DejaVuSans-2212\" d=\"M 678 2272 \nL 4684 2272 \nL 4684 1741 \nL 678 1741 \nL 678 2272 \nz\n\" transform=\"scale(0.015625)\"/>\n        <path id=\"DejaVuSans-32\" d=\"M 1228 531 \nL 3431 531 \nL 3431 0 \nL 469 0 \nL 469 531 \nQ 828 903 1448 1529 \nQ 2069 2156 2228 2338 \nQ 2531 2678 2651 2914 \nQ 2772 3150 2772 3378 \nQ 2772 3750 2511 3984 \nQ 2250 4219 1831 4219 \nQ 1534 4219 1204 4116 \nQ 875 4013 500 3803 \nL 500 4441 \nQ 881 4594 1212 4672 \nQ 1544 4750 1819 4750 \nQ 2544 4750 2975 4387 \nQ 3406 4025 3406 3419 \nQ 3406 3131 3298 2873 \nQ 3191 2616 2906 2266 \nQ 2828 2175 2409 1742 \nQ 1991 1309 1228 531 \nz\n\" transform=\"scale(0.015625)\"/>\n        <path id=\"DejaVuSans-2e\" d=\"M 684 794 \nL 1344 794 \nL 1344 0 \nL 684 0 \nL 684 794 \nz\n\" transform=\"scale(0.015625)\"/>\n        <path id=\"DejaVuSans-30\" d=\"M 2034 4250 \nQ 1547 4250 1301 3770 \nQ 1056 3291 1056 2328 \nQ 1056 1369 1301 889 \nQ 1547 409 2034 409 \nQ 2525 409 2770 889 \nQ 3016 1369 3016 2328 \nQ 3016 3291 2770 3770 \nQ 2525 4250 2034 4250 \nz\nM 2034 4750 \nQ 2819 4750 3233 4129 \nQ 3647 3509 3647 2328 \nQ 3647 1150 3233 529 \nQ 2819 -91 2034 -91 \nQ 1250 -91 836 529 \nQ 422 1150 422 2328 \nQ 422 3509 836 4129 \nQ 1250 4750 2034 4750 \nz\n\" transform=\"scale(0.015625)\"/>\n       </defs>\n       <use xlink:href=\"#DejaVuSans-2212\"/>\n       <use xlink:href=\"#DejaVuSans-32\" x=\"83.789062\"/>\n       <use xlink:href=\"#DejaVuSans-2e\" x=\"147.412109\"/>\n       <use xlink:href=\"#DejaVuSans-30\" x=\"179.199219\"/>\n      </g>\n     </g>\n    </g>\n    <g id=\"xtick_2\">\n     <g id=\"line2d_2\">\n      <g>\n       <use xlink:href=\"#mdc5cce5d5c\" x=\"168.901343\" y=\"343.566377\" style=\"stroke: #000000; stroke-width: 0.8\"/>\n      </g>\n     </g>\n     <g id=\"text_2\">\n      <!-- −1.5 -->\n      <g transform=\"translate(156.759937 358.164815) scale(0.1 -0.1)\">\n       <defs>\n        <path id=\"DejaVuSans-31\" d=\"M 794 531 \nL 1825 531 \nL 1825 4091 \nL 703 3866 \nL 703 4441 \nL 1819 4666 \nL 2450 4666 \nL 2450 531 \nL 3481 531 \nL 3481 0 \nL 794 0 \nL 794 531 \nz\n\" transform=\"scale(0.015625)\"/>\n        <path id=\"DejaVuSans-35\" d=\"M 691 4666 \nL 3169 4666 \nL 3169 4134 \nL 1269 4134 \nL 1269 2991 \nQ 1406 3038 1543 3061 \nQ 1681 3084 1819 3084 \nQ 2600 3084 3056 2656 \nQ 3513 2228 3513 1497 \nQ 3513 744 3044 326 \nQ 2575 -91 1722 -91 \nQ 1428 -91 1123 -41 \nQ 819 9 494 109 \nL 494 744 \nQ 775 591 1075 516 \nQ 1375 441 1709 441 \nQ 2250 441 2565 725 \nQ 2881 1009 2881 1497 \nQ 2881 1984 2565 2268 \nQ 2250 2553 1709 2553 \nQ 1456 2553 1204 2497 \nQ 953 2441 691 2322 \nL 691 4666 \nz\n\" transform=\"scale(0.015625)\"/>\n       </defs>\n       <use xlink:href=\"#DejaVuSans-2212\"/>\n       <use xlink:href=\"#DejaVuSans-31\" x=\"83.789062\"/>\n       <use xlink:href=\"#DejaVuSans-2e\" x=\"147.412109\"/>\n       <use xlink:href=\"#DejaVuSans-35\" x=\"179.199219\"/>\n      </g>\n     </g>\n    </g>\n    <g id=\"xtick_3\">\n     <g id=\"line2d_3\">\n      <g>\n       <use xlink:href=\"#mdc5cce5d5c\" x=\"245.760847\" y=\"343.566377\" style=\"stroke: #000000; stroke-width: 0.8\"/>\n      </g>\n     </g>\n     <g id=\"text_3\">\n      <!-- −1.0 -->\n      <g transform=\"translate(233.619441 358.164815) scale(0.1 -0.1)\">\n       <use xlink:href=\"#DejaVuSans-2212\"/>\n       <use xlink:href=\"#DejaVuSans-31\" x=\"83.789062\"/>\n       <use xlink:href=\"#DejaVuSans-2e\" x=\"147.412109\"/>\n       <use xlink:href=\"#DejaVuSans-30\" x=\"179.199219\"/>\n      </g>\n     </g>\n    </g>\n    <g id=\"xtick_4\">\n     <g id=\"line2d_4\">\n      <g>\n       <use xlink:href=\"#mdc5cce5d5c\" x=\"322.620351\" y=\"343.566377\" style=\"stroke: #000000; stroke-width: 0.8\"/>\n      </g>\n     </g>\n     <g id=\"text_4\">\n      <!-- −0.5 -->\n      <g transform=\"translate(310.478945 358.164815) scale(0.1 -0.1)\">\n       <use xlink:href=\"#DejaVuSans-2212\"/>\n       <use xlink:href=\"#DejaVuSans-30\" x=\"83.789062\"/>\n       <use xlink:href=\"#DejaVuSans-2e\" x=\"147.412109\"/>\n       <use xlink:href=\"#DejaVuSans-35\" x=\"179.199219\"/>\n      </g>\n     </g>\n    </g>\n    <g id=\"xtick_5\">\n     <g id=\"line2d_5\">\n      <g>\n       <use xlink:href=\"#mdc5cce5d5c\" x=\"399.479855\" y=\"343.566377\" style=\"stroke: #000000; stroke-width: 0.8\"/>\n      </g>\n     </g>\n     <g id=\"text_5\">\n      <!-- 0.0 -->\n      <g transform=\"translate(391.528293 358.164815) scale(0.1 -0.1)\">\n       <use xlink:href=\"#DejaVuSans-30\"/>\n       <use xlink:href=\"#DejaVuSans-2e\" x=\"63.623047\"/>\n       <use xlink:href=\"#DejaVuSans-30\" x=\"95.410156\"/>\n      </g>\n     </g>\n    </g>\n    <g id=\"xtick_6\">\n     <g id=\"line2d_6\">\n      <g>\n       <use xlink:href=\"#mdc5cce5d5c\" x=\"476.33936\" y=\"343.566377\" style=\"stroke: #000000; stroke-width: 0.8\"/>\n      </g>\n     </g>\n     <g id=\"text_6\">\n      <!-- 0.5 -->\n      <g transform=\"translate(468.387797 358.164815) scale(0.1 -0.1)\">\n       <use xlink:href=\"#DejaVuSans-30\"/>\n       <use xlink:href=\"#DejaVuSans-2e\" x=\"63.623047\"/>\n       <use xlink:href=\"#DejaVuSans-35\" x=\"95.410156\"/>\n      </g>\n     </g>\n    </g>\n    <g id=\"xtick_7\">\n     <g id=\"line2d_7\">\n      <g>\n       <use xlink:href=\"#mdc5cce5d5c\" x=\"553.198864\" y=\"343.566377\" style=\"stroke: #000000; stroke-width: 0.8\"/>\n      </g>\n     </g>\n     <g id=\"text_7\">\n      <!-- 1.0 -->\n      <g transform=\"translate(545.247301 358.164815) scale(0.1 -0.1)\">\n       <use xlink:href=\"#DejaVuSans-31\"/>\n       <use xlink:href=\"#DejaVuSans-2e\" x=\"63.623047\"/>\n       <use xlink:href=\"#DejaVuSans-30\" x=\"95.410156\"/>\n      </g>\n     </g>\n    </g>\n   </g>\n   <g id=\"matplotlib.axis_2\">\n    <g id=\"ytick_1\">\n     <g id=\"line2d_8\">\n      <defs>\n       <path id=\"m3cd7f18875\" d=\"M 0 0 \nL -3.5 0 \n\" style=\"stroke: #000000; stroke-width: 0.8\"/>\n      </defs>\n      <g>\n       <use xlink:href=\"#m3cd7f18875\" x=\"20.5625\" y=\"291.086964\" style=\"stroke: #000000; stroke-width: 0.8\"/>\n      </g>\n     </g>\n     <g id=\"text_8\">\n      <!-- 5 -->\n      <g transform=\"translate(7.2 294.886183) scale(0.1 -0.1)\">\n       <use xlink:href=\"#DejaVuSans-35\"/>\n      </g>\n     </g>\n    </g>\n    <g id=\"ytick_2\">\n     <g id=\"line2d_9\">\n      <g>\n       <use xlink:href=\"#m3cd7f18875\" x=\"20.5625\" y=\"221.065028\" style=\"stroke: #000000; stroke-width: 0.8\"/>\n      </g>\n     </g>\n     <g id=\"text_9\">\n      <!-- 6 -->\n      <g transform=\"translate(7.2 224.864247) scale(0.1 -0.1)\">\n       <defs>\n        <path id=\"DejaVuSans-36\" d=\"M 2113 2584 \nQ 1688 2584 1439 2293 \nQ 1191 2003 1191 1497 \nQ 1191 994 1439 701 \nQ 1688 409 2113 409 \nQ 2538 409 2786 701 \nQ 3034 994 3034 1497 \nQ 3034 2003 2786 2293 \nQ 2538 2584 2113 2584 \nz\nM 3366 4563 \nL 3366 3988 \nQ 3128 4100 2886 4159 \nQ 2644 4219 2406 4219 \nQ 1781 4219 1451 3797 \nQ 1122 3375 1075 2522 \nQ 1259 2794 1537 2939 \nQ 1816 3084 2150 3084 \nQ 2853 3084 3261 2657 \nQ 3669 2231 3669 1497 \nQ 3669 778 3244 343 \nQ 2819 -91 2113 -91 \nQ 1303 -91 875 529 \nQ 447 1150 447 2328 \nQ 447 3434 972 4092 \nQ 1497 4750 2381 4750 \nQ 2619 4750 2861 4703 \nQ 3103 4656 3366 4563 \nz\n\" transform=\"scale(0.015625)\"/>\n       </defs>\n       <use xlink:href=\"#DejaVuSans-36\"/>\n      </g>\n     </g>\n    </g>\n    <g id=\"ytick_3\">\n     <g id=\"line2d_10\">\n      <g>\n       <use xlink:href=\"#m3cd7f18875\" x=\"20.5625\" y=\"151.043092\" style=\"stroke: #000000; stroke-width: 0.8\"/>\n      </g>\n     </g>\n     <g id=\"text_10\">\n      <!-- 7 -->\n      <g transform=\"translate(7.2 154.84231) scale(0.1 -0.1)\">\n       <defs>\n        <path id=\"DejaVuSans-37\" d=\"M 525 4666 \nL 3525 4666 \nL 3525 4397 \nL 1831 0 \nL 1172 0 \nL 2766 4134 \nL 525 4134 \nL 525 4666 \nz\n\" transform=\"scale(0.015625)\"/>\n       </defs>\n       <use xlink:href=\"#DejaVuSans-37\"/>\n      </g>\n     </g>\n    </g>\n    <g id=\"ytick_4\">\n     <g id=\"line2d_11\">\n      <g>\n       <use xlink:href=\"#m3cd7f18875\" x=\"20.5625\" y=\"81.021155\" style=\"stroke: #000000; stroke-width: 0.8\"/>\n      </g>\n     </g>\n     <g id=\"text_11\">\n      <!-- 8 -->\n      <g transform=\"translate(7.2 84.820374) scale(0.1 -0.1)\">\n       <defs>\n        <path id=\"DejaVuSans-38\" d=\"M 2034 2216 \nQ 1584 2216 1326 1975 \nQ 1069 1734 1069 1313 \nQ 1069 891 1326 650 \nQ 1584 409 2034 409 \nQ 2484 409 2743 651 \nQ 3003 894 3003 1313 \nQ 3003 1734 2745 1975 \nQ 2488 2216 2034 2216 \nz\nM 1403 2484 \nQ 997 2584 770 2862 \nQ 544 3141 544 3541 \nQ 544 4100 942 4425 \nQ 1341 4750 2034 4750 \nQ 2731 4750 3128 4425 \nQ 3525 4100 3525 3541 \nQ 3525 3141 3298 2862 \nQ 3072 2584 2669 2484 \nQ 3125 2378 3379 2068 \nQ 3634 1759 3634 1313 \nQ 3634 634 3220 271 \nQ 2806 -91 2034 -91 \nQ 1263 -91 848 271 \nQ 434 634 434 1313 \nQ 434 1759 690 2068 \nQ 947 2378 1403 2484 \nz\nM 1172 3481 \nQ 1172 3119 1398 2916 \nQ 1625 2713 2034 2713 \nQ 2441 2713 2670 2916 \nQ 2900 3119 2900 3481 \nQ 2900 3844 2670 4047 \nQ 2441 4250 2034 4250 \nQ 1625 4250 1398 4047 \nQ 1172 3844 1172 3481 \nz\n\" transform=\"scale(0.015625)\"/>\n       </defs>\n       <use xlink:href=\"#DejaVuSans-38\"/>\n      </g>\n     </g>\n    </g>\n    <g id=\"ytick_5\">\n     <g id=\"line2d_12\">\n      <g>\n       <use xlink:href=\"#m3cd7f18875\" x=\"20.5625\" y=\"10.999219\" style=\"stroke: #000000; stroke-width: 0.8\"/>\n      </g>\n     </g>\n     <g id=\"text_12\">\n      <!-- 9 -->\n      <g transform=\"translate(7.2 14.798437) scale(0.1 -0.1)\">\n       <defs>\n        <path id=\"DejaVuSans-39\" d=\"M 703 97 \nL 703 672 \nQ 941 559 1184 500 \nQ 1428 441 1663 441 \nQ 2288 441 2617 861 \nQ 2947 1281 2994 2138 \nQ 2813 1869 2534 1725 \nQ 2256 1581 1919 1581 \nQ 1219 1581 811 2004 \nQ 403 2428 403 3163 \nQ 403 3881 828 4315 \nQ 1253 4750 1959 4750 \nQ 2769 4750 3195 4129 \nQ 3622 3509 3622 2328 \nQ 3622 1225 3098 567 \nQ 2575 -91 1691 -91 \nQ 1453 -91 1209 -44 \nQ 966 3 703 97 \nz\nM 1959 2075 \nQ 2384 2075 2632 2365 \nQ 2881 2656 2881 3163 \nQ 2881 3666 2632 3958 \nQ 2384 4250 1959 4250 \nQ 1534 4250 1286 3958 \nQ 1038 3666 1038 3163 \nQ 1038 2656 1286 2365 \nQ 1534 2075 1959 2075 \nz\n\" transform=\"scale(0.015625)\"/>\n       </defs>\n       <use xlink:href=\"#DejaVuSans-39\"/>\n      </g>\n     </g>\n    </g>\n   </g>\n   <g id=\"line2d_13\">\n    <path d=\"M 45.926136 234.97583 \nL 92.041839 226.167367 \nL 138.157541 217.358905 \nL 184.273244 208.550442 \nL 230.388946 199.741979 \nL 276.504649 190.933517 \nL 322.620351 182.125054 \nL 368.736054 173.316591 \nL 414.851756 164.508128 \nL 460.967459 155.699666 \nL 507.083161 146.891203 \nL 553.198864 138.08274 \n\" clip-path=\"url(#p3ccb07aa5e)\" style=\"fill: none; stroke: #1f77b4; stroke-width: 1.5; stroke-linecap: square\"/>\n   </g>\n   <g id=\"patch_3\">\n    <path d=\"M 20.5625 343.566377 \nL 20.5625 10.926377 \n\" style=\"fill: none; stroke: #000000; stroke-width: 0.8; stroke-linejoin: miter; stroke-linecap: square\"/>\n   </g>\n   <g id=\"patch_4\">\n    <path d=\"M 578.5625 343.566377 \nL 578.5625 10.926377 \n\" style=\"fill: none; stroke: #000000; stroke-width: 0.8; stroke-linejoin: miter; stroke-linecap: square\"/>\n   </g>\n   <g id=\"patch_5\">\n    <path d=\"M 20.5625 343.566377 \nL 578.5625 343.566377 \n\" style=\"fill: none; stroke: #000000; stroke-width: 0.8; stroke-linejoin: miter; stroke-linecap: square\"/>\n   </g>\n   <g id=\"patch_6\">\n    <path d=\"M 20.5625 10.926377 \nL 578.5625 10.926377 \n\" style=\"fill: none; stroke: #000000; stroke-width: 0.8; stroke-linejoin: miter; stroke-linecap: square\"/>\n   </g>\n  </g>\n </g>\n <defs>\n  <clipPath id=\"p3ccb07aa5e\">\n   <rect x=\"20.5625\" y=\"10.926377\" width=\"558\" height=\"332.64\"/>\n  </clipPath>\n </defs>\n</svg>\n"
          },
          "metadata": {}
        }
      ],
      "source": [
        "line = np.polyfit(x, y, 1)\n",
        "x_star = np.linspace(-2.3, 1, 12)\n",
        "y_star = np.polyval(line, x_star)\n",
        "plt.scatter(x, y)\n",
        "plt.plot(x_star, y_star)\n",
        "plt.show()"
      ]
    },
    {
      "cell_type": "markdown",
      "metadata": {
        "tags": [],
        "id": "vxyvYNXF-Ncy"
      },
      "source": [
        "## (e)\n",
        "Fit an 11th degree polynomial to the data with linear regression. Plot the corresponding predictions."
      ]
    },
    {
      "cell_type": "code",
      "execution_count": 68,
      "metadata": {
        "tags": [],
        "id": "xF6JNo8n-Ncy",
        "outputId": "5fa33ad2-4bc3-43a7-bbda-97bf7f7c0a1d",
        "colab": {
          "base_uri": "https://localhost:8080/",
          "height": 511
        }
      },
      "outputs": [
        {
          "output_type": "display_data",
          "data": {
            "text/plain": [
              "<Figure size 1000x600 with 1 Axes>"
            ],
            "image/svg+xml": "<?xml version=\"1.0\" encoding=\"utf-8\" standalone=\"no\"?>\n<!DOCTYPE svg PUBLIC \"-//W3C//DTD SVG 1.1//EN\"\n  \"http://www.w3.org/Graphics/SVG/1.1/DTD/svg11.dtd\">\n<svg xmlns:xlink=\"http://www.w3.org/1999/xlink\" width=\"585.7625pt\" height=\"367.444502pt\" viewBox=\"0 0 585.7625 367.444502\" xmlns=\"http://www.w3.org/2000/svg\" version=\"1.1\">\n <metadata>\n  <rdf:RDF xmlns:dc=\"http://purl.org/dc/elements/1.1/\" xmlns:cc=\"http://creativecommons.org/ns#\" xmlns:rdf=\"http://www.w3.org/1999/02/22-rdf-syntax-ns#\">\n   <cc:Work>\n    <dc:type rdf:resource=\"http://purl.org/dc/dcmitype/StillImage\"/>\n    <dc:date>2024-11-11T12:35:58.462431</dc:date>\n    <dc:format>image/svg+xml</dc:format>\n    <dc:creator>\n     <cc:Agent>\n      <dc:title>Matplotlib v3.8.0, https://matplotlib.org/</dc:title>\n     </cc:Agent>\n    </dc:creator>\n   </cc:Work>\n  </rdf:RDF>\n </metadata>\n <defs>\n  <style type=\"text/css\">*{stroke-linejoin: round; stroke-linecap: butt}</style>\n </defs>\n <g id=\"figure_1\">\n  <g id=\"patch_1\">\n   <path d=\"M 0 367.444502 \nL 585.7625 367.444502 \nL 585.7625 0 \nL 0 0 \nz\n\" style=\"fill: #ffffff\"/>\n  </g>\n  <g id=\"axes_1\">\n   <g id=\"patch_2\">\n    <path d=\"M 20.5625 343.566377 \nL 578.5625 343.566377 \nL 578.5625 10.926377 \nL 20.5625 10.926377 \nz\n\" style=\"fill: #ffffff\"/>\n   </g>\n   <g id=\"PathCollection_1\">\n    <defs>\n     <path id=\"me71feccb0a\" d=\"M 0 3 \nC 0.795609 3 1.55874 2.683901 2.12132 2.12132 \nC 2.683901 1.55874 3 0.795609 3 0 \nC 3 -0.795609 2.683901 -1.55874 2.12132 -2.12132 \nC 1.55874 -2.683901 0.795609 -3 0 -3 \nC -0.795609 -3 -1.55874 -2.683901 -2.12132 -2.12132 \nC -2.683901 -1.55874 -3 -0.795609 -3 0 \nC -3 0.795609 -2.683901 1.55874 -2.12132 2.12132 \nC -1.55874 2.683901 -0.795609 3 0 3 \nz\n\" style=\"stroke: #1f77b4\"/>\n    </defs>\n    <g clip-path=\"url(#pe387a5d6fd)\">\n     <use xlink:href=\"#me71feccb0a\" x=\"45.926136\" y=\"218.450033\" style=\"fill: #1f77b4; stroke: #1f77b4\"/>\n     <use xlink:href=\"#me71feccb0a\" x=\"92.041839\" y=\"263.901397\" style=\"fill: #1f77b4; stroke: #1f77b4\"/>\n     <use xlink:href=\"#me71feccb0a\" x=\"138.157541\" y=\"197.339618\" style=\"fill: #1f77b4; stroke: #1f77b4\"/>\n     <use xlink:href=\"#me71feccb0a\" x=\"184.273244\" y=\"213.850571\" style=\"fill: #1f77b4; stroke: #1f77b4\"/>\n     <use xlink:href=\"#me71feccb0a\" x=\"230.388946\" y=\"84.213621\" style=\"fill: #1f77b4; stroke: #1f77b4\"/>\n     <use xlink:href=\"#me71feccb0a\" x=\"276.504649\" y=\"328.446377\" style=\"fill: #1f77b4; stroke: #1f77b4\"/>\n     <use xlink:href=\"#me71feccb0a\" x=\"322.620351\" y=\"72.631703\" style=\"fill: #1f77b4; stroke: #1f77b4\"/>\n     <use xlink:href=\"#me71feccb0a\" x=\"368.736054\" y=\"269.32463\" style=\"fill: #1f77b4; stroke: #1f77b4\"/>\n     <use xlink:href=\"#me71feccb0a\" x=\"414.851756\" y=\"197.254832\" style=\"fill: #1f77b4; stroke: #1f77b4\"/>\n     <use xlink:href=\"#me71feccb0a\" x=\"460.967459\" y=\"211.638001\" style=\"fill: #1f77b4; stroke: #1f77b4\"/>\n     <use xlink:href=\"#me71feccb0a\" x=\"507.083161\" y=\"26.046377\" style=\"fill: #1f77b4; stroke: #1f77b4\"/>\n     <use xlink:href=\"#me71feccb0a\" x=\"553.198864\" y=\"155.254261\" style=\"fill: #1f77b4; stroke: #1f77b4\"/>\n    </g>\n   </g>\n   <g id=\"matplotlib.axis_1\">\n    <g id=\"xtick_1\">\n     <g id=\"line2d_1\">\n      <defs>\n       <path id=\"mea80a4d1a0\" d=\"M 0 0 \nL 0 3.5 \n\" style=\"stroke: #000000; stroke-width: 0.8\"/>\n      </defs>\n      <g>\n       <use xlink:href=\"#mea80a4d1a0\" x=\"92.041839\" y=\"343.566377\" style=\"stroke: #000000; stroke-width: 0.8\"/>\n      </g>\n     </g>\n     <g id=\"text_1\">\n      <!-- −2.0 -->\n      <g transform=\"translate(79.900433 358.164815) scale(0.1 -0.1)\">\n       <defs>\n        <path id=\"DejaVuSans-2212\" d=\"M 678 2272 \nL 4684 2272 \nL 4684 1741 \nL 678 1741 \nL 678 2272 \nz\n\" transform=\"scale(0.015625)\"/>\n        <path id=\"DejaVuSans-32\" d=\"M 1228 531 \nL 3431 531 \nL 3431 0 \nL 469 0 \nL 469 531 \nQ 828 903 1448 1529 \nQ 2069 2156 2228 2338 \nQ 2531 2678 2651 2914 \nQ 2772 3150 2772 3378 \nQ 2772 3750 2511 3984 \nQ 2250 4219 1831 4219 \nQ 1534 4219 1204 4116 \nQ 875 4013 500 3803 \nL 500 4441 \nQ 881 4594 1212 4672 \nQ 1544 4750 1819 4750 \nQ 2544 4750 2975 4387 \nQ 3406 4025 3406 3419 \nQ 3406 3131 3298 2873 \nQ 3191 2616 2906 2266 \nQ 2828 2175 2409 1742 \nQ 1991 1309 1228 531 \nz\n\" transform=\"scale(0.015625)\"/>\n        <path id=\"DejaVuSans-2e\" d=\"M 684 794 \nL 1344 794 \nL 1344 0 \nL 684 0 \nL 684 794 \nz\n\" transform=\"scale(0.015625)\"/>\n        <path id=\"DejaVuSans-30\" d=\"M 2034 4250 \nQ 1547 4250 1301 3770 \nQ 1056 3291 1056 2328 \nQ 1056 1369 1301 889 \nQ 1547 409 2034 409 \nQ 2525 409 2770 889 \nQ 3016 1369 3016 2328 \nQ 3016 3291 2770 3770 \nQ 2525 4250 2034 4250 \nz\nM 2034 4750 \nQ 2819 4750 3233 4129 \nQ 3647 3509 3647 2328 \nQ 3647 1150 3233 529 \nQ 2819 -91 2034 -91 \nQ 1250 -91 836 529 \nQ 422 1150 422 2328 \nQ 422 3509 836 4129 \nQ 1250 4750 2034 4750 \nz\n\" transform=\"scale(0.015625)\"/>\n       </defs>\n       <use xlink:href=\"#DejaVuSans-2212\"/>\n       <use xlink:href=\"#DejaVuSans-32\" x=\"83.789062\"/>\n       <use xlink:href=\"#DejaVuSans-2e\" x=\"147.412109\"/>\n       <use xlink:href=\"#DejaVuSans-30\" x=\"179.199219\"/>\n      </g>\n     </g>\n    </g>\n    <g id=\"xtick_2\">\n     <g id=\"line2d_2\">\n      <g>\n       <use xlink:href=\"#mea80a4d1a0\" x=\"168.901343\" y=\"343.566377\" style=\"stroke: #000000; stroke-width: 0.8\"/>\n      </g>\n     </g>\n     <g id=\"text_2\">\n      <!-- −1.5 -->\n      <g transform=\"translate(156.759937 358.164815) scale(0.1 -0.1)\">\n       <defs>\n        <path id=\"DejaVuSans-31\" d=\"M 794 531 \nL 1825 531 \nL 1825 4091 \nL 703 3866 \nL 703 4441 \nL 1819 4666 \nL 2450 4666 \nL 2450 531 \nL 3481 531 \nL 3481 0 \nL 794 0 \nL 794 531 \nz\n\" transform=\"scale(0.015625)\"/>\n        <path id=\"DejaVuSans-35\" d=\"M 691 4666 \nL 3169 4666 \nL 3169 4134 \nL 1269 4134 \nL 1269 2991 \nQ 1406 3038 1543 3061 \nQ 1681 3084 1819 3084 \nQ 2600 3084 3056 2656 \nQ 3513 2228 3513 1497 \nQ 3513 744 3044 326 \nQ 2575 -91 1722 -91 \nQ 1428 -91 1123 -41 \nQ 819 9 494 109 \nL 494 744 \nQ 775 591 1075 516 \nQ 1375 441 1709 441 \nQ 2250 441 2565 725 \nQ 2881 1009 2881 1497 \nQ 2881 1984 2565 2268 \nQ 2250 2553 1709 2553 \nQ 1456 2553 1204 2497 \nQ 953 2441 691 2322 \nL 691 4666 \nz\n\" transform=\"scale(0.015625)\"/>\n       </defs>\n       <use xlink:href=\"#DejaVuSans-2212\"/>\n       <use xlink:href=\"#DejaVuSans-31\" x=\"83.789062\"/>\n       <use xlink:href=\"#DejaVuSans-2e\" x=\"147.412109\"/>\n       <use xlink:href=\"#DejaVuSans-35\" x=\"179.199219\"/>\n      </g>\n     </g>\n    </g>\n    <g id=\"xtick_3\">\n     <g id=\"line2d_3\">\n      <g>\n       <use xlink:href=\"#mea80a4d1a0\" x=\"245.760847\" y=\"343.566377\" style=\"stroke: #000000; stroke-width: 0.8\"/>\n      </g>\n     </g>\n     <g id=\"text_3\">\n      <!-- −1.0 -->\n      <g transform=\"translate(233.619441 358.164815) scale(0.1 -0.1)\">\n       <use xlink:href=\"#DejaVuSans-2212\"/>\n       <use xlink:href=\"#DejaVuSans-31\" x=\"83.789062\"/>\n       <use xlink:href=\"#DejaVuSans-2e\" x=\"147.412109\"/>\n       <use xlink:href=\"#DejaVuSans-30\" x=\"179.199219\"/>\n      </g>\n     </g>\n    </g>\n    <g id=\"xtick_4\">\n     <g id=\"line2d_4\">\n      <g>\n       <use xlink:href=\"#mea80a4d1a0\" x=\"322.620351\" y=\"343.566377\" style=\"stroke: #000000; stroke-width: 0.8\"/>\n      </g>\n     </g>\n     <g id=\"text_4\">\n      <!-- −0.5 -->\n      <g transform=\"translate(310.478945 358.164815) scale(0.1 -0.1)\">\n       <use xlink:href=\"#DejaVuSans-2212\"/>\n       <use xlink:href=\"#DejaVuSans-30\" x=\"83.789062\"/>\n       <use xlink:href=\"#DejaVuSans-2e\" x=\"147.412109\"/>\n       <use xlink:href=\"#DejaVuSans-35\" x=\"179.199219\"/>\n      </g>\n     </g>\n    </g>\n    <g id=\"xtick_5\">\n     <g id=\"line2d_5\">\n      <g>\n       <use xlink:href=\"#mea80a4d1a0\" x=\"399.479855\" y=\"343.566377\" style=\"stroke: #000000; stroke-width: 0.8\"/>\n      </g>\n     </g>\n     <g id=\"text_5\">\n      <!-- 0.0 -->\n      <g transform=\"translate(391.528293 358.164815) scale(0.1 -0.1)\">\n       <use xlink:href=\"#DejaVuSans-30\"/>\n       <use xlink:href=\"#DejaVuSans-2e\" x=\"63.623047\"/>\n       <use xlink:href=\"#DejaVuSans-30\" x=\"95.410156\"/>\n      </g>\n     </g>\n    </g>\n    <g id=\"xtick_6\">\n     <g id=\"line2d_6\">\n      <g>\n       <use xlink:href=\"#mea80a4d1a0\" x=\"476.33936\" y=\"343.566377\" style=\"stroke: #000000; stroke-width: 0.8\"/>\n      </g>\n     </g>\n     <g id=\"text_6\">\n      <!-- 0.5 -->\n      <g transform=\"translate(468.387797 358.164815) scale(0.1 -0.1)\">\n       <use xlink:href=\"#DejaVuSans-30\"/>\n       <use xlink:href=\"#DejaVuSans-2e\" x=\"63.623047\"/>\n       <use xlink:href=\"#DejaVuSans-35\" x=\"95.410156\"/>\n      </g>\n     </g>\n    </g>\n    <g id=\"xtick_7\">\n     <g id=\"line2d_7\">\n      <g>\n       <use xlink:href=\"#mea80a4d1a0\" x=\"553.198864\" y=\"343.566377\" style=\"stroke: #000000; stroke-width: 0.8\"/>\n      </g>\n     </g>\n     <g id=\"text_7\">\n      <!-- 1.0 -->\n      <g transform=\"translate(545.247301 358.164815) scale(0.1 -0.1)\">\n       <use xlink:href=\"#DejaVuSans-31\"/>\n       <use xlink:href=\"#DejaVuSans-2e\" x=\"63.623047\"/>\n       <use xlink:href=\"#DejaVuSans-30\" x=\"95.410156\"/>\n      </g>\n     </g>\n    </g>\n   </g>\n   <g id=\"matplotlib.axis_2\">\n    <g id=\"ytick_1\">\n     <g id=\"line2d_8\">\n      <defs>\n       <path id=\"m05586ecdf9\" d=\"M 0 0 \nL -3.5 0 \n\" style=\"stroke: #000000; stroke-width: 0.8\"/>\n      </defs>\n      <g>\n       <use xlink:href=\"#m05586ecdf9\" x=\"20.5625\" y=\"291.086964\" style=\"stroke: #000000; stroke-width: 0.8\"/>\n      </g>\n     </g>\n     <g id=\"text_8\">\n      <!-- 5 -->\n      <g transform=\"translate(7.2 294.886183) scale(0.1 -0.1)\">\n       <use xlink:href=\"#DejaVuSans-35\"/>\n      </g>\n     </g>\n    </g>\n    <g id=\"ytick_2\">\n     <g id=\"line2d_9\">\n      <g>\n       <use xlink:href=\"#m05586ecdf9\" x=\"20.5625\" y=\"221.065028\" style=\"stroke: #000000; stroke-width: 0.8\"/>\n      </g>\n     </g>\n     <g id=\"text_9\">\n      <!-- 6 -->\n      <g transform=\"translate(7.2 224.864247) scale(0.1 -0.1)\">\n       <defs>\n        <path id=\"DejaVuSans-36\" d=\"M 2113 2584 \nQ 1688 2584 1439 2293 \nQ 1191 2003 1191 1497 \nQ 1191 994 1439 701 \nQ 1688 409 2113 409 \nQ 2538 409 2786 701 \nQ 3034 994 3034 1497 \nQ 3034 2003 2786 2293 \nQ 2538 2584 2113 2584 \nz\nM 3366 4563 \nL 3366 3988 \nQ 3128 4100 2886 4159 \nQ 2644 4219 2406 4219 \nQ 1781 4219 1451 3797 \nQ 1122 3375 1075 2522 \nQ 1259 2794 1537 2939 \nQ 1816 3084 2150 3084 \nQ 2853 3084 3261 2657 \nQ 3669 2231 3669 1497 \nQ 3669 778 3244 343 \nQ 2819 -91 2113 -91 \nQ 1303 -91 875 529 \nQ 447 1150 447 2328 \nQ 447 3434 972 4092 \nQ 1497 4750 2381 4750 \nQ 2619 4750 2861 4703 \nQ 3103 4656 3366 4563 \nz\n\" transform=\"scale(0.015625)\"/>\n       </defs>\n       <use xlink:href=\"#DejaVuSans-36\"/>\n      </g>\n     </g>\n    </g>\n    <g id=\"ytick_3\">\n     <g id=\"line2d_10\">\n      <g>\n       <use xlink:href=\"#m05586ecdf9\" x=\"20.5625\" y=\"151.043092\" style=\"stroke: #000000; stroke-width: 0.8\"/>\n      </g>\n     </g>\n     <g id=\"text_10\">\n      <!-- 7 -->\n      <g transform=\"translate(7.2 154.84231) scale(0.1 -0.1)\">\n       <defs>\n        <path id=\"DejaVuSans-37\" d=\"M 525 4666 \nL 3525 4666 \nL 3525 4397 \nL 1831 0 \nL 1172 0 \nL 2766 4134 \nL 525 4134 \nL 525 4666 \nz\n\" transform=\"scale(0.015625)\"/>\n       </defs>\n       <use xlink:href=\"#DejaVuSans-37\"/>\n      </g>\n     </g>\n    </g>\n    <g id=\"ytick_4\">\n     <g id=\"line2d_11\">\n      <g>\n       <use xlink:href=\"#m05586ecdf9\" x=\"20.5625\" y=\"81.021155\" style=\"stroke: #000000; stroke-width: 0.8\"/>\n      </g>\n     </g>\n     <g id=\"text_11\">\n      <!-- 8 -->\n      <g transform=\"translate(7.2 84.820374) scale(0.1 -0.1)\">\n       <defs>\n        <path id=\"DejaVuSans-38\" d=\"M 2034 2216 \nQ 1584 2216 1326 1975 \nQ 1069 1734 1069 1313 \nQ 1069 891 1326 650 \nQ 1584 409 2034 409 \nQ 2484 409 2743 651 \nQ 3003 894 3003 1313 \nQ 3003 1734 2745 1975 \nQ 2488 2216 2034 2216 \nz\nM 1403 2484 \nQ 997 2584 770 2862 \nQ 544 3141 544 3541 \nQ 544 4100 942 4425 \nQ 1341 4750 2034 4750 \nQ 2731 4750 3128 4425 \nQ 3525 4100 3525 3541 \nQ 3525 3141 3298 2862 \nQ 3072 2584 2669 2484 \nQ 3125 2378 3379 2068 \nQ 3634 1759 3634 1313 \nQ 3634 634 3220 271 \nQ 2806 -91 2034 -91 \nQ 1263 -91 848 271 \nQ 434 634 434 1313 \nQ 434 1759 690 2068 \nQ 947 2378 1403 2484 \nz\nM 1172 3481 \nQ 1172 3119 1398 2916 \nQ 1625 2713 2034 2713 \nQ 2441 2713 2670 2916 \nQ 2900 3119 2900 3481 \nQ 2900 3844 2670 4047 \nQ 2441 4250 2034 4250 \nQ 1625 4250 1398 4047 \nQ 1172 3844 1172 3481 \nz\n\" transform=\"scale(0.015625)\"/>\n       </defs>\n       <use xlink:href=\"#DejaVuSans-38\"/>\n      </g>\n     </g>\n    </g>\n    <g id=\"ytick_5\">\n     <g id=\"line2d_12\">\n      <g>\n       <use xlink:href=\"#m05586ecdf9\" x=\"20.5625\" y=\"10.999219\" style=\"stroke: #000000; stroke-width: 0.8\"/>\n      </g>\n     </g>\n     <g id=\"text_12\">\n      <!-- 9 -->\n      <g transform=\"translate(7.2 14.798437) scale(0.1 -0.1)\">\n       <defs>\n        <path id=\"DejaVuSans-39\" d=\"M 703 97 \nL 703 672 \nQ 941 559 1184 500 \nQ 1428 441 1663 441 \nQ 2288 441 2617 861 \nQ 2947 1281 2994 2138 \nQ 2813 1869 2534 1725 \nQ 2256 1581 1919 1581 \nQ 1219 1581 811 2004 \nQ 403 2428 403 3163 \nQ 403 3881 828 4315 \nQ 1253 4750 1959 4750 \nQ 2769 4750 3195 4129 \nQ 3622 3509 3622 2328 \nQ 3622 1225 3098 567 \nQ 2575 -91 1691 -91 \nQ 1453 -91 1209 -44 \nQ 966 3 703 97 \nz\nM 1959 2075 \nQ 2384 2075 2632 2365 \nQ 2881 2656 2881 3163 \nQ 2881 3666 2632 3958 \nQ 2384 4250 1959 4250 \nQ 1534 4250 1286 3958 \nQ 1038 3666 1038 3163 \nQ 1038 2656 1286 2365 \nQ 1534 2075 1959 2075 \nz\n\" transform=\"scale(0.015625)\"/>\n       </defs>\n       <use xlink:href=\"#DejaVuSans-39\"/>\n      </g>\n     </g>\n    </g>\n   </g>\n   <g id=\"line2d_13\">\n    <path d=\"M 45.926136 218.450033 \nL 92.041839 263.901397 \nL 138.157541 197.339618 \nL 184.273244 213.850571 \nL 230.388946 84.213621 \nL 276.504649 328.446377 \nL 322.620351 72.631703 \nL 368.736054 269.32463 \nL 414.851756 197.254832 \nL 460.967459 211.638001 \nL 507.083161 26.046377 \nL 553.198864 155.254261 \n\" clip-path=\"url(#pe387a5d6fd)\" style=\"fill: none; stroke: #1f77b4; stroke-width: 1.5; stroke-linecap: square\"/>\n   </g>\n   <g id=\"patch_3\">\n    <path d=\"M 20.5625 343.566377 \nL 20.5625 10.926377 \n\" style=\"fill: none; stroke: #000000; stroke-width: 0.8; stroke-linejoin: miter; stroke-linecap: square\"/>\n   </g>\n   <g id=\"patch_4\">\n    <path d=\"M 578.5625 343.566377 \nL 578.5625 10.926377 \n\" style=\"fill: none; stroke: #000000; stroke-width: 0.8; stroke-linejoin: miter; stroke-linecap: square\"/>\n   </g>\n   <g id=\"patch_5\">\n    <path d=\"M 20.5625 343.566377 \nL 578.5625 343.566377 \n\" style=\"fill: none; stroke: #000000; stroke-width: 0.8; stroke-linejoin: miter; stroke-linecap: square\"/>\n   </g>\n   <g id=\"patch_6\">\n    <path d=\"M 20.5625 10.926377 \nL 578.5625 10.926377 \n\" style=\"fill: none; stroke: #000000; stroke-width: 0.8; stroke-linejoin: miter; stroke-linecap: square\"/>\n   </g>\n  </g>\n </g>\n <defs>\n  <clipPath id=\"pe387a5d6fd\">\n   <rect x=\"20.5625\" y=\"10.926377\" width=\"558\" height=\"332.64\"/>\n  </clipPath>\n </defs>\n</svg>\n"
          },
          "metadata": {}
        }
      ],
      "source": [
        "eleven = np.polyfit(x, y, deg = 11)\n",
        "x_star = np.linspace(-2.3, 1, 12)\n",
        "y_star = np.polyval(eleven, x_star)\n",
        "plt.scatter(x, y)\n",
        "plt.plot(x_star, y_star)\n",
        "plt.show()"
      ]
    },
    {
      "cell_type": "markdown",
      "metadata": {
        "tags": [],
        "id": "d1kmmA7P-Ncy"
      },
      "source": [
        "## (f)\n",
        "\n",
        "Use the fucntion `sklearn.linear_model.Ridge` and `sklearn.linear_model.Lasso` to fit a 11th degree polynomial. Also inspect the estimated coefficients. Try different values of penalty term $\\alpha$. What do you observe?\n"
      ]
    },
    {
      "cell_type": "code",
      "execution_count": 79,
      "metadata": {
        "scrolled": false,
        "tags": [],
        "id": "_5fvrrG4-Ncy",
        "outputId": "e1d06dd5-84a6-4de3-f1b4-3f72a951c9df",
        "colab": {
          "base_uri": "https://localhost:8080/"
        }
      },
      "outputs": [
        {
          "output_type": "stream",
          "name": "stdout",
          "text": [
            "[ 0.     0.511  0.496  0.161  0.197 -0.047 -0.07  -0.065 -0.228 -0.205\n",
            " -0.079 -0.012]\n"
          ]
        }
      ],
      "source": [
        "sklearn = linear_model.Ridge(alpha=1)\n",
        "sklearn.fit(np.column_stack([x**i for i in range(12)]), y)\n",
        "print(sklearn.coef_)"
      ]
    }
  ],
  "metadata": {
    "@webio": {
      "lastCommId": null,
      "lastKernelId": null
    },
    "celltoolbar": "Tags",
    "kernelspec": {
      "display_name": "Python 3",
      "language": "python",
      "name": "python3"
    },
    "language_info": {
      "codemirror_mode": {
        "name": "ipython",
        "version": 3
      },
      "file_extension": ".py",
      "mimetype": "text/x-python",
      "name": "python",
      "nbconvert_exporter": "python",
      "pygments_lexer": "ipython3",
      "version": "3.7.6"
    },
    "colab": {
      "provenance": []
    }
  },
  "nbformat": 4,
  "nbformat_minor": 0
}